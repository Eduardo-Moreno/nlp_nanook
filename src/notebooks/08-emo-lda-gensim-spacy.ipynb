{
 "cells": [
  {
   "cell_type": "code",
   "execution_count": 1,
   "metadata": {},
   "outputs": [],
   "source": [
    "import pandas as pd\n",
    "import matplotlib.pyplot as plt\n",
    "import seaborn as sns\n",
    "import spacy\n",
    "import pyLDAvis.gensim_models\n",
    "pyLDAvis.enable_notebook()\n",
    "from gensim.corpora.dictionary import Dictionary\n",
    "from gensim.models import LdaMulticore\n",
    "from gensim.models import CoherenceModel"
   ]
  },
  {
   "attachments": {},
   "cell_type": "markdown",
   "metadata": {},
   "source": [
    "# Load data"
   ]
  },
  {
   "cell_type": "code",
   "execution_count": 2,
   "metadata": {},
   "outputs": [],
   "source": [
    "df = pd.read_pickle(\"../../data/preprocessed/stemm_lemm_stop_words.pkl\")"
   ]
  },
  {
   "cell_type": "code",
   "execution_count": 3,
   "metadata": {},
   "outputs": [
    {
     "data": {
      "text/html": [
       "<div>\n",
       "<style scoped>\n",
       "    .dataframe tbody tr th:only-of-type {\n",
       "        vertical-align: middle;\n",
       "    }\n",
       "\n",
       "    .dataframe tbody tr th {\n",
       "        vertical-align: top;\n",
       "    }\n",
       "\n",
       "    .dataframe thead th {\n",
       "        text-align: right;\n",
       "    }\n",
       "</style>\n",
       "<table border=\"1\" class=\"dataframe\">\n",
       "  <thead>\n",
       "    <tr style=\"text-align: right;\">\n",
       "      <th></th>\n",
       "      <th>Facebook Id</th>\n",
       "      <th>Post Created</th>\n",
       "      <th>Total Interactions</th>\n",
       "      <th>Likes</th>\n",
       "      <th>Comments</th>\n",
       "      <th>Shares</th>\n",
       "      <th>Love</th>\n",
       "      <th>Wow</th>\n",
       "      <th>Haha</th>\n",
       "      <th>Sad</th>\n",
       "      <th>Angry</th>\n",
       "      <th>Care</th>\n",
       "      <th>Message_stpWrd</th>\n",
       "      <th>Message_clean_stpWrd</th>\n",
       "      <th>Message_clean_stemm_stpWrd</th>\n",
       "      <th>Message_clean_lemm_stpWrd</th>\n",
       "    </tr>\n",
       "  </thead>\n",
       "  <tbody>\n",
       "    <tr>\n",
       "      <th>0</th>\n",
       "      <td>100069920850250</td>\n",
       "      <td>2017-12-31 23:43:00 CST</td>\n",
       "      <td>18</td>\n",
       "      <td>16</td>\n",
       "      <td>0</td>\n",
       "      <td>2</td>\n",
       "      <td>0</td>\n",
       "      <td>0</td>\n",
       "      <td>0</td>\n",
       "      <td>0</td>\n",
       "      <td>0</td>\n",
       "      <td>0</td>\n",
       "      <td>Mitigar cambio climático pies tierra. http://r...</td>\n",
       "      <td>mitigar cambio climatico pies tierra</td>\n",
       "      <td>mitig cambi climat pies tierr</td>\n",
       "      <td>mitigar cambio climatico pie tierra</td>\n",
       "    </tr>\n",
       "    <tr>\n",
       "      <th>1</th>\n",
       "      <td>100064929514903</td>\n",
       "      <td>2017-12-31 23:00:11 CST</td>\n",
       "      <td>3</td>\n",
       "      <td>3</td>\n",
       "      <td>0</td>\n",
       "      <td>0</td>\n",
       "      <td>0</td>\n",
       "      <td>0</td>\n",
       "      <td>0</td>\n",
       "      <td>0</td>\n",
       "      <td>0</td>\n",
       "      <td>0</td>\n",
       "      <td>#México 🇲🇽 | Ciudad México urbe Latinoamérica ...</td>\n",
       "      <td>mexico ciudad mexico urbe latinoamerica busca ...</td>\n",
       "      <td>mexic ciud mexic urbe latinoamer busc siguient...</td>\n",
       "      <td>mexico ciudad mexico urbe latinoamerica buscar...</td>\n",
       "    </tr>\n",
       "    <tr>\n",
       "      <th>2</th>\n",
       "      <td>100063648342761</td>\n",
       "      <td>2017-12-31 21:57:39 CST</td>\n",
       "      <td>115</td>\n",
       "      <td>68</td>\n",
       "      <td>33</td>\n",
       "      <td>3</td>\n",
       "      <td>11</td>\n",
       "      <td>0</td>\n",
       "      <td>0</td>\n",
       "      <td>0</td>\n",
       "      <td>0</td>\n",
       "      <td>0</td>\n",
       "      <td>2018 comienza deseo corazón hagan disfruten, p...</td>\n",
       "      <td>2018 comienza deseo corazon hagan disfruten ma...</td>\n",
       "      <td>par 2018 comienz dese corazon hag tod disfrut ...</td>\n",
       "      <td>2018 comenzar desear corazon disfrutar mas aun...</td>\n",
       "    </tr>\n",
       "    <tr>\n",
       "      <th>3</th>\n",
       "      <td>100067009789858</td>\n",
       "      <td>2017-12-31 20:41:50 CST</td>\n",
       "      <td>5</td>\n",
       "      <td>2</td>\n",
       "      <td>0</td>\n",
       "      <td>1</td>\n",
       "      <td>0</td>\n",
       "      <td>0</td>\n",
       "      <td>0</td>\n",
       "      <td>1</td>\n",
       "      <td>1</td>\n",
       "      <td>0</td>\n",
       "      <td>ONU lanza alerta roja 2018 armas nucleares, vi...</td>\n",
       "      <td>onu lanza alerta roja 2018 armas nucleares vio...</td>\n",
       "      <td>onu lanz alert roj par 2018 armas nuclear viol...</td>\n",
       "      <td>onu lanzar alerta rojo 2018 arma nuclear viola...</td>\n",
       "    </tr>\n",
       "    <tr>\n",
       "      <th>4</th>\n",
       "      <td>530019227057516</td>\n",
       "      <td>2017-12-31 20:30:00 CST</td>\n",
       "      <td>31</td>\n",
       "      <td>21</td>\n",
       "      <td>0</td>\n",
       "      <td>3</td>\n",
       "      <td>1</td>\n",
       "      <td>4</td>\n",
       "      <td>1</td>\n",
       "      <td>0</td>\n",
       "      <td>1</td>\n",
       "      <td>0</td>\n",
       "      <td>Novedoso proyecto busca instalar paneles solar...</td>\n",
       "      <td>novedoso proyecto busca instalar paneles solar...</td>\n",
       "      <td>noved proyect busc instal panel solar lun par ...</td>\n",
       "      <td>novedoso proyecto buscar instalar panel solar ...</td>\n",
       "    </tr>\n",
       "  </tbody>\n",
       "</table>\n",
       "</div>"
      ],
      "text/plain": [
       "       Facebook Id             Post Created Total Interactions  Likes  \\\n",
       "0  100069920850250  2017-12-31 23:43:00 CST                 18     16   \n",
       "1  100064929514903  2017-12-31 23:00:11 CST                  3      3   \n",
       "2  100063648342761  2017-12-31 21:57:39 CST                115     68   \n",
       "3  100067009789858  2017-12-31 20:41:50 CST                  5      2   \n",
       "4  530019227057516  2017-12-31 20:30:00 CST                 31     21   \n",
       "\n",
       "   Comments  Shares  Love  Wow  Haha  Sad  Angry  Care  \\\n",
       "0         0       2     0    0     0    0      0     0   \n",
       "1         0       0     0    0     0    0      0     0   \n",
       "2        33       3    11    0     0    0      0     0   \n",
       "3         0       1     0    0     0    1      1     0   \n",
       "4         0       3     1    4     1    0      1     0   \n",
       "\n",
       "                                      Message_stpWrd  \\\n",
       "0  Mitigar cambio climático pies tierra. http://r...   \n",
       "1  #México 🇲🇽 | Ciudad México urbe Latinoamérica ...   \n",
       "2  2018 comienza deseo corazón hagan disfruten, p...   \n",
       "3  ONU lanza alerta roja 2018 armas nucleares, vi...   \n",
       "4  Novedoso proyecto busca instalar paneles solar...   \n",
       "\n",
       "                                Message_clean_stpWrd  \\\n",
       "0               mitigar cambio climatico pies tierra   \n",
       "1  mexico ciudad mexico urbe latinoamerica busca ...   \n",
       "2  2018 comienza deseo corazon hagan disfruten ma...   \n",
       "3  onu lanza alerta roja 2018 armas nucleares vio...   \n",
       "4  novedoso proyecto busca instalar paneles solar...   \n",
       "\n",
       "                          Message_clean_stemm_stpWrd  \\\n",
       "0                      mitig cambi climat pies tierr   \n",
       "1  mexic ciud mexic urbe latinoamer busc siguient...   \n",
       "2  par 2018 comienz dese corazon hag tod disfrut ...   \n",
       "3  onu lanz alert roj par 2018 armas nuclear viol...   \n",
       "4  noved proyect busc instal panel solar lun par ...   \n",
       "\n",
       "                           Message_clean_lemm_stpWrd  \n",
       "0                mitigar cambio climatico pie tierra  \n",
       "1  mexico ciudad mexico urbe latinoamerica buscar...  \n",
       "2  2018 comenzar desear corazon disfrutar mas aun...  \n",
       "3  onu lanzar alerta rojo 2018 arma nuclear viola...  \n",
       "4  novedoso proyecto buscar instalar panel solar ...  "
      ]
     },
     "execution_count": 3,
     "metadata": {},
     "output_type": "execute_result"
    }
   ],
   "source": [
    "df.head()"
   ]
  },
  {
   "attachments": {},
   "cell_type": "markdown",
   "metadata": {},
   "source": [
    "En este notebook analizaremos siguientes variables:\n",
    "- `Message_stpWrd`\n",
    "- `Message_clean_stpWrd`\n",
    "- `Message_clean_stemm_stpWrd`\n",
    "- `Message_clean_lemm_stpWrd`\n",
    "\n",
    "Específicamente: `Message_clean_lemm_stpWrd`"
   ]
  },
  {
   "cell_type": "code",
   "execution_count": 4,
   "metadata": {},
   "outputs": [
    {
     "data": {
      "text/html": [
       "<div>\n",
       "<style scoped>\n",
       "    .dataframe tbody tr th:only-of-type {\n",
       "        vertical-align: middle;\n",
       "    }\n",
       "\n",
       "    .dataframe tbody tr th {\n",
       "        vertical-align: top;\n",
       "    }\n",
       "\n",
       "    .dataframe thead th {\n",
       "        text-align: right;\n",
       "    }\n",
       "</style>\n",
       "<table border=\"1\" class=\"dataframe\">\n",
       "  <thead>\n",
       "    <tr style=\"text-align: right;\">\n",
       "      <th></th>\n",
       "      <th>Message_stpWrd</th>\n",
       "      <th>Message_clean_stpWrd</th>\n",
       "      <th>Message_clean_stemm_stpWrd</th>\n",
       "      <th>Message_clean_lemm_stpWrd</th>\n",
       "    </tr>\n",
       "  </thead>\n",
       "  <tbody>\n",
       "    <tr>\n",
       "      <th>0</th>\n",
       "      <td>Mitigar cambio climático pies tierra. http://r...</td>\n",
       "      <td>mitigar cambio climatico pies tierra</td>\n",
       "      <td>mitig cambi climat pies tierr</td>\n",
       "      <td>mitigar cambio climatico pie tierra</td>\n",
       "    </tr>\n",
       "    <tr>\n",
       "      <th>1</th>\n",
       "      <td>#México 🇲🇽 | Ciudad México urbe Latinoamérica ...</td>\n",
       "      <td>mexico ciudad mexico urbe latinoamerica busca ...</td>\n",
       "      <td>mexic ciud mexic urbe latinoamer busc siguient...</td>\n",
       "      <td>mexico ciudad mexico urbe latinoamerica buscar...</td>\n",
       "    </tr>\n",
       "    <tr>\n",
       "      <th>2</th>\n",
       "      <td>2018 comienza deseo corazón hagan disfruten, p...</td>\n",
       "      <td>2018 comienza deseo corazon hagan disfruten ma...</td>\n",
       "      <td>par 2018 comienz dese corazon hag tod disfrut ...</td>\n",
       "      <td>2018 comenzar desear corazon disfrutar mas aun...</td>\n",
       "    </tr>\n",
       "    <tr>\n",
       "      <th>3</th>\n",
       "      <td>ONU lanza alerta roja 2018 armas nucleares, vi...</td>\n",
       "      <td>onu lanza alerta roja 2018 armas nucleares vio...</td>\n",
       "      <td>onu lanz alert roj par 2018 armas nuclear viol...</td>\n",
       "      <td>onu lanzar alerta rojo 2018 arma nuclear viola...</td>\n",
       "    </tr>\n",
       "    <tr>\n",
       "      <th>4</th>\n",
       "      <td>Novedoso proyecto busca instalar paneles solar...</td>\n",
       "      <td>novedoso proyecto busca instalar paneles solar...</td>\n",
       "      <td>noved proyect busc instal panel solar lun par ...</td>\n",
       "      <td>novedoso proyecto buscar instalar panel solar ...</td>\n",
       "    </tr>\n",
       "  </tbody>\n",
       "</table>\n",
       "</div>"
      ],
      "text/plain": [
       "                                      Message_stpWrd  \\\n",
       "0  Mitigar cambio climático pies tierra. http://r...   \n",
       "1  #México 🇲🇽 | Ciudad México urbe Latinoamérica ...   \n",
       "2  2018 comienza deseo corazón hagan disfruten, p...   \n",
       "3  ONU lanza alerta roja 2018 armas nucleares, vi...   \n",
       "4  Novedoso proyecto busca instalar paneles solar...   \n",
       "\n",
       "                                Message_clean_stpWrd  \\\n",
       "0               mitigar cambio climatico pies tierra   \n",
       "1  mexico ciudad mexico urbe latinoamerica busca ...   \n",
       "2  2018 comienza deseo corazon hagan disfruten ma...   \n",
       "3  onu lanza alerta roja 2018 armas nucleares vio...   \n",
       "4  novedoso proyecto busca instalar paneles solar...   \n",
       "\n",
       "                          Message_clean_stemm_stpWrd  \\\n",
       "0                      mitig cambi climat pies tierr   \n",
       "1  mexic ciud mexic urbe latinoamer busc siguient...   \n",
       "2  par 2018 comienz dese corazon hag tod disfrut ...   \n",
       "3  onu lanz alert roj par 2018 armas nuclear viol...   \n",
       "4  noved proyect busc instal panel solar lun par ...   \n",
       "\n",
       "                           Message_clean_lemm_stpWrd  \n",
       "0                mitigar cambio climatico pie tierra  \n",
       "1  mexico ciudad mexico urbe latinoamerica buscar...  \n",
       "2  2018 comenzar desear corazon disfrutar mas aun...  \n",
       "3  onu lanzar alerta rojo 2018 arma nuclear viola...  \n",
       "4  novedoso proyecto buscar instalar panel solar ...  "
      ]
     },
     "execution_count": 4,
     "metadata": {},
     "output_type": "execute_result"
    }
   ],
   "source": [
    "df[['Message_stpWrd', 'Message_clean_stpWrd', \n",
    "    'Message_clean_stemm_stpWrd', 'Message_clean_lemm_stpWrd']].head()"
   ]
  },
  {
   "cell_type": "code",
   "execution_count": 5,
   "metadata": {},
   "outputs": [
    {
     "name": "stdout",
     "output_type": "stream",
     "text": [
      "<class 'pandas.core.frame.DataFrame'>\n",
      "Index: 87422 entries, 0 to 87442\n",
      "Data columns (total 4 columns):\n",
      " #   Column                      Non-Null Count  Dtype \n",
      "---  ------                      --------------  ----- \n",
      " 0   Message_stpWrd              87422 non-null  object\n",
      " 1   Message_clean_stpWrd        87422 non-null  object\n",
      " 2   Message_clean_stemm_stpWrd  87422 non-null  object\n",
      " 3   Message_clean_lemm_stpWrd   87422 non-null  object\n",
      "dtypes: object(4)\n",
      "memory usage: 3.3+ MB\n"
     ]
    }
   ],
   "source": [
    "df[['Message_stpWrd', 'Message_clean_stpWrd', \n",
    "    'Message_clean_stemm_stpWrd', 'Message_clean_lemm_stpWrd']].info()"
   ]
  },
  {
   "cell_type": "code",
   "execution_count": 6,
   "metadata": {},
   "outputs": [],
   "source": [
    "facebook_post_clean = df['Message_clean_lemm_stpWrd'].values.tolist()"
   ]
  },
  {
   "attachments": {},
   "cell_type": "markdown",
   "metadata": {},
   "source": [
    "# Tokenize"
   ]
  },
  {
   "cell_type": "code",
   "execution_count": 7,
   "metadata": {},
   "outputs": [],
   "source": [
    "from tqdm import tqdm"
   ]
  },
  {
   "attachments": {},
   "cell_type": "markdown",
   "metadata": {},
   "source": [
    "Gracias a que nuesto texto a analizar (`Message_clean_lemm_stpWrd`) ya fue preprocesado obtendremos los respectivos tokens para cada mensaje. Recordemos que para este proyecto los tokens representan palabras individuales, pero en la práctica no es así.\n",
    "\n",
    "Para más información se sugiere revisar el siguiente [link](https://help.openai.com/en/articles/4936856-what-are-tokens-and-how-to-count-them)."
   ]
  },
  {
   "cell_type": "code",
   "execution_count": 8,
   "metadata": {},
   "outputs": [
    {
     "name": "stdout",
     "output_type": "stream",
     "text": [
      "CPU times: user 4 µs, sys: 0 ns, total: 4 µs\n",
      "Wall time: 11 µs\n"
     ]
    },
    {
     "name": "stderr",
     "output_type": "stream",
     "text": [
      "100%|██████████| 87422/87422 [00:01<00:00, 69983.52it/s]\n"
     ]
    }
   ],
   "source": [
    "%time\n",
    "tokens_spacy = []\n",
    "for post in tqdm(facebook_post_clean):\n",
    "    token_i = [token for token in post.split(' ')]\n",
    "    tokens_spacy.append(token_i)"
   ]
  },
  {
   "cell_type": "code",
   "execution_count": 9,
   "metadata": {},
   "outputs": [
    {
     "name": "stdout",
     "output_type": "stream",
     "text": [
      "['mitigar', 'cambio', 'climatico', 'pie', 'tierra']\n",
      "['mexico', 'ciudad', 'mexico', 'urbe', 'latinoamerica', 'buscar', 'generacion', 'mujer', 'lider']\n",
      "['2018', 'comenzar', 'desear', 'corazon', 'disfrutar', 'mas', 'aun', 'disfrutar', 'repartir', 'amor', 'humano', 'comunidad', 'vivo', 'terrible', 'calentamiento', 'global', 'aun', 'mas', 'serio', 'calentamiento', 'social', 'violencia', 'odio', 'muerte', 'exclusión', 'anular', 'mas', 'denso', 'amorosfera', 'energia', 'amor', 'presente', 'actuante', 'continuo', 'expansion', 'solidaridad', 'amor', 'universal', 'presente', 'esperanza', '2018', 'carino', 'victor', 'quintana']\n",
      "['onu', 'lanzar', 'alerta', 'rojo', '2018', 'arma', 'nuclear', 'violacion', 'dh', 'cambio', 'climatico', 'unidad', 'camino', 'insistio', 'secretario', 'futuro', 'depender']\n",
      "['novedoso', 'proyecto', 'buscar', 'instalar', 'panel', 'solar', 'luna', 'abastecer', 'energia', 'planeta', 'tierra']\n"
     ]
    }
   ],
   "source": [
    "for i in tokens_spacy[:5]:\n",
    "    print(i)"
   ]
  },
  {
   "cell_type": "code",
   "execution_count": 10,
   "metadata": {},
   "outputs": [
    {
     "name": "stdout",
     "output_type": "stream",
     "text": [
      "Hay un total de 87422 mensajes.\n"
     ]
    }
   ],
   "source": [
    "print(f\"Hay un total de {len(tokens_spacy)} mensajes.\")"
   ]
  },
  {
   "attachments": {},
   "cell_type": "markdown",
   "metadata": {},
   "source": [
    "# Dictionary"
   ]
  },
  {
   "attachments": {},
   "cell_type": "markdown",
   "metadata": {},
   "source": [
    "Recordemos que LDA se basa de:\n",
    "- **Dictionary**: conjunto de palabras únicas.\n",
    "- **Corpus**: frecuencia de palabras (BoW)."
   ]
  },
  {
   "cell_type": "code",
   "execution_count": 11,
   "metadata": {},
   "outputs": [],
   "source": [
    "dictionary = Dictionary(tokens_spacy)"
   ]
  },
  {
   "cell_type": "code",
   "execution_count": 12,
   "metadata": {},
   "outputs": [
    {
     "data": {
      "text/plain": [
       "114838"
      ]
     },
     "execution_count": 12,
     "metadata": {},
     "output_type": "execute_result"
    }
   ],
   "source": [
    "len(dictionary)"
   ]
  },
  {
   "attachments": {},
   "cell_type": "markdown",
   "metadata": {},
   "source": [
    "Hay un total de $114,838$ IDs únicos, de los cuales filtraremos por su frecuencia:\n",
    "- `no_below`: nos quedaremos con aquellos IDs que aparecen en al menos 10 mensajes.\n",
    "- `no_above`: este parámetro es útil para filtrar aquellos IDs que aparecen una gran cantidad de veces en los mensajes. Debe ser un porcentaje (i.e. $\\in [0,1]$). Esto puede ayudar a filtrar **Stop-words**, lo cual ya se realizó previamente en la parte de preprocesamiento y limpieza del texto."
   ]
  },
  {
   "cell_type": "code",
   "execution_count": 13,
   "metadata": {},
   "outputs": [],
   "source": [
    "dictionary.filter_extremes(\n",
    "    no_below=10,\n",
    "    no_above=1.0,\n",
    ")"
   ]
  },
  {
   "cell_type": "code",
   "execution_count": 14,
   "metadata": {},
   "outputs": [
    {
     "data": {
      "text/plain": [
       "16382"
      ]
     },
     "execution_count": 14,
     "metadata": {},
     "output_type": "execute_result"
    }
   ],
   "source": [
    "len(dictionary)"
   ]
  },
  {
   "attachments": {},
   "cell_type": "markdown",
   "metadata": {},
   "source": [
    "Una vez que se ha filtrado los IDs queda un total de $16,382$ IDs únicos."
   ]
  },
  {
   "attachments": {},
   "cell_type": "markdown",
   "metadata": {},
   "source": [
    "# Corpus\n",
    "\n",
    "El corpus consiste en un conjunto de tuplas, donde cada una representa:\n",
    "- (`id`, `freq en msj`)"
   ]
  },
  {
   "cell_type": "code",
   "execution_count": 15,
   "metadata": {},
   "outputs": [],
   "source": [
    "corpus = [dictionary.doc2bow(doc) for doc in tokens_spacy]"
   ]
  },
  {
   "attachments": {},
   "cell_type": "markdown",
   "metadata": {},
   "source": [
    "Por ejemplo:"
   ]
  },
  {
   "cell_type": "code",
   "execution_count": 16,
   "metadata": {},
   "outputs": [
    {
     "name": "stdout",
     "output_type": "stream",
     "text": [
      "[(0, 1), (1, 1), (2, 1), (3, 1), (4, 1)]\n",
      "['mitigar', 'cambio', 'climatico', 'pie', 'tierra']\n"
     ]
    }
   ],
   "source": [
    "print(corpus[0])\n",
    "print(tokens_spacy[0])"
   ]
  },
  {
   "attachments": {},
   "cell_type": "markdown",
   "metadata": {},
   "source": [
    "El primer elemento de la tupla representa el ID asociado a cada token (palabra), mientras que el segundo elemento de la tupla representa la frecuencia del ID (token) en el mensaje. Por ejemplo en el mensaje sintético:\n",
    "- cambio cambio cambio cambio cambio\n",
    "\n",
    "Debería indicar que \"cambio\" apareció 5 veces:"
   ]
  },
  {
   "cell_type": "code",
   "execution_count": 17,
   "metadata": {},
   "outputs": [
    {
     "data": {
      "text/plain": [
       "[(0, 5)]"
      ]
     },
     "execution_count": 17,
     "metadata": {},
     "output_type": "execute_result"
    }
   ],
   "source": [
    "dictionary.doc2bow([\"cambio\"]*5)"
   ]
  },
  {
   "attachments": {},
   "cell_type": "markdown",
   "metadata": {},
   "source": [
    "# LDA - How many topics?\n",
    "\n",
    "En el notebook anterior analizamos el modelo **LDA** dados 10 tópicos. En esta nueva sección analizaremos el número \"óptimo\" de tópicos.\n",
    "\n",
    "Para obtener el número \"óptimo\" de tópicos existen varias reglas heurísticas. Las que utilizaremos en este proyecto es:\n",
    "- u_mass\n",
    "- Coherence Score"
   ]
  },
  {
   "cell_type": "code",
   "execution_count": 18,
   "metadata": {},
   "outputs": [
    {
     "data": {
      "image/png": "[encoded data removed]",
      "text/plain": [
       "<Figure size 640x480 with 1 Axes>"
      ]
     },
     "metadata": {},
     "output_type": "display_data"
    },
    {
     "name": "stdout",
     "output_type": "stream",
     "text": [
      "CPU times: user 14min 28s, sys: 1min 26s, total: 15min 55s\n",
      "Wall time: 43min 48s\n"
     ]
    },
    {
     "data": {
      "text/plain": [
       "<Figure size 640x480 with 0 Axes>"
      ]
     },
     "metadata": {},
     "output_type": "display_data"
    }
   ],
   "source": [
    "%%time\n",
    "topics = []\n",
    "score = []\n",
    "for n_topics in range(1,20,1):\n",
    "    lda_model = LdaMulticore(\n",
    "        corpus=corpus, \n",
    "        id2word=dictionary, \n",
    "        iterations=10, \n",
    "        num_topics=n_topics,\n",
    "        workers=4, \n",
    "        passes=10, \n",
    "        random_state=42\n",
    "    )\n",
    "    cm = CoherenceModel(\n",
    "        model=lda_model, \n",
    "        texts=tokens_spacy, \n",
    "        corpus=corpus, \n",
    "        dictionary=dictionary, \n",
    "        coherence='u_mass'\n",
    "    )\n",
    "    topics.append(n_topics)\n",
    "    score.append(cm.get_coherence())\n",
    "\n",
    "_=plt.plot(topics, score)\n",
    "_=plt.xlabel('Number of Topics')\n",
    "_=plt.ylabel('U-mass Score')\n",
    "plt.show()\n",
    "plt.savefig(\"../images/08-notebook/umass_score_ntopics.png\")"
   ]
  },
  {
   "cell_type": "code",
   "execution_count": 19,
   "metadata": {},
   "outputs": [
    {
     "data": {
      "image/png": "[encoded data removed]",
      "text/plain": [
       "<Figure size 640x480 with 1 Axes>"
      ]
     },
     "metadata": {},
     "output_type": "display_data"
    },
    {
     "name": "stdout",
     "output_type": "stream",
     "text": [
      "CPU times: user 15min 23s, sys: 1min 38s, total: 17min 1s\n",
      "Wall time: 1h 41s\n"
     ]
    },
    {
     "data": {
      "text/plain": [
       "<Figure size 640x480 with 0 Axes>"
      ]
     },
     "metadata": {},
     "output_type": "display_data"
    }
   ],
   "source": [
    "%%time\n",
    "topics = []\n",
    "score = []\n",
    "for n_topics in range(1,20,1):\n",
    "    lda_model = LdaMulticore(\n",
    "        corpus=corpus, \n",
    "        id2word=dictionary, \n",
    "        iterations=10, \n",
    "        num_topics=n_topics,\n",
    "        workers=4, \n",
    "        passes=10, \n",
    "        random_state=42\n",
    "    )\n",
    "    cm = CoherenceModel(\n",
    "        model=lda_model, \n",
    "        texts=tokens_spacy, \n",
    "        corpus=corpus, \n",
    "        dictionary=dictionary, \n",
    "        coherence='c_v'\n",
    "    )\n",
    "    topics.append(n_topics)\n",
    "    score.append(cm.get_coherence())\n",
    "\n",
    "_=plt.plot(topics, score)\n",
    "_=plt.xlabel('Number of Topics')\n",
    "_=plt.ylabel('Coherence Score')\n",
    "plt.show()\n",
    "plt.savefig(\"../images/08-notebook/coherence_score_ntopics.png\")"
   ]
  },
  {
   "cell_type": "code",
   "execution_count": null,
   "metadata": {},
   "outputs": [],
   "source": []
  },
  {
   "cell_type": "code",
   "execution_count": null,
   "metadata": {},
   "outputs": [],
   "source": []
  },
  {
   "cell_type": "code",
   "execution_count": null,
   "metadata": {},
   "outputs": [],
   "source": []
  },
  {
   "cell_type": "code",
   "execution_count": null,
   "metadata": {},
   "outputs": [],
   "source": []
  },
  {
   "cell_type": "code",
   "execution_count": null,
   "metadata": {},
   "outputs": [],
   "source": []
  }
 ],
 "metadata": {
  "kernelspec": {
   "display_name": "env_nlp_nanook",
   "language": "python",
   "name": "python3"
  },
  "language_info": {
   "codemirror_mode": {
    "name": "ipython",
    "version": 3
   },
   "file_extension": ".py",
   "mimetype": "text/x-python",
   "name": "python",
   "nbconvert_exporter": "python",
   "pygments_lexer": "ipython3",
   "version": "3.11.8"
  },
  "orig_nbformat": 4
 },
 "nbformat": 4,
 "nbformat_minor": 2
}
