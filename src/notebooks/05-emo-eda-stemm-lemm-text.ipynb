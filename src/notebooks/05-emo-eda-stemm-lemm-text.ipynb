{
 "cells": [
  {
   "cell_type": "code",
   "execution_count": null,
   "metadata": {},
   "outputs": [],
   "source": [
    "import matplotlib.pyplot as plt\n",
    "import pandas as pd\n",
    "import re\n",
    "import seaborn as sns"
   ]
  },
  {
   "attachments": {},
   "cell_type": "markdown",
   "metadata": {},
   "source": [
    "### Functions"
   ]
  },
  {
   "cell_type": "code",
   "execution_count": null,
   "metadata": {},
   "outputs": [],
   "source": [
    "def contains_only_digits(s):\n",
    "    \"\"\"\n",
    "    Verifica si una cadena contiene únicamente dígitos utilizando expresiones regulares.\n",
    "    \n",
    "    Args:\n",
    "    s (str): La cadena a evaluar.\n",
    "    \n",
    "    Returns:\n",
    "    bool: True si la cadena contiene únicamente dígitos, False de lo contrario.\n",
    "    \"\"\"\n",
    "    # Define el patrón de la expresión regular para buscar solo dígitos\n",
    "    pattern = r'^\\d+$'\n",
    "    \n",
    "    # Utiliza la función match() de la biblioteca re para buscar el patrón en la cadena\n",
    "    # La función match() busca el patrón desde el principio de la cadena\n",
    "    # Devuelve un objeto Match si el patrón coincide, None de lo contrario\n",
    "    match = re.match(pattern, s)\n",
    "    \n",
    "    # Si match no es None, significa que el patrón coincide y la cadena contiene solo dígitos\n",
    "    return match is not None"
   ]
  },
  {
   "attachments": {},
   "cell_type": "markdown",
   "metadata": {},
   "source": [
    "### Load data"
   ]
  },
  {
   "cell_type": "code",
   "execution_count": null,
   "metadata": {},
   "outputs": [],
   "source": [
    "df = pd.read_pickle(\"../data/preprocessed/stemm_lemm_stop_words.pkl\")"
   ]
  },
  {
   "cell_type": "code",
   "execution_count": null,
   "metadata": {},
   "outputs": [],
   "source": [
    "df.head(1)"
   ]
  },
  {
   "cell_type": "code",
   "execution_count": null,
   "metadata": {},
   "outputs": [],
   "source": [
    "df[['Likes','Comments', 'Shares', 'Love', 'Wow', 'Haha', 'Sad', 'Angry', 'Care']].describe()"
   ]
  },
  {
   "attachments": {},
   "cell_type": "markdown",
   "metadata": {},
   "source": [
    "It seems that, **\"Love\", \"Wow\", \"Haha\", \"Sad\", \"Angry\", \"Care\"** does not have information only 25% of each interaction have data (NO ZERO).\n",
    "\n",
    "- People does not use that button interactions!"
   ]
  },
  {
   "attachments": {},
   "cell_type": "markdown",
   "metadata": {},
   "source": [
    "# Total Interactions\n",
    "\n",
    "- **¿?** `Total Interactions` = `Likes` + `Comments` + `Shares` + `Love` + `Wow` + `Haha` + `Sad` + `Angry` + `Care`"
   ]
  },
  {
   "cell_type": "code",
   "execution_count": null,
   "metadata": {},
   "outputs": [],
   "source": [
    "tot_inter_hipotesis = []\n",
    "for i in df.iloc[:,2:12].iterrows():\n",
    "    if contains_only_digits(i[1].values[0]):\n",
    "        tot_int = int(i[1].values[0])\n",
    "        sum_int = sum(i[1].values[1:])\n",
    "        tot_inter_hipotesis.append(tot_int == sum_int)"
   ]
  },
  {
   "cell_type": "code",
   "execution_count": null,
   "metadata": {},
   "outputs": [],
   "source": [
    "all(tot_inter_hipotesis)"
   ]
  },
  {
   "attachments": {},
   "cell_type": "markdown",
   "metadata": {},
   "source": [
    "# Correlation between interactions"
   ]
  },
  {
   "cell_type": "code",
   "execution_count": null,
   "metadata": {},
   "outputs": [],
   "source": [
    "df.columns"
   ]
  },
  {
   "cell_type": "code",
   "execution_count": null,
   "metadata": {},
   "outputs": [],
   "source": [
    "corr_matrix = df[['Likes','Comments', 'Shares', 'Love', 'Wow', 'Haha', 'Sad', 'Angry', 'Care']].corr()"
   ]
  },
  {
   "cell_type": "code",
   "execution_count": null,
   "metadata": {},
   "outputs": [],
   "source": [
    "plt.figure(figsize=(8, 5))\n",
    "sns.heatmap(corr_matrix, annot=True, cmap='coolwarm', fmt=\".2f\")\n",
    "plt.title('Correlación interacciones')\n",
    "plt.show()"
   ]
  },
  {
   "attachments": {},
   "cell_type": "markdown",
   "metadata": {},
   "source": [
    "Seems that there is no correlation between variables, why?\n",
    "- When does data was recopilated? When does interactions \"Love\", \"Wow\", \"Haha\", \"Sad\", \"Angry\", \"Care\" began?\n",
    "- Does those interections are measure after they were created? I mean, are we measuring \"Angry\" when that option ever exists?"
   ]
  },
  {
   "cell_type": "code",
   "execution_count": null,
   "metadata": {},
   "outputs": [],
   "source": [
    "plt.figure(figsize=(8, 5))\n",
    "sns.scatterplot(data=df, x=\"Likes\", y=\"Angry\")\n",
    "plt.yscale('log')\n",
    "plt.xscale('log')\n",
    "plt.show()"
   ]
  },
  {
   "cell_type": "code",
   "execution_count": null,
   "metadata": {},
   "outputs": [],
   "source": [
    "g = sns.FacetGrid(pd.melt(df[['Likes','Comments', 'Shares', 'Love', 'Wow', 'Haha', 'Sad', 'Angry', 'Care']]), col='variable', col_wrap=3, sharex=False, sharey=False)\n",
    "g.map(sns.boxplot, 'value')\n",
    "g.set(xscale='log')\n",
    "g.set_titles('{col_name}')"
   ]
  },
  {
   "attachments": {},
   "cell_type": "markdown",
   "metadata": {},
   "source": [
    "Due to, **\"Love\", \"Wow\", \"Haha\", \"Sad\", \"Angry\", \"Care\"** has minimum information I will analyze **\"Likes\"**"
   ]
  },
  {
   "attachments": {},
   "cell_type": "markdown",
   "metadata": {},
   "source": [
    "# Likes"
   ]
  },
  {
   "cell_type": "code",
   "execution_count": null,
   "metadata": {},
   "outputs": [],
   "source": [
    "plt.figure(figsize=(8, 6))\n",
    "plt.hist(df[\"Likes\"], bins=20, color='skyblue', edgecolor='black')\n",
    "plt.title(f'Histograma de la columna Likes')\n",
    "plt.xlabel(\"Likes\")\n",
    "plt.ylabel('log Frequency')\n",
    "plt.yscale('log')\n",
    "plt.grid(True)\n",
    "plt.show()"
   ]
  },
  {
   "cell_type": "code",
   "execution_count": null,
   "metadata": {},
   "outputs": [],
   "source": []
  }
 ],
 "metadata": {
  "kernelspec": {
   "display_name": "env_nanook",
   "language": "python",
   "name": "python3"
  },
  "language_info": {
   "codemirror_mode": {
    "name": "ipython",
    "version": 3
   },
   "file_extension": ".py",
   "mimetype": "text/x-python",
   "name": "python",
   "nbconvert_exporter": "python",
   "pygments_lexer": "ipython3",
   "version": "3.11.8"
  },
  "orig_nbformat": 4
 },
 "nbformat": 4,
 "nbformat_minor": 2
}
