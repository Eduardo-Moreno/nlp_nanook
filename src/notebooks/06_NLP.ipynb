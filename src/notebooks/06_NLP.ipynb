{
 "cells": [
  {
   "attachments": {},
   "cell_type": "markdown",
   "metadata": {},
   "source": [
    "# `spaCy`\n",
    "\n",
    "`spaCy` es una librería de Python utilizada para proyectos de **Procesamiento del Lenguaje Natural** (NLP) poniendo a la disposición del programador varias técnicas utilizadas en un pipeline de NLP:\n",
    "- Tokenization\n",
    "- Normalización del texto (eliminar mayúsculas, stemming, lemmatization)\n",
    "- Part-Of-Speech tagging\n",
    "- Named Entity Recognition (NER)\n",
    "\n",
    "Para instalar `spaCy` y dependencias:\n",
    "```\n",
    "pip install spacy\n",
    "\n",
    "pip install es-core-news-sm\n",
    "```"
   ]
  },
  {
   "cell_type": "code",
   "execution_count": 1,
   "metadata": {},
   "outputs": [],
   "source": [
    "import itertools as it\n",
    "import pandas as pd\n",
    "import spacy"
   ]
  },
  {
   "cell_type": "code",
   "execution_count": 2,
   "metadata": {},
   "outputs": [],
   "source": [
    "nlp = spacy.load('es_core_news_sm')"
   ]
  },
  {
   "attachments": {},
   "cell_type": "markdown",
   "metadata": {},
   "source": [
    "# Load data"
   ]
  },
  {
   "cell_type": "code",
   "execution_count": 3,
   "metadata": {},
   "outputs": [],
   "source": [
    "import pandas as pd\n",
    "import random"
   ]
  },
  {
   "cell_type": "code",
   "execution_count": 4,
   "metadata": {},
   "outputs": [],
   "source": [
    "df_clean = pd.read_pickle('/Users/eduardomorenoortiz/Desktop/ITAM/nanook/nlp_nanook/data/preprocessed/stemm_lemm_text_nanook.pkl')"
   ]
  },
  {
   "cell_type": "code",
   "execution_count": 5,
   "metadata": {},
   "outputs": [
    {
     "data": {
      "text/html": [
       "<div>\n",
       "<style scoped>\n",
       "    .dataframe tbody tr th:only-of-type {\n",
       "        vertical-align: middle;\n",
       "    }\n",
       "\n",
       "    .dataframe tbody tr th {\n",
       "        vertical-align: top;\n",
       "    }\n",
       "\n",
       "    .dataframe thead th {\n",
       "        text-align: right;\n",
       "    }\n",
       "</style>\n",
       "<table border=\"1\" class=\"dataframe\">\n",
       "  <thead>\n",
       "    <tr style=\"text-align: right;\">\n",
       "      <th></th>\n",
       "      <th>Page Name</th>\n",
       "      <th>Message</th>\n",
       "      <th>Message_clean</th>\n",
       "      <th>Message_clean_stemm</th>\n",
       "      <th>Message_clean_lemm</th>\n",
       "    </tr>\n",
       "  </thead>\n",
       "  <tbody>\n",
       "    <tr>\n",
       "      <th>0</th>\n",
       "      <td>AgroForestales C.A.</td>\n",
       "      <td>Mitigar el cambio climático con los pies en la...</td>\n",
       "      <td>mitigar el cambio climatico con los pies en la...</td>\n",
       "      <td>mitig el cambi climat con los pies en la tierr</td>\n",
       "      <td>mitigar el cambio climatico con los pie en la ...</td>\n",
       "    </tr>\n",
       "    <tr>\n",
       "      <th>1</th>\n",
       "      <td>El Sol de San Juan del Río</td>\n",
       "      <td>#México 🇲🇽 | La Ciudad de México es la primera...</td>\n",
       "      <td>mexico   la ciudad de mexico es la primera urb...</td>\n",
       "      <td>mexic la ciud de mexic es la primer urbe en la...</td>\n",
       "      <td>mexico la ciudad de mexico e la primera urbe e...</td>\n",
       "    </tr>\n",
       "    <tr>\n",
       "      <th>2</th>\n",
       "      <td>Víctor Quintana Silveyra</td>\n",
       "      <td>Para este 2018 que comienza les deseo de coraz...</td>\n",
       "      <td>para este 2018 que comienza les deseo de coraz...</td>\n",
       "      <td>par este 2018 que comienz les dese de corazon ...</td>\n",
       "      <td>para este 2018 que comienza le deseo de corazo...</td>\n",
       "    </tr>\n",
       "    <tr>\n",
       "      <th>3</th>\n",
       "      <td>Webguerrillera Internacional</td>\n",
       "      <td>La ONU lanza alerta roja para 2018 por armas n...</td>\n",
       "      <td>la onu lanza alerta roja para 2018 por armas n...</td>\n",
       "      <td>la onu lanz alert roj par 2018 por armas nucle...</td>\n",
       "      <td>la onu lanza alerta roja para 2018 por armas n...</td>\n",
       "    </tr>\n",
       "    <tr>\n",
       "      <th>4</th>\n",
       "      <td>Libertad y Pensamiento</td>\n",
       "      <td>Novedoso proyecto busca instalar paneles solar...</td>\n",
       "      <td>novedoso proyecto busca instalar paneles solar...</td>\n",
       "      <td>noved proyect busc instal panel solar en la lu...</td>\n",
       "      <td>novedoso proyecto busca instalar paneles solar...</td>\n",
       "    </tr>\n",
       "  </tbody>\n",
       "</table>\n",
       "</div>"
      ],
      "text/plain": [
       "                      Page Name  \\\n",
       "0           AgroForestales C.A.   \n",
       "1    El Sol de San Juan del Río   \n",
       "2      Víctor Quintana Silveyra   \n",
       "3  Webguerrillera Internacional   \n",
       "4        Libertad y Pensamiento   \n",
       "\n",
       "                                             Message  \\\n",
       "0  Mitigar el cambio climático con los pies en la...   \n",
       "1  #México 🇲🇽 | La Ciudad de México es la primera...   \n",
       "2  Para este 2018 que comienza les deseo de coraz...   \n",
       "3  La ONU lanza alerta roja para 2018 por armas n...   \n",
       "4  Novedoso proyecto busca instalar paneles solar...   \n",
       "\n",
       "                                       Message_clean  \\\n",
       "0  mitigar el cambio climatico con los pies en la...   \n",
       "1  mexico   la ciudad de mexico es la primera urb...   \n",
       "2  para este 2018 que comienza les deseo de coraz...   \n",
       "3  la onu lanza alerta roja para 2018 por armas n...   \n",
       "4  novedoso proyecto busca instalar paneles solar...   \n",
       "\n",
       "                                 Message_clean_stemm  \\\n",
       "0     mitig el cambi climat con los pies en la tierr   \n",
       "1  mexic la ciud de mexic es la primer urbe en la...   \n",
       "2  par este 2018 que comienz les dese de corazon ...   \n",
       "3  la onu lanz alert roj par 2018 por armas nucle...   \n",
       "4  noved proyect busc instal panel solar en la lu...   \n",
       "\n",
       "                                  Message_clean_lemm  \n",
       "0  mitigar el cambio climatico con los pie en la ...  \n",
       "1  mexico la ciudad de mexico e la primera urbe e...  \n",
       "2  para este 2018 que comienza le deseo de corazo...  \n",
       "3  la onu lanza alerta roja para 2018 por armas n...  \n",
       "4  novedoso proyecto busca instalar paneles solar...  "
      ]
     },
     "execution_count": 5,
     "metadata": {},
     "output_type": "execute_result"
    }
   ],
   "source": [
    "df_clean[['Page Name', 'Message', 'Message_clean', 'Message_clean_stemm', 'Message_clean_lemm']].head()"
   ]
  },
  {
   "cell_type": "code",
   "execution_count": 6,
   "metadata": {},
   "outputs": [
    {
     "data": {
      "text/plain": [
       "(87422, 25)"
      ]
     },
     "execution_count": 6,
     "metadata": {},
     "output_type": "execute_result"
    }
   ],
   "source": [
    "df_clean.shape"
   ]
  },
  {
   "cell_type": "code",
   "execution_count": 7,
   "metadata": {},
   "outputs": [
    {
     "name": "stdout",
     "output_type": "stream",
     "text": [
      "ORIGINAL MESSAGE\n",
      "Post 1: Mitigar el cambio climático con los pies en la tierra. http://regenerationinternational.org/2017/12/27/agricultura-regenerativa-tierra-cambio-climatico/:=:https://regenerationinternational.org/2017/12/27/agricultura-regenerativa-tierra-cambio-climatico/\n",
      "Post 2: #México 🇲🇽 | La Ciudad de México es la primera urbe en Latinoamérica que busca a la siguiente generación de mujeres líderes.\n",
      "Post 3: Para este 2018 que comienza les deseo de corazón que hagan todo lo que disfruten, pero, más aún, que disfruten todo lo que hagan. Que repartan amor por todos lados: A los seres humanos y a toda la comunidad de los seres vivos. Porque el terrible calentamiento global Y el aún más serio calentamiento social, de violencias, odios, muertes y exclusiones, sólo los podemos anular si hacemos mucho más densa la “amorósfera”: La gran energía del amor presente, actuante y en continua expansión. Con esa solidaridad, con ese amor universal haremos presente la esperanza este 2018. Con mucho cariño, Victor Quintana\n",
      "Post 4: La ONU lanza alerta roja para 2018 por armas nucleares, violación a DH y cambio climático “La unidad es el camino”, insistió el secretario. “Nuestro futuro depende de ello”.\n",
      "Post 5: Novedoso proyecto busca instalar paneles solares en la luna, para abastecer de energía al planeta Tierra.!! https://goo.gl/c4gPQq:=:https://www.libertadypensamiento.com/2016/04/instalar-paneles-solares-luna-cambio-climatico.html\n",
      "\n",
      "\n",
      "CLEAN MESSAGE\n",
      "Post 1: mitigar el cambio climatico con los pies en la tierra \n",
      "Post 2: mexico   la ciudad de mexico es la primera urbe en latinoamerica que busca a la siguiente generacion de mujeres lideres\n",
      "Post 3: para este 2018 que comienza les deseo de corazon que hagan todo lo que disfruten pero mas aun que disfruten todo lo que hagan que repartan amor por todos lados a los seres humanos y a toda la comunidad de los seres vivos porque el terrible calentamiento global y el aun mas serio calentamiento social de violencias odios muertes y exclusiones solo los podemos anular si hacemos mucho mas densa la amorosfera la gran energia del amor presente actuante y en continua expansion con esa solidaridad con ese amor universal haremos presente la esperanza este 2018 con mucho carino victor quintana\n",
      "Post 4: la onu lanza alerta roja para 2018 por armas nucleares violacion a dh y cambio climatico la unidad es el camino insistio el secretario nuestro futuro depende de ello\n",
      "Post 5: novedoso proyecto busca instalar paneles solares en la luna para abastecer de energia al planeta tierra \n",
      "\n",
      "\n",
      "LEMMED MESSAGE\n",
      "Post 1: mitigar el cambio climatico con los pie en la tierra\n",
      "Post 2: mexico la ciudad de mexico e la primera urbe en latinoamerica que busca a la siguiente generacion de mujeres lideres\n",
      "Post 3: para este 2018 que comienza le deseo de corazon que hagan todo lo que disfruten pero ma aun que disfruten todo lo que hagan que repartan amor por todos lados a los seres humanos y a toda la comunidad de los seres vivos porque el terrible calentamiento global y el aun ma serio calentamiento social de violencias odios muertes y exclusiones solo los podemos anular si hacemos mucho ma densa la amorosfera la gran energia del amor presente actuante y en continuum expansion con esa solidaridad con ese amor universal haremos presente la esperanza este 2018 con mucho carino victor quintana\n",
      "Post 4: la onu lanza alerta roja para 2018 por armas nucleares violacion a dh y cambio climatico la unidad e el camino insistio el secretario nuestro futuro depende de ello\n",
      "Post 5: novedoso proyecto busca instalar paneles solares en la luna para abastecer de energia al planeta tierra\n",
      "\n",
      "\n",
      "STEMMED MESSAGE\n",
      "Post 1: mitig el cambi climat con los pies en la tierr\n",
      "Post 2: mexic la ciud de mexic es la primer urbe en latinoamer que busc a la siguient gener de mujer lider\n",
      "Post 3: par este 2018 que comienz les dese de corazon que hag tod lo que disfrut per mas aun que disfrut tod lo que hag que repart amor por tod lad a los ser human y a tod la comun de los ser viv porqu el terribl calent global y el aun mas seri calent social de violenci odi muert y exclusion sol los pod anul si hac much mas dens la amorosfer la gran energi del amor present actuant y en continu expansion con esa solidar con ese amor universal har present la esper este 2018 con much carin victor quintan\n",
      "Post 4: la onu lanz alert roj par 2018 por armas nuclear violacion a dh y cambi climat la unid es el camin insisti el secretari nuestr futur depend de ello\n",
      "Post 5: noved proyect busc instal panel solar en la lun par abastec de energi al planet tierr\n",
      "\n",
      "\n"
     ]
    }
   ],
   "source": [
    "print('ORIGINAL MESSAGE')\n",
    "for i, text in enumerate(df_clean['Message']):\n",
    "    print(f\"Post {i + 1}: {text}\")\n",
    "    #display(Markdown(f\"Post {i + 1}: {text}\"))\n",
    "    if i == 4:\n",
    "        break\n",
    "print(\"\\n\")\n",
    "\n",
    "print('CLEAN MESSAGE')\n",
    "for i, text in enumerate(df_clean['Message_clean']):\n",
    "    print(f\"Post {i + 1}: {text}\")\n",
    "    if i == 4:\n",
    "        break\n",
    "print(\"\\n\")\n",
    "\n",
    "print('LEMMED MESSAGE')\n",
    "for i, text in enumerate(df_clean['Message_clean_lemm']):\n",
    "    print(f\"Post {i + 1}: {text}\")\n",
    "    if i == 4:\n",
    "        break\n",
    "print(\"\\n\")\n",
    "\n",
    "print('STEMMED MESSAGE')\n",
    "for i, text in enumerate(df_clean['Message_clean_stemm']):\n",
    "    print(f\"Post {i + 1}: {text}\")\n",
    "    if i == 4:\n",
    "        break\n",
    "print(\"\\n\")"
   ]
  },
  {
   "cell_type": "code",
   "execution_count": 8,
   "metadata": {},
   "outputs": [
    {
     "data": {
      "text/plain": [
       "['mitigar el cambio climatico con los pies en la tierra ',\n",
       " 'mexico   la ciudad de mexico es la primera urbe en latinoamerica que busca a la siguiente generacion de mujeres lideres',\n",
       " 'para este 2018 que comienza les deseo de corazon que hagan todo lo que disfruten pero mas aun que disfruten todo lo que hagan que repartan amor por todos lados a los seres humanos y a toda la comunidad de los seres vivos porque el terrible calentamiento global y el aun mas serio calentamiento social de violencias odios muertes y exclusiones solo los podemos anular si hacemos mucho mas densa la amorosfera la gran energia del amor presente actuante y en continua expansion con esa solidaridad con ese amor universal haremos presente la esperanza este 2018 con mucho carino victor quintana',\n",
       " 'la onu lanza alerta roja para 2018 por armas nucleares violacion a dh y cambio climatico la unidad es el camino insistio el secretario nuestro futuro depende de ello',\n",
       " 'novedoso proyecto busca instalar paneles solares en la luna para abastecer de energia al planeta tierra ']"
      ]
     },
     "execution_count": 8,
     "metadata": {},
     "output_type": "execute_result"
    }
   ],
   "source": [
    "facebook_post_clean = df_clean['Message_clean'].values.tolist()\n",
    "facebook_post_clean[:5]"
   ]
  },
  {
   "attachments": {},
   "cell_type": "markdown",
   "metadata": {},
   "source": [
    "# Preprocess data: Tokenize by lemmatize text"
   ]
  },
  {
   "cell_type": "code",
   "execution_count": 9,
   "metadata": {},
   "outputs": [],
   "source": [
    "from tqdm import tqdm"
   ]
  },
  {
   "cell_type": "code",
   "execution_count": 22,
   "metadata": {},
   "outputs": [
    {
     "name": "stdout",
     "output_type": "stream",
     "text": [
      "CPU times: user 5 µs, sys: 1 µs, total: 6 µs\n",
      "Wall time: 13.1 µs\n"
     ]
    },
    {
     "name": "stderr",
     "output_type": "stream",
     "text": [
      "100%|██████████| 4000/4000 [01:18<00:00, 50.87it/s]"
     ]
    },
    {
     "name": "stdout",
     "output_type": "stream",
     "text": [
      "[['mitigar', 'cambio', 'climatico', 'pie', 'tierra']]\n"
     ]
    },
    {
     "name": "stderr",
     "output_type": "stream",
     "text": [
      "\n"
     ]
    }
   ],
   "source": [
    "%time\n",
    "tokens_spacy = []\n",
    "for post in tqdm(facebook_post_clean[:4000]):\n",
    "    doc = nlp(post)\n",
    "    token_i = [token.lemma_ for token in doc if not token.is_stop]\n",
    "    tokens_spacy.append(token_i)\n",
    "\n",
    "print(tokens_spacy[:1])"
   ]
  },
  {
   "cell_type": "code",
   "execution_count": 24,
   "metadata": {},
   "outputs": [
    {
     "data": {
      "text/plain": [
       "4000"
      ]
     },
     "execution_count": 24,
     "metadata": {},
     "output_type": "execute_result"
    }
   ],
   "source": [
    "len(tokens_spacy)"
   ]
  },
  {
   "attachments": {},
   "cell_type": "markdown",
   "metadata": {},
   "source": [
    "# N-grams\n",
    "\n",
    "Es necesaria la versión `1.10.1` de `scipy`:\n",
    "\n",
    "```\n",
    "pip install scipy==1.10.1\n",
    "```"
   ]
  },
  {
   "cell_type": "code",
   "execution_count": 26,
   "metadata": {},
   "outputs": [],
   "source": [
    "import gensim"
   ]
  },
  {
   "cell_type": "code",
   "execution_count": 27,
   "metadata": {},
   "outputs": [],
   "source": [
    "bigram = gensim.models.Phrases(tokens_spacy, min_count=5, threshold=100)\n",
    "trigram = gensim.models.Phrases(bigram[tokens_spacy], threshold=100)  "
   ]
  },
  {
   "cell_type": "code",
   "execution_count": 28,
   "metadata": {},
   "outputs": [],
   "source": [
    "bigram_mod = gensim.models.phrases.Phraser(bigram)\n",
    "trigram_mod = gensim.models.phrases.Phraser(trigram)"
   ]
  },
  {
   "cell_type": "code",
   "execution_count": 29,
   "metadata": {},
   "outputs": [
    {
     "name": "stdout",
     "output_type": "stream",
     "text": [
      "['mitigar', 'cambio', 'climatico', 'pie', 'tierra']\n"
     ]
    }
   ],
   "source": [
    "print(trigram_mod[bigram_mod[tokens_spacy[0]]])"
   ]
  },
  {
   "cell_type": "code",
   "execution_count": 32,
   "metadata": {},
   "outputs": [
    {
     "data": {
      "text/plain": [
       "['mitigar', 'cambio', 'climatico', 'pie', 'tierra']"
      ]
     },
     "execution_count": 32,
     "metadata": {},
     "output_type": "execute_result"
    }
   ],
   "source": [
    "bigram_mod[tokens_spacy[0]]"
   ]
  },
  {
   "cell_type": "code",
   "execution_count": 38,
   "metadata": {},
   "outputs": [],
   "source": [
    "def make_bigrams(texts):\n",
    "    return [bigram_mod[doc] for doc in texts]"
   ]
  },
  {
   "cell_type": "code",
   "execution_count": 39,
   "metadata": {},
   "outputs": [],
   "source": [
    "data_words_bigrams = make_bigrams(tokens_spacy)"
   ]
  },
  {
   "attachments": {},
   "cell_type": "markdown",
   "metadata": {},
   "source": [
    "# Corpus"
   ]
  },
  {
   "cell_type": "code",
   "execution_count": 33,
   "metadata": {},
   "outputs": [],
   "source": [
    "import gensim.corpora as corpora\n",
    "from gensim.utils import simple_preprocess\n",
    "from gensim.models import CoherenceModel"
   ]
  },
  {
   "cell_type": "code",
   "execution_count": 40,
   "metadata": {},
   "outputs": [
    {
     "name": "stdout",
     "output_type": "stream",
     "text": [
      "[[(0, 1), (1, 1), (2, 1), (3, 1), (4, 1)]]\n"
     ]
    }
   ],
   "source": [
    "id2word = corpora.Dictionary(data_words_bigrams)\n",
    "\n",
    "# Create Corpus\n",
    "texts = data_words_bigrams\n",
    "\n",
    "# Term Document Frequency\n",
    "corpus = [id2word.doc2bow(text) for text in texts]\n",
    "\n",
    "# View\n",
    "print(corpus[:1])"
   ]
  },
  {
   "cell_type": "code",
   "execution_count": 41,
   "metadata": {},
   "outputs": [
    {
     "data": {
      "text/plain": [
       "'cambio'"
      ]
     },
     "execution_count": 41,
     "metadata": {},
     "output_type": "execute_result"
    }
   ],
   "source": [
    "id2word[0]"
   ]
  },
  {
   "cell_type": "code",
   "execution_count": 42,
   "metadata": {},
   "outputs": [
    {
     "data": {
      "text/plain": [
       "[[('cambio', 1), ('climatico', 1), ('mitigar', 1), ('pie', 1), ('tierra', 1)]]"
      ]
     },
     "execution_count": 42,
     "metadata": {},
     "output_type": "execute_result"
    }
   ],
   "source": [
    "# Human readable format of corpus (term-frequency)\n",
    "[[(id2word[id], freq) for id, freq in cp] for cp in corpus[:1]]"
   ]
  },
  {
   "attachments": {},
   "cell_type": "markdown",
   "metadata": {},
   "source": [
    "# LDA"
   ]
  },
  {
   "cell_type": "code",
   "execution_count": 44,
   "metadata": {},
   "outputs": [],
   "source": [
    "from pprint import pprint"
   ]
  },
  {
   "cell_type": "code",
   "execution_count": 60,
   "metadata": {},
   "outputs": [],
   "source": [
    "lda_model = gensim.models.ldamodel.LdaModel(corpus=corpus,\n",
    "                                           id2word=id2word,\n",
    "                                           num_topics=10, \n",
    "                                           random_state=100,\n",
    "                                           update_every=1,\n",
    "                                           chunksize=100,\n",
    "                                           passes=10,\n",
    "                                           alpha='auto',\n",
    "                                           per_word_topics=True)"
   ]
  },
  {
   "cell_type": "code",
   "execution_count": 61,
   "metadata": {},
   "outputs": [
    {
     "name": "stdout",
     "output_type": "stream",
     "text": [
      "[(0,\n",
      "  '0.040*\"cumbre\" + 0.036*\"calentamiento_global\" + 0.027*\"mundo\" + '\n",
      "  '0.026*\"planeta\" + 0.014*\"\\'\" + 0.013*\"mundial\" + 0.012*\"video\" + '\n",
      "  '0.012*\"ano\" + 0.012*\"clima\" + 0.011*\"perder_batalla\"'),\n",
      " (1,\n",
      "  '0.034*\"tener\" + 0.021*\"leer\" + 0.019*\"nuclear\" + 0.015*\"california\" + '\n",
      "  '0.015*\"agenda\" + 0.011*\"herramienta\" + 0.011*\"detener\" + '\n",
      "  '0.011*\"energia_limpio\" + 0.011*\"curso\" + 0.010*\"busca\"'),\n",
      " (2,\n",
      "  '0.034*\"politico\" + 0.016*\"mitigar\" + 0.016*\"negocio\" + 0.014*\"europa\" + '\n",
      "  '0.012*\"derechos_humanos\" + 0.011*\"reconocimiento\" + 0.011*\"reduccion\" + '\n",
      "  '0.010*\"defensa\" + 0.007*\"consultar\" + 0.007*\"migrant\"'),\n",
      " (3,\n",
      "  '0.099*\"climatico\" + 0.095*\"cambio\" + 0.048*\" \" + 0.014*\"mexico\" + '\n",
      "  '0.011*\"lucha\" + 0.011*\"compromiso\" + 0.010*\"ambiente\" + 0.010*\"proyecto\" + '\n",
      "  '0.009*\"ley\" + 0.009*\"nacional\"'),\n",
      " (4,\n",
      "  '0.055*\"cambioclimatico\" + 0.034*\"mexicano\" + 0.033*\"taller\" + '\n",
      "  '0.012*\"disponer\" + 0.009*\"emision\" + 0.007*\"estrategico\" + 0.007*\"pobreza\" '\n",
      "  '+ 0.005*\"vital\" + 0.004*\"resumen\" + 0.003*\"liquido\"'),\n",
      " (5,\n",
      "  '0.038*\"carbono\" + 0.033*\"oso_polar\" + 0.024*\"suelo\" + 0.016*\"imagen\" + '\n",
      "  '0.013*\"planta\" + 0.010*\"foto\" + 0.010*\"oso\" + 0.009*\"arbol\" + '\n",
      "  '0.009*\"limitar\" + 0.008*\"banco\"'),\n",
      " (6,\n",
      "  '0.035*\"macron\" + 0.026*\"frenar\" + 0.022*\"marco\" + 0.022*\"luchar\" + '\n",
      "  '0.021*\"planet\" + 0.020*\"cumbre_one\" + 0.019*\"mercado\" + 0.018*\"montana\" + '\n",
      "  '0.016*\"evitar\" + 0.011*\"proteger\"'),\n",
      " (7,\n",
      "  '0.051*\"francia\" + 0.026*\"banco_mundial\" + 0.025*\" \" + 0.012*\"paso\" + '\n",
      "  '0.012*\"san\" + 0.011*\"dejar_financiar\" + 0.011*\"congreso\" + 0.010*\"bm\" + '\n",
      "  '0.009*\"integral\" + 0.009*\"gestion_riesgo\"'),\n",
      " (8,\n",
      "  '0.129*\"pari\" + 0.064*\"presidente\" + 0.020*\"combatir\" + 0.015*\"unidos\" + '\n",
      "  '0.012*\"irreversible\" + 0.012*\"pedir\" + 0.010*\"noticia\" + 0.009*\"artico\" + '\n",
      "  '0.008*\"trump\" + 0.007*\"contar\"'),\n",
      " (9,\n",
      "  '0.012*\"ano\" + 0.008*\"agua\" + 0.007*\"país\" + 0.006*\"internacional\" + '\n",
      "  '0.005*\"pais\" + 0.005*\"persona\" + 0.004*\"2017\" + 0.004*\"comunidad\" + '\n",
      "  '0.004*\"sostenible\" + 0.004*\"social\"')]\n"
     ]
    }
   ],
   "source": [
    "pprint(lda_model.print_topics())\n",
    "doc_lda = lda_model[corpus]"
   ]
  },
  {
   "attachments": {},
   "cell_type": "markdown",
   "metadata": {},
   "source": [
    "# Model development"
   ]
  },
  {
   "cell_type": "code",
   "execution_count": 63,
   "metadata": {},
   "outputs": [
    {
     "name": "stdout",
     "output_type": "stream",
     "text": [
      "\n",
      "Perplexity:  -10.078186388956553\n",
      "\n",
      "Coherence Score:  0.41150425128785245\n"
     ]
    }
   ],
   "source": [
    "# Compute Perplexity\n",
    "print('\\nPerplexity: ', lda_model.log_perplexity(corpus))  # a measure of how good the model is. lower the better.\n",
    "\n",
    "# Compute Coherence Score\n",
    "coherence_model_lda = CoherenceModel(model=lda_model, texts=data_words_bigrams, dictionary=id2word, coherence='c_v')\n",
    "coherence_lda = coherence_model_lda.get_coherence()\n",
    "print('\\nCoherence Score: ', coherence_lda)"
   ]
  },
  {
   "attachments": {},
   "cell_type": "markdown",
   "metadata": {},
   "source": [
    "# Optimum number of topics"
   ]
  },
  {
   "cell_type": "code",
   "execution_count": 57,
   "metadata": {},
   "outputs": [],
   "source": [
    "import matplotlib.pyplot as plt"
   ]
  },
  {
   "cell_type": "code",
   "execution_count": 64,
   "metadata": {},
   "outputs": [
    {
     "name": "stdout",
     "output_type": "stream",
     "text": [
      "CPU times: user 8 µs, sys: 2 µs, total: 10 µs\n",
      "Wall time: 35 µs\n"
     ]
    },
    {
     "name": "stderr",
     "output_type": "stream",
     "text": [
      "100%|██████████| 7/7 [05:16<00:00, 45.15s/it]\n"
     ]
    }
   ],
   "source": [
    "%time\n",
    "limit=40\n",
    "start=2\n",
    "step=6\n",
    "coherence_values = []\n",
    "model_list = []\n",
    "\n",
    "for num_topics in tqdm(range(start, limit, step)):\n",
    "    lda_model = gensim.models.ldamodel.LdaModel(corpus=corpus,\n",
    "                                                id2word=id2word,\n",
    "                                                num_topics=num_topics, \n",
    "                                                random_state=100,\n",
    "                                                update_every=1,\n",
    "                                                chunksize=100,\n",
    "                                                passes=10,\n",
    "                                                alpha='auto',\n",
    "                                                per_word_topics=True)\n",
    "    model_list.append(lda_model)\n",
    "    coherencemodel = CoherenceModel(model=lda_model, texts=data_words_bigrams, dictionary=id2word, coherence='c_v')\n",
    "    coherence_values.append(coherencemodel.get_coherence())"
   ]
  },
  {
   "cell_type": "code",
   "execution_count": 65,
   "metadata": {},
   "outputs": [
    {
     "data": {
      "image/png": "[encoded data removed]",
      "text/plain": [
       "<Figure size 640x480 with 1 Axes>"
      ]
     },
     "metadata": {},
     "output_type": "display_data"
    }
   ],
   "source": [
    "x = range(start, limit, step)\n",
    "plt.plot(x, coherence_values)\n",
    "plt.xlabel(\"Num Topics\")\n",
    "plt.ylabel(\"Coherence score\")\n",
    "plt.legend((\"coherence_values\"), loc='best')\n",
    "plt.show()"
   ]
  },
  {
   "cell_type": "code",
   "execution_count": 66,
   "metadata": {},
   "outputs": [
    {
     "name": "stdout",
     "output_type": "stream",
     "text": [
      "2: 0.379198059757037\n",
      "8: 0.4049219624987458\n",
      "14: 0.4349494361450067\n",
      "20: 0.4264617668158645\n",
      "26: 0.42531597875651755\n",
      "32: 0.41491911887207344\n",
      "38: 0.408709741849509\n"
     ]
    }
   ],
   "source": [
    "for n_top, coh_val in zip(x, coherence_values):\n",
    "    print(f\"{n_top}: {coh_val}\")"
   ]
  },
  {
   "cell_type": "code",
   "execution_count": 67,
   "metadata": {},
   "outputs": [
    {
     "name": "stdout",
     "output_type": "stream",
     "text": [
      "[(0,\n",
      "  '0.023*\"economico\" + 0.019*\"planeta\" + 0.018*\"dejar\" + 0.017*\"bolivia\" + '\n",
      "  '0.017*\"evitar\" + 0.017*\"riesgo\" + 0.016*\"temperatura\" + 0.016*\"enfrentar\" + '\n",
      "  '0.016*\"tierra\" + 0.015*\"batalla\"'),\n",
      " (1,\n",
      "  '0.029*\"foro\" + 0.028*\"unico\" + 0.026*\"agenda\" + 0.018*\"amenazar\" + '\n",
      "  '0.016*\"alianza\" + 0.015*\"exterior\" + 0.012*\"madrid\" + 0.010*\"costero\" + '\n",
      "  '0.009*\"gasto\" + 0.006*\"valorar\"'),\n",
      " (2,\n",
      "  '0.051*\"politico\" + 0.022*\"europa\" + 0.019*\"derechos_humanos\" + '\n",
      "  '0.017*\"reconocimiento\" + 0.016*\"reduccion\" + 0.015*\"defensa\" + '\n",
      "  '0.010*\"migrant\" + 0.010*\"valer\" + 0.010*\"cdmx\" + 0.010*\"creciente\"'),\n",
      " (3,\n",
      "  '0.072*\"carbono\" + 0.038*\"  \" + 0.034*\"establecer\" + 0.018*\"representar\" + '\n",
      "  '0.016*\"adoptar\" + 0.015*\"sufrir\" + 0.015*\"rio\" + 0.015*\"estar\" + '\n",
      "  '0.015*\"región\" + 0.014*\"aire\"'),\n",
      " (4,\n",
      "  '0.063*\"cambioclimatico\" + 0.050*\"tener\" + 0.039*\"mexicano\" + 0.038*\"pedir\" '\n",
      "  '+ 0.021*\"numero\" + 0.015*\"donald_trump\" + 0.013*\"disponer\" + '\n",
      "  '0.013*\"desastre\" + 0.011*\"presidencia\" + 0.011*\"hecho\"'),\n",
      " (5,\n",
      "  '0.076*\"video\" + 0.074*\"oso_polar\" + 0.025*\"hielo\" + 0.018*\"campana\" + '\n",
      "  '0.018*\"pretender\" + 0.015*\"presente\" + 0.012*\"unesco\" + 0.012*\"moribundo\" + '\n",
      "  '0.011*\"desgarrador\" + 0.011*\"hambriento\"'),\n",
      " (6,\n",
      "  '0.081*\"luchar\" + 0.017*\"revista\" + 0.008*\"digital\" + 0.007*\"dio\" + '\n",
      "  '0.006*\"infancia\" + 0.005*\"disfrutar\" + 0.002*\"recuerdo\" + 0.001*\"gana\" + '\n",
      "  '0.000*\"ventaja\" + 0.000*\"edicion\"'),\n",
      " (7,\n",
      "  '0.021*\"venezuela\" + 0.000*\"enmarcado\" + 0.000*\"reafirmar_compromiso\" + '\n",
      "  '0.000*\"convencion_marco\" + 0.000*\"cancilleria\" + 0.000*\"accionar\" + '\n",
      "  '0.000*\"sajarov\" + 0.000*\"iu\" + 0.000*\"venezolano\" + 0.000*\"delegacion\"'),\n",
      " (8,\n",
      "  '0.082*\"\\'\" + 0.040*\"unidos\" + 0.027*\"proteger\" + 0.026*\"artico\" + '\n",
      "  '0.026*\"mandatario\" + 0.021*\"trump\" + 0.017*\"crisis\" + 0.017*\"llego\" + '\n",
      "  '0.014*\"estadounidense\" + 0.013*\"eeuu\"'),\n",
      " (9,\n",
      "  '0.040*\" \" + 0.015*\"ano\" + 0.012*\"mexico\" + 0.009*\"ambiente\" + '\n",
      "  '0.009*\"proyecto\" + 0.008*\"internacional\" + 0.008*\"ambiental\" + '\n",
      "  '0.008*\"nacional\" + 0.008*\"agua\" + 0.008*\"ley\"'),\n",
      " (10,\n",
      "  '0.065*\"francia\" + 0.034*\"regional\" + 0.033*\"planet\" + 0.033*\"cumbre_one\" + '\n",
      "  '0.030*\"ministerio\" + 0.027*\"materia\" + 0.024*\"fondo\" + 0.023*\"reunion\" + '\n",
      "  '0.021*\"desarrollo_sostenible\" + 0.020*\"ministro\"'),\n",
      " (11,\n",
      "  '0.030*\"espana\" + 0.029*\"5\" + 0.023*\"noticia\" + 0.022*\"ganar\" + 0.022*\"real\" '\n",
      "  '+ 0.021*\"10\" + 0.020*\"4\" + 0.018*\"manana\" + 0.016*\"responsabilidad\" + '\n",
      "  '0.015*\"afirmar\"'),\n",
      " (12,\n",
      "  '0.181*\"climatico\" + 0.172*\"cambio\" + 0.050*\"pari\" + 0.032*\"cumbre\" + '\n",
      "  '0.029*\"calentamiento_global\" + 0.022*\"presidente\" + 0.020*\"lucha\" + '\n",
      "  '0.020*\"mundo\" + 0.020*\"compromiso\" + 0.015*\"planeta\"'),\n",
      " (13,\n",
      "  '0.039*\"cientifico\" + 0.034*\"chile\" + 0.028*\"humanidad\" + 0.027*\"esfuerzo\" + '\n",
      "  '0.023*\"moral\" + 0.021*\"imagen\" + 0.017*\"leer\" + 0.014*\"quedar\" + '\n",
      "  '0.014*\"foto\" + 0.014*\"oso\"')]\n"
     ]
    }
   ],
   "source": [
    "lda_model = gensim.models.ldamodel.LdaModel(corpus=corpus,\n",
    "                                           id2word=id2word,\n",
    "                                           num_topics=14, \n",
    "                                           random_state=100,\n",
    "                                           update_every=1,\n",
    "                                           chunksize=100,\n",
    "                                           passes=10,\n",
    "                                           alpha='auto',\n",
    "                                           per_word_topics=True)\n",
    "pprint(lda_model.print_topics())\n",
    "doc_lda = lda_model[corpus]"
   ]
  },
  {
   "cell_type": "code",
   "execution_count": null,
   "metadata": {},
   "outputs": [],
   "source": []
  }
 ],
 "metadata": {
  "kernelspec": {
   "display_name": "env_nanook",
   "language": "python",
   "name": "python3"
  },
  "language_info": {
   "codemirror_mode": {
    "name": "ipython",
    "version": 3
   },
   "file_extension": ".py",
   "mimetype": "text/x-python",
   "name": "python",
   "nbconvert_exporter": "python",
   "pygments_lexer": "ipython3",
   "version": "3.11.8"
  },
  "orig_nbformat": 4
 },
 "nbformat": 4,
 "nbformat_minor": 2
}
