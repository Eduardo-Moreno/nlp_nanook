{
 "cells": [
  {
   "cell_type": "code",
   "execution_count": 1,
   "metadata": {},
   "outputs": [],
   "source": [
    "import pandas as pd\n",
    "import matplotlib.pyplot as plt\n",
    "import nltk\n",
    "import numpy as np\n",
    "import seaborn as sns\n",
    "from matplotlib.ticker import FuncFormatter\n",
    "from nltk.corpus import cess_esp\n",
    "from collections import Counter\n",
    "from nltk.stem import SnowballStemmer\n",
    "from nltk.stem import WordNetLemmatizer\n",
    "from IPython.display import display, Image"
   ]
  },
  {
   "attachments": {},
   "cell_type": "markdown",
   "metadata": {},
   "source": [
    "Uncomment the following lines of code to install `omw`, `cess_esp`, `punkt`, `wordnet`:"
   ]
  },
  {
   "cell_type": "code",
   "execution_count": 2,
   "metadata": {},
   "outputs": [],
   "source": [
    "#nltk.download('omw')  # Descargar el recurso WordNet en español\n",
    "#nltk.download('cess_esp')  # Descargar el corpus CESS en español (etiquetado POS)\n",
    "#nltk.download('punkt')\n",
    "#nltk.download('wordnet')"
   ]
  },
  {
   "cell_type": "code",
   "execution_count": 3,
   "metadata": {},
   "outputs": [],
   "source": [
    "import sys\n",
    "sys.path.insert(0, '/Users/eduardomorenoortiz/Desktop/ITAM/nanook/nlp_nanook/src') # LOCAL\n",
    "from utils.utils import get_corpus_N_gram"
   ]
  },
  {
   "attachments": {},
   "cell_type": "markdown",
   "metadata": {},
   "source": [
    "### Manual configuration\n",
    "\n",
    "In case `nltk.download('omw')`, `nltk.download('cess_esp')` and/or `nltk.download('punkt')` response were **False**, then download following models from the next [link](http://www.nltk.org/nltk_data/):\n",
    "- Model: *Extended Open Multilingual WordNet*, ID: *extended_omw*\n",
    "- Model: *CESS-ESP Treebank*, ID: *cess_esp*\n",
    "- Model: *Punkt Tokenizer Models*, ID: *punkt*\n",
    "- Model: *WordNet*, ID: *wordnet*\n",
    "\n",
    "Once files are downloaded move them to:\n",
    "- *extended_omw*, *cess_esp*: */env_nanook/lib/nltk_data/tokenizers* \n",
    "- *punkt*: */env_nanook/lib/nltk_data/tokenizers*\n",
    "- *wordnet*: */env_nanook/lib/nltk_data/tokenizers/corpora*"
   ]
  },
  {
   "attachments": {},
   "cell_type": "markdown",
   "metadata": {},
   "source": [
    "Update the following line of code with the specific path for folder `nltk_data`"
   ]
  },
  {
   "cell_type": "code",
   "execution_count": 4,
   "metadata": {},
   "outputs": [],
   "source": [
    "nltk.data.path.append('/Users/eduardomorenoortiz/Desktop/ITAM/nanook/nlp_nanook/env_nlp_nanook/lib/python3.11/site-packages/nltk/nltk_data') # Uncomment if necessary"
   ]
  },
  {
   "attachments": {},
   "cell_type": "markdown",
   "metadata": {},
   "source": [
    "# Load data"
   ]
  },
  {
   "cell_type": "code",
   "execution_count": 5,
   "metadata": {},
   "outputs": [],
   "source": [
    "df_clean = pd.read_pickle('../../data/preprocessed/clean_text_nanook.pkl')"
   ]
  },
  {
   "cell_type": "code",
   "execution_count": 6,
   "metadata": {},
   "outputs": [
    {
     "data": {
      "text/html": [
       "<div>\n",
       "<style scoped>\n",
       "    .dataframe tbody tr th:only-of-type {\n",
       "        vertical-align: middle;\n",
       "    }\n",
       "\n",
       "    .dataframe tbody tr th {\n",
       "        vertical-align: top;\n",
       "    }\n",
       "\n",
       "    .dataframe thead th {\n",
       "        text-align: right;\n",
       "    }\n",
       "</style>\n",
       "<table border=\"1\" class=\"dataframe\">\n",
       "  <thead>\n",
       "    <tr style=\"text-align: right;\">\n",
       "      <th></th>\n",
       "      <th>Page Name</th>\n",
       "      <th>Facebook Id</th>\n",
       "      <th>Likes at Posting</th>\n",
       "      <th>Post Created</th>\n",
       "      <th>Type</th>\n",
       "      <th>Total Interactions</th>\n",
       "      <th>Likes</th>\n",
       "      <th>Comments</th>\n",
       "      <th>Shares</th>\n",
       "      <th>Love</th>\n",
       "      <th>...</th>\n",
       "      <th>Angry</th>\n",
       "      <th>Care</th>\n",
       "      <th>Message</th>\n",
       "      <th>Image Text</th>\n",
       "      <th>Link Text</th>\n",
       "      <th>Description</th>\n",
       "      <th>Overperforming Score (weighted  —  Likes 1x Shares 1x Comments 1x Love 1x Wow 1x Haha 1x Sad 1x Angry 1x Care 1x )</th>\n",
       "      <th>messageChar_length</th>\n",
       "      <th>messageWords_length</th>\n",
       "      <th>Message_clean</th>\n",
       "    </tr>\n",
       "  </thead>\n",
       "  <tbody>\n",
       "    <tr>\n",
       "      <th>0</th>\n",
       "      <td>AgroForestales C.A.</td>\n",
       "      <td>100069920850250</td>\n",
       "      <td>NaN</td>\n",
       "      <td>2017-12-31 23:43:00 CST</td>\n",
       "      <td>Link</td>\n",
       "      <td>18</td>\n",
       "      <td>16</td>\n",
       "      <td>0</td>\n",
       "      <td>2</td>\n",
       "      <td>0</td>\n",
       "      <td>...</td>\n",
       "      <td>0</td>\n",
       "      <td>0</td>\n",
       "      <td>Mitigar el cambio climático con los pies en la...</td>\n",
       "      <td>NaN</td>\n",
       "      <td>Mitigar el cambio climático con los pies en la...</td>\n",
       "      <td>La importancia de la conservación de los suelo...</td>\n",
       "      <td>-2.11</td>\n",
       "      <td>253</td>\n",
       "      <td>11</td>\n",
       "      <td>mitigar el cambio climatico con los pies en la...</td>\n",
       "    </tr>\n",
       "    <tr>\n",
       "      <th>1</th>\n",
       "      <td>El Sol de San Juan del Río</td>\n",
       "      <td>100064929514903</td>\n",
       "      <td>82377.0</td>\n",
       "      <td>2017-12-31 23:00:11 CST</td>\n",
       "      <td>Link</td>\n",
       "      <td>3</td>\n",
       "      <td>3</td>\n",
       "      <td>0</td>\n",
       "      <td>0</td>\n",
       "      <td>0</td>\n",
       "      <td>...</td>\n",
       "      <td>0</td>\n",
       "      <td>0</td>\n",
       "      <td>#México 🇲🇽 | La Ciudad de México es la primera...</td>\n",
       "      <td>NaN</td>\n",
       "      <td>Buscan a líderes contra el cambio climático</td>\n",
       "      <td>La Ciudad de México es la primera urbe en Lati...</td>\n",
       "      <td>-40</td>\n",
       "      <td>124</td>\n",
       "      <td>22</td>\n",
       "      <td>mexico   la ciudad de mexico es la primera urb...</td>\n",
       "    </tr>\n",
       "    <tr>\n",
       "      <th>2</th>\n",
       "      <td>Víctor Quintana Silveyra</td>\n",
       "      <td>100063648342761</td>\n",
       "      <td>NaN</td>\n",
       "      <td>2017-12-31 21:57:39 CST</td>\n",
       "      <td>Status</td>\n",
       "      <td>115</td>\n",
       "      <td>68</td>\n",
       "      <td>33</td>\n",
       "      <td>3</td>\n",
       "      <td>11</td>\n",
       "      <td>...</td>\n",
       "      <td>0</td>\n",
       "      <td>0</td>\n",
       "      <td>Para este 2018 que comienza les deseo de coraz...</td>\n",
       "      <td>NaN</td>\n",
       "      <td>NaN</td>\n",
       "      <td>NaN</td>\n",
       "      <td>1.58</td>\n",
       "      <td>608</td>\n",
       "      <td>101</td>\n",
       "      <td>para este 2018 que comienza les deseo de coraz...</td>\n",
       "    </tr>\n",
       "    <tr>\n",
       "      <th>3</th>\n",
       "      <td>Webguerrillera Internacional</td>\n",
       "      <td>100067009789858</td>\n",
       "      <td>NaN</td>\n",
       "      <td>2017-12-31 20:41:50 CST</td>\n",
       "      <td>Link</td>\n",
       "      <td>5</td>\n",
       "      <td>2</td>\n",
       "      <td>0</td>\n",
       "      <td>1</td>\n",
       "      <td>0</td>\n",
       "      <td>...</td>\n",
       "      <td>1</td>\n",
       "      <td>0</td>\n",
       "      <td>La ONU lanza alerta roja para 2018 por armas n...</td>\n",
       "      <td>NaN</td>\n",
       "      <td>La ONU lanza alerta roja para 2018 por armas n...</td>\n",
       "      <td>CIUDAD DE MÉXICO (proceso.com.mx).- El secreta...</td>\n",
       "      <td>-0.72</td>\n",
       "      <td>173</td>\n",
       "      <td>29</td>\n",
       "      <td>la onu lanza alerta roja para 2018 por armas n...</td>\n",
       "    </tr>\n",
       "    <tr>\n",
       "      <th>4</th>\n",
       "      <td>Libertad y Pensamiento</td>\n",
       "      <td>530019227057516</td>\n",
       "      <td>142143.0</td>\n",
       "      <td>2017-12-31 20:30:00 CST</td>\n",
       "      <td>Link</td>\n",
       "      <td>31</td>\n",
       "      <td>21</td>\n",
       "      <td>0</td>\n",
       "      <td>3</td>\n",
       "      <td>1</td>\n",
       "      <td>...</td>\n",
       "      <td>1</td>\n",
       "      <td>0</td>\n",
       "      <td>Novedoso proyecto busca instalar paneles solar...</td>\n",
       "      <td>NaN</td>\n",
       "      <td>Instalar paneles solares en la luna, una salid...</td>\n",
       "      <td>Novedoso proyecto busca instalar paneles solar...</td>\n",
       "      <td>-5.39</td>\n",
       "      <td>228</td>\n",
       "      <td>17</td>\n",
       "      <td>novedoso proyecto busca instalar paneles solar...</td>\n",
       "    </tr>\n",
       "  </tbody>\n",
       "</table>\n",
       "<p>5 rows × 23 columns</p>\n",
       "</div>"
      ],
      "text/plain": [
       "                      Page Name      Facebook Id  Likes at Posting  \\\n",
       "0           AgroForestales C.A.  100069920850250               NaN   \n",
       "1    El Sol de San Juan del Río  100064929514903           82377.0   \n",
       "2      Víctor Quintana Silveyra  100063648342761               NaN   \n",
       "3  Webguerrillera Internacional  100067009789858               NaN   \n",
       "4        Libertad y Pensamiento  530019227057516          142143.0   \n",
       "\n",
       "              Post Created    Type Total Interactions  Likes  Comments  \\\n",
       "0  2017-12-31 23:43:00 CST    Link                 18     16         0   \n",
       "1  2017-12-31 23:00:11 CST    Link                  3      3         0   \n",
       "2  2017-12-31 21:57:39 CST  Status                115     68        33   \n",
       "3  2017-12-31 20:41:50 CST    Link                  5      2         0   \n",
       "4  2017-12-31 20:30:00 CST    Link                 31     21         0   \n",
       "\n",
       "   Shares  Love  ...  Angry  Care  \\\n",
       "0       2     0  ...      0     0   \n",
       "1       0     0  ...      0     0   \n",
       "2       3    11  ...      0     0   \n",
       "3       1     0  ...      1     0   \n",
       "4       3     1  ...      1     0   \n",
       "\n",
       "                                             Message  Image Text  \\\n",
       "0  Mitigar el cambio climático con los pies en la...         NaN   \n",
       "1  #México 🇲🇽 | La Ciudad de México es la primera...         NaN   \n",
       "2  Para este 2018 que comienza les deseo de coraz...         NaN   \n",
       "3  La ONU lanza alerta roja para 2018 por armas n...         NaN   \n",
       "4  Novedoso proyecto busca instalar paneles solar...         NaN   \n",
       "\n",
       "                                           Link Text  \\\n",
       "0  Mitigar el cambio climático con los pies en la...   \n",
       "1        Buscan a líderes contra el cambio climático   \n",
       "2                                                NaN   \n",
       "3  La ONU lanza alerta roja para 2018 por armas n...   \n",
       "4  Instalar paneles solares en la luna, una salid...   \n",
       "\n",
       "                                         Description  \\\n",
       "0  La importancia de la conservación de los suelo...   \n",
       "1  La Ciudad de México es la primera urbe en Lati...   \n",
       "2                                                NaN   \n",
       "3  CIUDAD DE MÉXICO (proceso.com.mx).- El secreta...   \n",
       "4  Novedoso proyecto busca instalar paneles solar...   \n",
       "\n",
       "  Overperforming Score (weighted  —  Likes 1x Shares 1x Comments 1x Love 1x Wow 1x Haha 1x Sad 1x Angry 1x Care 1x )  \\\n",
       "0                                              -2.11                                                                   \n",
       "1                                                -40                                                                   \n",
       "2                                               1.58                                                                   \n",
       "3                                              -0.72                                                                   \n",
       "4                                              -5.39                                                                   \n",
       "\n",
       "  messageChar_length messageWords_length  \\\n",
       "0                253                  11   \n",
       "1                124                  22   \n",
       "2                608                 101   \n",
       "3                173                  29   \n",
       "4                228                  17   \n",
       "\n",
       "                                       Message_clean  \n",
       "0  mitigar el cambio climatico con los pies en la...  \n",
       "1  mexico   la ciudad de mexico es la primera urb...  \n",
       "2  para este 2018 que comienza les deseo de coraz...  \n",
       "3  la onu lanza alerta roja para 2018 por armas n...  \n",
       "4  novedoso proyecto busca instalar paneles solar...  \n",
       "\n",
       "[5 rows x 23 columns]"
      ]
     },
     "execution_count": 6,
     "metadata": {},
     "output_type": "execute_result"
    }
   ],
   "source": [
    "df_clean.head()"
   ]
  },
  {
   "cell_type": "code",
   "execution_count": 7,
   "metadata": {},
   "outputs": [
    {
     "data": {
      "text/plain": [
       "(87422, 23)"
      ]
     },
     "execution_count": 7,
     "metadata": {},
     "output_type": "execute_result"
    }
   ],
   "source": [
    "df_clean.shape"
   ]
  },
  {
   "attachments": {},
   "cell_type": "markdown",
   "metadata": {},
   "source": [
    "# Stemming\n",
    "\n",
    "**Stemming** is a text normalization process used in *Natural Language Processing* (*NLP*) to reduce words to their base or root form, known as the **stem**. The goal of stemming is to obtain a common representation for variations of words that share the same root, even if that root may not be an actual word. The resulting stems may not always be semantically valid words but serve the purpose of grouping similar words together.\n",
    "\n",
    "Stemming involves removing prefixes or suffixes from words to derive their root forms. The idea is to simplify words to their basic linguistic or morphological components. This process is particularly useful in tasks such as text analysis, information retrieval, and search engine optimization.\n",
    "\n",
    "Key points about stemming:\n",
    "\n",
    "1. Reduction of Inflected Words: Stemming reduces words to their base or root forms, removing variations caused by different tenses, pluralization, or other grammatical forms. For example, the stem of \"running\" is \"run,\" and the stem of \"happily\" is \"happi.\"\n",
    "\n",
    "1. Heuristic-Based Approach: Stemming algorithms typically use heuristic rules to apply transformations to words. These rules are designed to strip common prefixes or suffixes, but they may not always result in a linguistically valid word.\n",
    "\n",
    "1. Simplification of Vocabulary: Stemming helps simplify the vocabulary by treating different inflections of a word as the same entity. This can reduce the dimensionality of the data and improve the efficiency of text analysis.\n",
    "\n",
    "1. Fast and Lightweight: Stemming is computationally less intensive than lemmatization, making it faster and more suitable for tasks where speed is crucial.\n",
    "\n",
    "Here's a simple example in English:\n",
    "\n",
    "- Word: \"Running\"\n",
    "- Stem: \"Run\"\n",
    "\n",
    "It's important to note that stemming does not consider the context or semantics of words. Different stemming algorithms may produce different results, and there might be cases where stemming produces stems that are not valid words or may not accurately reflect the intended meaning. Popular stemming algorithms include the Porter Stemmer and the Lancaster Stemmer.\n",
    "\n",
    "Reference:\n",
    "- Prompt: What is stemming? - [ChatGPT](https://chat.openai.com/)"
   ]
  },
  {
   "cell_type": "code",
   "execution_count": 8,
   "metadata": {},
   "outputs": [],
   "source": [
    "stemmer = SnowballStemmer(\"spanish\")"
   ]
  },
  {
   "cell_type": "code",
   "execution_count": 9,
   "metadata": {},
   "outputs": [],
   "source": [
    "def realizar_stemming(texto):\n",
    "    palabras = nltk.word_tokenize(texto, language='spanish')\n",
    "    stems = [stemmer.stem(palabra) for palabra in palabras]\n",
    "    return ' '.join(stems)"
   ]
  },
  {
   "cell_type": "code",
   "execution_count": 10,
   "metadata": {},
   "outputs": [
    {
     "name": "stdout",
     "output_type": "stream",
     "text": [
      "Original text: mitigar el cambio climatico con los pies en la tierra \n",
      "Stemmed text: mitig el cambi climat con los pies en la tierr\n",
      "------------------------------\n",
      "Original text: el representante de la onu menciono los graves conflictos y violaciones de derechos humanos los peligros que representan las armas nucleares y el cambio climatico para la seguridad del planeta\n",
      "Stemmed  text: el represent de la onu mencion los grav conflict y violacion de derech human los peligr que represent las armas nuclear y el cambi climat par la segur del planet\n"
     ]
    }
   ],
   "source": [
    "print(f\"Original text: {df_clean['Message_clean'][0]}\")\n",
    "print(f\"Stemmed text: {realizar_stemming(texto=df_clean['Message_clean'][0])}\")\n",
    "print('-'*30)\n",
    "print(f\"Original text: {df_clean['Message_clean'][23]}\")\n",
    "print(f\"Stemmed  text: {realizar_stemming(texto=df_clean['Message_clean'][23])}\")"
   ]
  },
  {
   "attachments": {},
   "cell_type": "markdown",
   "metadata": {},
   "source": [
    "Be patient with the following task... my computer finished in $4$ mins."
   ]
  },
  {
   "cell_type": "code",
   "execution_count": 11,
   "metadata": {},
   "outputs": [],
   "source": [
    "stemming = df_clean['Message_clean'].apply(lambda x: realizar_stemming(texto=x)) # Uncomment if first time running the notebook\n",
    "df_clean['Message_clean_stemm'] = stemming # Uncomment if first time running the notebook"
   ]
  },
  {
   "attachments": {},
   "cell_type": "markdown",
   "metadata": {},
   "source": [
    "# Lemmatization\n",
    "\n",
    "**Lemmatization** is a linguistic process commonly used in *Natural Language Processing* (*NLP*) to reduce words to their base or root form, known as the **lemma**. The lemma represents the canonical, dictionary form of a word. Lemmatization is different from stemming, which involves removing prefixes or suffixes from a word to obtain its root form, even if that root form may not be an actual word.\n",
    "\n",
    "The main goal of lemmatization is to group different inflected forms of a word so they can be analyzed as a single item. This process is crucial for tasks like text analysis, information retrieval, and language modeling. Lemmatization helps in reducing the dimensionality of the vocabulary and improving the accuracy of text analysis by focusing on the core meaning of words.\n",
    "\n",
    "Here are some key points about lemmatization:\n",
    "\n",
    "1. Word Normalization: Lemmatization performs a kind of word normalization by transforming words into their base or root form. For example, the lemma of the word \"running\" is \"run,\" and the lemma of \"better\" is \"good.\"\n",
    "\n",
    "1. Context Preservation: Unlike stemming, lemmatization considers the context and meaning of a word before determining its base form. This helps in producing more accurate and meaningful results.\n",
    "\n",
    "1. Dictionary-Based Approach: Lemmatization often relies on dictionaries or morphological analysis to map words to their lemmas. These dictionaries include information about the base forms of words and their grammatical properties.\n",
    "\n",
    "1. Part-of-Speech Consideration: Lemmatization may take into account the part of speech (POS) of a word to determine its correct lemma. For example, the lemma of \"better\" as an adjective is \"good,\" but as an adverb, it remains \"better.\"\n",
    "\n",
    "1. Improved Text Analysis: Lemmatization can improve the accuracy of text analysis tasks such as sentiment analysis, topic modeling, and information retrieval by reducing words to their essential forms.\n",
    "\n",
    "Here's a simple example in English:\n",
    "\n",
    "- Word: \"Running\"\n",
    "- Lemma: \"Run\"\n",
    "\n",
    "In the context of NLP, libraries like NLTK (Natural Language Toolkit) and spaCy provide lemmatization tools and resources for multiple languages. Lemmatization is a valuable preprocessing step in many NLP applications to enhance the understanding and analysis of textual data.\n",
    "\n",
    "\n",
    "Reference:\n",
    "- Prompt: What is lemmatization? - [ChatGPT](https://chat.openai.com/)"
   ]
  },
  {
   "cell_type": "code",
   "execution_count": 12,
   "metadata": {},
   "outputs": [],
   "source": [
    "lematizador = WordNetLemmatizer()"
   ]
  },
  {
   "attachments": {},
   "cell_type": "markdown",
   "metadata": {},
   "source": [
    "The following code will lemmatize text incorrectly"
   ]
  },
  {
   "cell_type": "code",
   "execution_count": 13,
   "metadata": {},
   "outputs": [],
   "source": [
    "def lematizar_texto(texto):\n",
    "    palabras = nltk.word_tokenize(texto, language='spanish')\n",
    "    lemas = [lematizador.lemmatize(palabra) for palabra in palabras]\n",
    "    return ' '.join(lemas)"
   ]
  },
  {
   "cell_type": "code",
   "execution_count": 14,
   "metadata": {},
   "outputs": [
    {
     "name": "stdout",
     "output_type": "stream",
     "text": [
      "Original text: mitigar el cambio climatico con los pies en la tierra \n",
      "Lemmatized  text: mitigar el cambio climatico con los pie en la tierra\n",
      "------------------------------\n",
      "Original text: el representante de la onu menciono los graves conflictos y violaciones de derechos humanos los peligros que representan las armas nucleares y el cambio climatico para la seguridad del planeta\n",
      "Lemmatized  text: el representante de la onu menciono los graf conflictos y violaciones de derechos humanos los peligros que representan la armas nucleares y el cambio climatico para la seguridad del planeta\n",
      "------------------------------\n",
      "Original text: nota como la palabra graves tiene asociado el token graf\n",
      "Lemmatized  text: nota como la palabra graf tiene asociado el token graf\n"
     ]
    }
   ],
   "source": [
    "print(f\"Original text: {df_clean['Message_clean'][0]}\")\n",
    "print(f\"Lemmatized  text: {lematizar_texto(texto=df_clean['Message_clean'][0])}\")\n",
    "print('-'*30)\n",
    "print(f\"Original text: {df_clean['Message_clean'][23]}\")\n",
    "print(f\"Lemmatized  text: {lematizar_texto(texto=df_clean['Message_clean'][23])}\")\n",
    "print('-'*30)\n",
    "print(f\"Original text: nota como la palabra graves tiene asociado el token graf\")\n",
    "print(f'Lemmatized  text: {lematizar_texto(texto=\"nota como la palabra graves tiene asociado el token graf\")}')"
   ]
  },
  {
   "attachments": {},
   "cell_type": "markdown",
   "metadata": {},
   "source": [
    "> By loading:\n",
    ">\n",
    "> `lematizador = WordNetLemmatizer()`\n",
    ">\n",
    "> `lematizador` will be a *lemmatizer* for English! It can handle some words for spanish but is not a built for lemmatizing text in Spanish. \n",
    ">\n",
    "> It could be more helpful to use `spaCy` (which will be introduced to you later...) \n",
    "\n",
    "If you run:\n",
    "\n",
    "```\n",
    "lematizador = WordNetLemmatizer()\n",
    "```\n",
    "\n",
    "It is expected the next ERROR:"
   ]
  },
  {
   "cell_type": "code",
   "execution_count": 15,
   "metadata": {},
   "outputs": [
    {
     "data": {
      "image/png": "[encoded data removed]",
      "text/plain": [
       "<IPython.core.display.Image object>"
      ]
     },
     "metadata": {},
     "output_type": "display_data"
    }
   ],
   "source": [
    "display(Image(filename='../images/expected_error.png'))"
   ]
  },
  {
   "attachments": {},
   "cell_type": "markdown",
   "metadata": {},
   "source": [
    "Do not worry, the error shown above **IS NOT AN ERROR, IS AN IMAGE!**\n",
    "\n",
    "> The function `lematizar_texto()` define as:\n",
    ">\n",
    "> ```\n",
    ">   def lematizar_texto(texto):\n",
    ">\n",
    ">       palabras = nltk.word_tokenize(texto, language='spanish')\n",
    ">\n",
    ">       lemas = [lematizador.lemmatize(palabra) for palabra in palabras]\n",
    ">\n",
    ">       return ' '.join(lemas)\n",
    "> ```\n",
    ">\n",
    "> Works as follows, the code:\n",
    "> \n",
    "> ```\n",
    "> palabras = nltk.word_tokenize(texto, language='spanish')\n",
    "> ```\n",
    "> \n",
    "> Is mapping each word in `texto` to it respective token defined in `/Users/eduardomorenoortiz/Desktop/ITAM/nanook/nlp_nanook/env_nlp_nanook/lib/> python3.11/site-packages/nltk/nltk_data/tokenizers/punkt/spanish.pickle`. \n",
    "> \n",
    "> In the final part:\n",
    "> \n",
    "> ```\n",
    "> lemas = [lematizador.lemmatize(palabra) for palabra in palabras]\n",
    "> ```\n",
    "> \n",
    "> Is lemmatizing words on Spanish using a model built to lemmatized text in English!\n",
    "> \n",
    "> Now, do you see why the text was erroneous?\n",
    ">\n",
    "> [Here](https://stackoverflow.com/questions/60534999/how-to-solve-spanish-lemmatization-problems-with-spacy) an interesting chat about this issue.\n",
    "\n",
    "The corrected function using `spaCy` is:"
   ]
  },
  {
   "cell_type": "code",
   "execution_count": 16,
   "metadata": {},
   "outputs": [],
   "source": [
    "import spacy"
   ]
  },
  {
   "cell_type": "code",
   "execution_count": 17,
   "metadata": {},
   "outputs": [
    {
     "data": {
      "text/plain": [
       "'3.7.4'"
      ]
     },
     "execution_count": 17,
     "metadata": {},
     "output_type": "execute_result"
    }
   ],
   "source": [
    "spacy.__version__"
   ]
  },
  {
   "cell_type": "code",
   "execution_count": 18,
   "metadata": {},
   "outputs": [],
   "source": [
    "nlp = spacy.load('es_core_news_lg')"
   ]
  },
  {
   "cell_type": "code",
   "execution_count": 19,
   "metadata": {},
   "outputs": [],
   "source": [
    "def lematizar_texto(texto):\n",
    "    lemas = nlp(texto)\n",
    "    lematizado = [token.lemma_ for token in lemas]\n",
    "    return ' '.join(lematizado)"
   ]
  },
  {
   "cell_type": "code",
   "execution_count": 20,
   "metadata": {},
   "outputs": [
    {
     "name": "stdout",
     "output_type": "stream",
     "text": [
      "Original text: mitigar el cambio climatico con los pies en la tierra \n",
      "Lemmatized  text: mitigar el cambio climatico con el pie en el tierra\n",
      "------------------------------\n",
      "Original text: el representante de la onu menciono los graves conflictos y violaciones de derechos humanos los peligros que representan las armas nucleares y el cambio climatico para la seguridad del planeta\n",
      "Lemmatized  text: el representante de el onu mencionar el grave conflicto y violación de derechos humanos el peligro que representar el arma nuclear y el cambio climatico para el seguridad del planeta\n",
      "------------------------------\n",
      "Original text: nota como la palabra graves ahora tiene asociado el token graves\n",
      "Lemmatized  text: nota como el palabra grave ahora tener asociado el token grave\n"
     ]
    }
   ],
   "source": [
    "print(f\"Original text: {df_clean['Message_clean'][0]}\")\n",
    "print(f\"Lemmatized  text: {lematizar_texto(texto=df_clean['Message_clean'][0])}\")\n",
    "print('-'*30)\n",
    "print(f\"Original text: {df_clean['Message_clean'][23]}\")\n",
    "print(f\"Lemmatized  text: {lematizar_texto(texto=df_clean['Message_clean'][23])}\")\n",
    "print('-'*30)\n",
    "print(f\"Original text: nota como la palabra graves ahora tiene asociado el token graves\")\n",
    "print(f'Lemmatized  text: {lematizar_texto(texto=\"nota como la palabra graves ahora tiene asociado el token graves\")}')"
   ]
  },
  {
   "attachments": {},
   "cell_type": "markdown",
   "metadata": {},
   "source": [
    "Be more patient, the following code will take more time to run (my machine finished in 30 mins!)"
   ]
  },
  {
   "cell_type": "code",
   "execution_count": 21,
   "metadata": {},
   "outputs": [],
   "source": [
    "lemmatization = df_clean['Message_clean'].apply(lambda x: lematizar_texto(texto=x)) # Uncomment if first time running the notebook\n",
    "df_clean['Message_clean_lemm'] = lemmatization # Uncomment if first time running the notebook"
   ]
  },
  {
   "attachments": {},
   "cell_type": "markdown",
   "metadata": {},
   "source": [
    "Here is the evidence, the code bellow **IS AN IMAGE**:"
   ]
  },
  {
   "cell_type": "code",
   "execution_count": 45,
   "metadata": {},
   "outputs": [
    {
     "data": {
      "image/png": "[encoded data removed]",
      "text/plain": [
       "<IPython.core.display.Image object>"
      ]
     },
     "metadata": {},
     "output_type": "display_data"
    }
   ],
   "source": [
    "display(Image(filename='../images/time_lemm_text.png'))"
   ]
  },
  {
   "attachments": {},
   "cell_type": "markdown",
   "metadata": {},
   "source": [
    "# Stop words"
   ]
  },
  {
   "cell_type": "code",
   "execution_count": 22,
   "metadata": {},
   "outputs": [
    {
     "data": {
      "text/plain": [
       "608"
      ]
     },
     "execution_count": 22,
     "metadata": {},
     "output_type": "execute_result"
    }
   ],
   "source": [
    "with open('../utils/spanish_stopwords.txt', 'r') as archivo:\n",
    "    stop_words = [linea.strip() for linea in archivo]\n",
    "len(stop_words)"
   ]
  },
  {
   "attachments": {},
   "cell_type": "markdown",
   "metadata": {},
   "source": [
    "**Here's finish the first session!**"
   ]
  },
  {
   "cell_type": "code",
   "execution_count": 23,
   "metadata": {},
   "outputs": [],
   "source": [
    "# Función para formatear las etiquetas del eje Y en formato abreviado (por ejemplo, 120k)\n",
    "def formato_abreviado(valor, posicion):\n",
    "    if valor >= 1000:\n",
    "        return f'{int(valor/1000)}k'\n",
    "    else:\n",
    "        return int(valor)"
   ]
  },
  {
   "cell_type": "code",
   "execution_count": 24,
   "metadata": {},
   "outputs": [],
   "source": [
    "df_clean.to_pickle('../../data/preprocessed/stemm_lemm_text_nanook.pkl') # Uncomment if first time running the notebook"
   ]
  },
  {
   "cell_type": "code",
   "execution_count": 25,
   "metadata": {},
   "outputs": [
    {
     "name": "stdout",
     "output_type": "stream",
     "text": [
      "Length of corpus: 3802760\n"
     ]
    },
    {
     "data": {
      "image/png": "[encoded data removed]",
      "text/plain": [
       "<Figure size 640x480 with 1 Axes>"
      ]
     },
     "metadata": {},
     "output_type": "display_data"
    }
   ],
   "source": [
    "corpus_stemm = get_corpus_N_gram(list_text=df_clean['Message_clean_stemm'], stop_words=stop_words, ngram=1, show_plot=True)"
   ]
  },
  {
   "cell_type": "code",
   "execution_count": 26,
   "metadata": {},
   "outputs": [
    {
     "name": "stdout",
     "output_type": "stream",
     "text": [
      "Length of corpus: 3425310\n"
     ]
    },
    {
     "data": {
      "image/png": "[encoded data removed]",
      "text/plain": [
       "<Figure size 640x480 with 1 Axes>"
      ]
     },
     "metadata": {},
     "output_type": "display_data"
    }
   ],
   "source": [
    "corpus_lemm = get_corpus_N_gram(list_text=df_clean['Message_clean_lemm'], stop_words=stop_words, ngram=1, show_plot=True)"
   ]
  },
  {
   "cell_type": "code",
   "execution_count": 27,
   "metadata": {},
   "outputs": [],
   "source": [
    "count_corpus_stem = Counter(corpus_stemm)\n",
    "count_corpus_lemm = Counter(corpus_lemm)"
   ]
  },
  {
   "cell_type": "code",
   "execution_count": 28,
   "metadata": {},
   "outputs": [],
   "source": [
    "count_corpus_stem = count_corpus_stem.most_common()\n",
    "count_corpus_lemm = count_corpus_lemm.most_common()"
   ]
  },
  {
   "cell_type": "code",
   "execution_count": 29,
   "metadata": {},
   "outputs": [
    {
     "name": "stdout",
     "output_type": "stream",
     "text": [
      "89211\n",
      "114854\n"
     ]
    }
   ],
   "source": [
    "print(len(count_corpus_stem))\n",
    "print(len(count_corpus_lemm))"
   ]
  },
  {
   "cell_type": "code",
   "execution_count": 30,
   "metadata": {},
   "outputs": [
    {
     "name": "stdout",
     "output_type": "stream",
     "text": [
      "('cambi', 73010)\n",
      "cambi 73010\n"
     ]
    }
   ],
   "source": [
    "for i in count_corpus_stem:\n",
    "    print(i)\n",
    "    print(i[0], i[1])\n",
    "    break"
   ]
  },
  {
   "cell_type": "code",
   "execution_count": 31,
   "metadata": {},
   "outputs": [],
   "source": [
    "thresholds = []\n",
    "n_words_stem = []\n",
    "n_words_lem = []\n",
    "\n",
    "#for threshold in range(2, 100):\n",
    "#    thresholds.append(threshold)\n",
    "#    n_words_stem.append(len([palabra[0] for palabra in count_corpus_stem if palabra[1] < threshold]))\n",
    "#    n_words_lem.append(len([palabra[0] for palabra in count_corpus_lemm if palabra[1] < threshold]))\n",
    "\n",
    "for threshold in range(2, 100):\n",
    "    thresholds.append(threshold)\n",
    "    n_words_stem.append(len([palabra[0] for palabra in count_corpus_stem if palabra[1] < threshold]))\n",
    "    n_words_lem.append(len([palabra[0] for palabra in count_corpus_lemm if palabra[1] < threshold]))"
   ]
  },
  {
   "cell_type": "code",
   "execution_count": 32,
   "metadata": {},
   "outputs": [],
   "source": [
    "df_threshold = pd.DataFrame({'threshold': thresholds, 'stemming':n_words_stem, 'lemmatization':n_words_lem})"
   ]
  },
  {
   "cell_type": "code",
   "execution_count": 33,
   "metadata": {},
   "outputs": [
    {
     "data": {
      "text/html": [
       "<div>\n",
       "<style scoped>\n",
       "    .dataframe tbody tr th:only-of-type {\n",
       "        vertical-align: middle;\n",
       "    }\n",
       "\n",
       "    .dataframe tbody tr th {\n",
       "        vertical-align: top;\n",
       "    }\n",
       "\n",
       "    .dataframe thead th {\n",
       "        text-align: right;\n",
       "    }\n",
       "</style>\n",
       "<table border=\"1\" class=\"dataframe\">\n",
       "  <thead>\n",
       "    <tr style=\"text-align: right;\">\n",
       "      <th></th>\n",
       "      <th>threshold</th>\n",
       "      <th>stemming</th>\n",
       "      <th>lemmatization</th>\n",
       "    </tr>\n",
       "  </thead>\n",
       "  <tbody>\n",
       "    <tr>\n",
       "      <th>0</th>\n",
       "      <td>2</td>\n",
       "      <td>44632</td>\n",
       "      <td>57619</td>\n",
       "    </tr>\n",
       "    <tr>\n",
       "      <th>1</th>\n",
       "      <td>3</td>\n",
       "      <td>57018</td>\n",
       "      <td>73852</td>\n",
       "    </tr>\n",
       "    <tr>\n",
       "      <th>2</th>\n",
       "      <td>4</td>\n",
       "      <td>62907</td>\n",
       "      <td>81646</td>\n",
       "    </tr>\n",
       "    <tr>\n",
       "      <th>3</th>\n",
       "      <td>5</td>\n",
       "      <td>66613</td>\n",
       "      <td>86499</td>\n",
       "    </tr>\n",
       "    <tr>\n",
       "      <th>4</th>\n",
       "      <td>6</td>\n",
       "      <td>69129</td>\n",
       "      <td>89810</td>\n",
       "    </tr>\n",
       "  </tbody>\n",
       "</table>\n",
       "</div>"
      ],
      "text/plain": [
       "   threshold  stemming  lemmatization\n",
       "0          2     44632          57619\n",
       "1          3     57018          73852\n",
       "2          4     62907          81646\n",
       "3          5     66613          86499\n",
       "4          6     69129          89810"
      ]
     },
     "execution_count": 33,
     "metadata": {},
     "output_type": "execute_result"
    }
   ],
   "source": [
    "df_threshold.head()"
   ]
  },
  {
   "cell_type": "code",
   "execution_count": 34,
   "metadata": {},
   "outputs": [
    {
     "data": {
      "image/png": "[encoded data removed]",
      "text/plain": [
       "<Figure size 640x480 with 1 Axes>"
      ]
     },
     "metadata": {},
     "output_type": "display_data"
    }
   ],
   "source": [
    "# Graficar las dos líneas usando seaborn\n",
    "sns.lineplot(data=df_threshold, x='threshold', y='stemming', label='Lost Stemming')\n",
    "sns.lineplot(data=df_threshold, x='threshold', y='lemmatization', label='Lost Lemmatization')\n",
    "# Ajuste de labels en los ejes\n",
    "plt.gca().yaxis.set_major_formatter(FuncFormatter(formato_abreviado))\n",
    "# Threshold = 25\n",
    "plt.axvline(x=25, color='red', linestyle='dashed', label='Threshold = 25')\n",
    "# Ajustes adicionales, como etiquetas y leyenda\n",
    "plt.xlabel('Threshold')\n",
    "plt.ylabel('Lost')\n",
    "plt.title('Lost of tokens')\n",
    "plt.legend()\n",
    "# Mostrar el gráfico\n",
    "plt.show()"
   ]
  },
  {
   "attachments": {},
   "cell_type": "markdown",
   "metadata": {},
   "source": [
    "Notice that may exists some **logarithmic** pattern on both lines!!!"
   ]
  },
  {
   "cell_type": "code",
   "execution_count": 35,
   "metadata": {},
   "outputs": [],
   "source": [
    "threshold = 500"
   ]
  },
  {
   "cell_type": "code",
   "execution_count": 36,
   "metadata": {},
   "outputs": [],
   "source": [
    "lost_words_stem = [palabra[0] for palabra in count_corpus_stem if palabra[1] < threshold]\n",
    "lost_words_lemm = [palabra[0] for palabra in count_corpus_lemm if palabra[1] < threshold]"
   ]
  },
  {
   "cell_type": "code",
   "execution_count": 37,
   "metadata": {},
   "outputs": [
    {
     "name": "stdout",
     "output_type": "stream",
     "text": [
      "Lost tokens\n",
      "Stemming: 87890\n",
      "Lemmatization: 113612\n"
     ]
    }
   ],
   "source": [
    "print(\"Lost tokens\")\n",
    "print(f\"Stemming: {len(lost_words_stem)}\")\n",
    "print(f\"Lemmatization: {len(lost_words_lemm)}\")"
   ]
  },
  {
   "cell_type": "code",
   "execution_count": 38,
   "metadata": {},
   "outputs": [],
   "source": [
    "words_stem = [palabra[0] for palabra in count_corpus_stem if palabra[1] >= threshold]\n",
    "words_lemm = [palabra[0] for palabra in count_corpus_lemm if palabra[1] >= threshold]"
   ]
  },
  {
   "cell_type": "code",
   "execution_count": 39,
   "metadata": {},
   "outputs": [
    {
     "data": {
      "text/plain": [
       "('cambi', 73010)"
      ]
     },
     "execution_count": 39,
     "metadata": {},
     "output_type": "execute_result"
    }
   ],
   "source": [
    "count_corpus_stem[0]"
   ]
  },
  {
   "cell_type": "code",
   "execution_count": 40,
   "metadata": {},
   "outputs": [
    {
     "data": {
      "text/plain": [
       "('', 89035)"
      ]
     },
     "execution_count": 40,
     "metadata": {},
     "output_type": "execute_result"
    }
   ],
   "source": [
    "count_corpus_lemm[0]"
   ]
  },
  {
   "cell_type": "code",
   "execution_count": 41,
   "metadata": {},
   "outputs": [],
   "source": [
    "with open('../../data/corpus/corpus_counter_stemming.txt', 'w') as f:\n",
    "    for item_i in count_corpus_stem:\n",
    "        f.write(f\"{item_i[0]}: {item_i[1]}\\n\")"
   ]
  },
  {
   "cell_type": "code",
   "execution_count": 42,
   "metadata": {},
   "outputs": [],
   "source": [
    "with open('../../data/corpus/corpus_counter_lemmatization.txt', 'w') as f:\n",
    "    for item_i in count_corpus_lemm:\n",
    "        f.write(f\"{item_i[0]}: {item_i[1]}\\n\")"
   ]
  },
  {
   "attachments": {},
   "cell_type": "markdown",
   "metadata": {},
   "source": [
    "We will select words that appear at least `threshold` times."
   ]
  },
  {
   "cell_type": "code",
   "execution_count": 43,
   "metadata": {},
   "outputs": [
    {
     "name": "stdout",
     "output_type": "stream",
     "text": [
      "threshold: 500\n"
     ]
    }
   ],
   "source": [
    "print(f\"threshold: {threshold}\")"
   ]
  },
  {
   "cell_type": "code",
   "execution_count": 44,
   "metadata": {},
   "outputs": [
    {
     "name": "stdout",
     "output_type": "stream",
     "text": [
      "Number of words by Stemming: 1321\n",
      "Number of words by Lemmatization: 1242\n"
     ]
    }
   ],
   "source": [
    "print(f\"Number of words by Stemming: {len(words_stem)}\")\n",
    "print(f\"Number of words by Lemmatization: {len(words_lemm)}\")"
   ]
  },
  {
   "cell_type": "code",
   "execution_count": null,
   "metadata": {},
   "outputs": [],
   "source": []
  }
 ],
 "metadata": {
  "kernelspec": {
   "display_name": "env_nanook",
   "language": "python",
   "name": "python3"
  },
  "language_info": {
   "codemirror_mode": {
    "name": "ipython",
    "version": 3
   },
   "file_extension": ".py",
   "mimetype": "text/x-python",
   "name": "python",
   "nbconvert_exporter": "python",
   "pygments_lexer": "ipython3",
   "version": "3.11.8"
  },
  "orig_nbformat": 4
 },
 "nbformat": 4,
 "nbformat_minor": 2
}
