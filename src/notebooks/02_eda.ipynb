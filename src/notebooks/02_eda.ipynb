{
 "cells": [
  {
   "cell_type": "code",
   "execution_count": 1,
   "metadata": {},
   "outputs": [],
   "source": [
    "import pandas as pd\n",
    "import random\n",
    "import matplotlib.pyplot as plt\n",
    "import sys\n",
    "import seaborn as sns\n",
    "sys.path.insert(0, '/Users/eduardomorenoortiz/Desktop/ITAM/nanook/nlp_nanook/src') # Local\n",
    "from utils.utils import formato_abreviado, generate_N_grams, clean_text, get_corpus_N_gram\n",
    "from matplotlib.ticker import FuncFormatter\n",
    "from collections import Counter"
   ]
  },
  {
   "cell_type": "markdown",
   "metadata": {},
   "source": [
    "# Exploratory Data Analysis (EDA)"
   ]
  },
  {
   "attachments": {},
   "cell_type": "markdown",
   "metadata": {},
   "source": [
    "## Read and preprocess data"
   ]
  },
  {
   "cell_type": "code",
   "execution_count": 2,
   "metadata": {},
   "outputs": [
    {
     "name": "stderr",
     "output_type": "stream",
     "text": [
      "/var/folders/66/5277wsy51nj0m1lc9jvl8zt80000gn/T/ipykernel_12634/1515576990.py:1: DtypeWarning: Columns (37,38) have mixed types. Specify dtype option on import or set low_memory=False.\n",
      "  data = pd.read_csv('../../data/raw/facebook_pages/CC_FBpages_2017.csv')\n"
     ]
    }
   ],
   "source": [
    "data = pd.read_csv('../../data/raw/facebook_pages/CC_FBpages_2017.csv')"
   ]
  },
  {
   "cell_type": "code",
   "execution_count": 3,
   "metadata": {},
   "outputs": [],
   "source": [
    "df_selected = data[['Page Name', 'Facebook Id', 'Likes at Posting', 'Post Created', 'Type', \n",
    "                    'Total Interactions', 'Likes', 'Comments', 'Shares', 'Love', 'Wow', 'Haha', 'Sad', 'Angry', 'Care', 'Message', 'Image Text', 'Link Text', 'Description', \n",
    "                    'Overperforming Score (weighted  —  Likes 1x Shares 1x Comments 1x Love 1x Wow 1x Haha 1x Sad 1x Angry 1x Care 1x )']]"
   ]
  },
  {
   "cell_type": "code",
   "execution_count": 4,
   "metadata": {},
   "outputs": [
    {
     "data": {
      "text/html": [
       "<div>\n",
       "<style scoped>\n",
       "    .dataframe tbody tr th:only-of-type {\n",
       "        vertical-align: middle;\n",
       "    }\n",
       "\n",
       "    .dataframe tbody tr th {\n",
       "        vertical-align: top;\n",
       "    }\n",
       "\n",
       "    .dataframe thead th {\n",
       "        text-align: right;\n",
       "    }\n",
       "</style>\n",
       "<table border=\"1\" class=\"dataframe\">\n",
       "  <thead>\n",
       "    <tr style=\"text-align: right;\">\n",
       "      <th></th>\n",
       "      <th>Page Name</th>\n",
       "      <th>Facebook Id</th>\n",
       "      <th>Likes at Posting</th>\n",
       "      <th>Post Created</th>\n",
       "      <th>Type</th>\n",
       "      <th>Total Interactions</th>\n",
       "      <th>Likes</th>\n",
       "      <th>Comments</th>\n",
       "      <th>Shares</th>\n",
       "      <th>Love</th>\n",
       "      <th>Wow</th>\n",
       "      <th>Haha</th>\n",
       "      <th>Sad</th>\n",
       "      <th>Angry</th>\n",
       "      <th>Care</th>\n",
       "      <th>Message</th>\n",
       "      <th>Image Text</th>\n",
       "      <th>Link Text</th>\n",
       "      <th>Description</th>\n",
       "      <th>Overperforming Score (weighted  —  Likes 1x Shares 1x Comments 1x Love 1x Wow 1x Haha 1x Sad 1x Angry 1x Care 1x )</th>\n",
       "    </tr>\n",
       "  </thead>\n",
       "  <tbody>\n",
       "    <tr>\n",
       "      <th>0</th>\n",
       "      <td>AgroForestales C.A.</td>\n",
       "      <td>100069920850250</td>\n",
       "      <td>NaN</td>\n",
       "      <td>2017-12-31 23:43:00 CST</td>\n",
       "      <td>Link</td>\n",
       "      <td>18</td>\n",
       "      <td>16</td>\n",
       "      <td>0</td>\n",
       "      <td>2</td>\n",
       "      <td>0</td>\n",
       "      <td>0</td>\n",
       "      <td>0</td>\n",
       "      <td>0</td>\n",
       "      <td>0</td>\n",
       "      <td>0</td>\n",
       "      <td>Mitigar el cambio climático con los pies en la...</td>\n",
       "      <td>NaN</td>\n",
       "      <td>Mitigar el cambio climático con los pies en la...</td>\n",
       "      <td>La importancia de la conservación de los suelo...</td>\n",
       "      <td>-2.11</td>\n",
       "    </tr>\n",
       "    <tr>\n",
       "      <th>1</th>\n",
       "      <td>El Sol de San Juan del Río</td>\n",
       "      <td>100064929514903</td>\n",
       "      <td>82377.0</td>\n",
       "      <td>2017-12-31 23:00:11 CST</td>\n",
       "      <td>Link</td>\n",
       "      <td>3</td>\n",
       "      <td>3</td>\n",
       "      <td>0</td>\n",
       "      <td>0</td>\n",
       "      <td>0</td>\n",
       "      <td>0</td>\n",
       "      <td>0</td>\n",
       "      <td>0</td>\n",
       "      <td>0</td>\n",
       "      <td>0</td>\n",
       "      <td>#México 🇲🇽 | La Ciudad de México es la primera...</td>\n",
       "      <td>NaN</td>\n",
       "      <td>Buscan a líderes contra el cambio climático</td>\n",
       "      <td>La Ciudad de México es la primera urbe en Lati...</td>\n",
       "      <td>-40</td>\n",
       "    </tr>\n",
       "    <tr>\n",
       "      <th>2</th>\n",
       "      <td>Víctor Quintana Silveyra</td>\n",
       "      <td>100063648342761</td>\n",
       "      <td>NaN</td>\n",
       "      <td>2017-12-31 21:57:39 CST</td>\n",
       "      <td>Status</td>\n",
       "      <td>115</td>\n",
       "      <td>68</td>\n",
       "      <td>33</td>\n",
       "      <td>3</td>\n",
       "      <td>11</td>\n",
       "      <td>0</td>\n",
       "      <td>0</td>\n",
       "      <td>0</td>\n",
       "      <td>0</td>\n",
       "      <td>0</td>\n",
       "      <td>Para este 2018 que comienza les deseo de coraz...</td>\n",
       "      <td>NaN</td>\n",
       "      <td>NaN</td>\n",
       "      <td>NaN</td>\n",
       "      <td>1.58</td>\n",
       "    </tr>\n",
       "    <tr>\n",
       "      <th>3</th>\n",
       "      <td>Webguerrillera Internacional</td>\n",
       "      <td>100067009789858</td>\n",
       "      <td>NaN</td>\n",
       "      <td>2017-12-31 20:41:50 CST</td>\n",
       "      <td>Link</td>\n",
       "      <td>5</td>\n",
       "      <td>2</td>\n",
       "      <td>0</td>\n",
       "      <td>1</td>\n",
       "      <td>0</td>\n",
       "      <td>0</td>\n",
       "      <td>0</td>\n",
       "      <td>1</td>\n",
       "      <td>1</td>\n",
       "      <td>0</td>\n",
       "      <td>La ONU lanza alerta roja para 2018 por armas n...</td>\n",
       "      <td>NaN</td>\n",
       "      <td>La ONU lanza alerta roja para 2018 por armas n...</td>\n",
       "      <td>CIUDAD DE MÉXICO (proceso.com.mx).- El secreta...</td>\n",
       "      <td>-0.72</td>\n",
       "    </tr>\n",
       "    <tr>\n",
       "      <th>4</th>\n",
       "      <td>Libertad y Pensamiento</td>\n",
       "      <td>530019227057516</td>\n",
       "      <td>142143.0</td>\n",
       "      <td>2017-12-31 20:30:00 CST</td>\n",
       "      <td>Link</td>\n",
       "      <td>31</td>\n",
       "      <td>21</td>\n",
       "      <td>0</td>\n",
       "      <td>3</td>\n",
       "      <td>1</td>\n",
       "      <td>4</td>\n",
       "      <td>1</td>\n",
       "      <td>0</td>\n",
       "      <td>1</td>\n",
       "      <td>0</td>\n",
       "      <td>Novedoso proyecto busca instalar paneles solar...</td>\n",
       "      <td>NaN</td>\n",
       "      <td>Instalar paneles solares en la luna, una salid...</td>\n",
       "      <td>Novedoso proyecto busca instalar paneles solar...</td>\n",
       "      <td>-5.39</td>\n",
       "    </tr>\n",
       "  </tbody>\n",
       "</table>\n",
       "</div>"
      ],
      "text/plain": [
       "                      Page Name      Facebook Id  Likes at Posting  \\\n",
       "0           AgroForestales C.A.  100069920850250               NaN   \n",
       "1    El Sol de San Juan del Río  100064929514903           82377.0   \n",
       "2      Víctor Quintana Silveyra  100063648342761               NaN   \n",
       "3  Webguerrillera Internacional  100067009789858               NaN   \n",
       "4        Libertad y Pensamiento  530019227057516          142143.0   \n",
       "\n",
       "              Post Created    Type Total Interactions  Likes  Comments  \\\n",
       "0  2017-12-31 23:43:00 CST    Link                 18     16         0   \n",
       "1  2017-12-31 23:00:11 CST    Link                  3      3         0   \n",
       "2  2017-12-31 21:57:39 CST  Status                115     68        33   \n",
       "3  2017-12-31 20:41:50 CST    Link                  5      2         0   \n",
       "4  2017-12-31 20:30:00 CST    Link                 31     21         0   \n",
       "\n",
       "   Shares  Love  Wow  Haha  Sad  Angry  Care  \\\n",
       "0       2     0    0     0    0      0     0   \n",
       "1       0     0    0     0    0      0     0   \n",
       "2       3    11    0     0    0      0     0   \n",
       "3       1     0    0     0    1      1     0   \n",
       "4       3     1    4     1    0      1     0   \n",
       "\n",
       "                                             Message Image Text  \\\n",
       "0  Mitigar el cambio climático con los pies en la...        NaN   \n",
       "1  #México 🇲🇽 | La Ciudad de México es la primera...        NaN   \n",
       "2  Para este 2018 que comienza les deseo de coraz...        NaN   \n",
       "3  La ONU lanza alerta roja para 2018 por armas n...        NaN   \n",
       "4  Novedoso proyecto busca instalar paneles solar...        NaN   \n",
       "\n",
       "                                           Link Text  \\\n",
       "0  Mitigar el cambio climático con los pies en la...   \n",
       "1        Buscan a líderes contra el cambio climático   \n",
       "2                                                NaN   \n",
       "3  La ONU lanza alerta roja para 2018 por armas n...   \n",
       "4  Instalar paneles solares en la luna, una salid...   \n",
       "\n",
       "                                         Description  \\\n",
       "0  La importancia de la conservación de los suelo...   \n",
       "1  La Ciudad de México es la primera urbe en Lati...   \n",
       "2                                                NaN   \n",
       "3  CIUDAD DE MÉXICO (proceso.com.mx).- El secreta...   \n",
       "4  Novedoso proyecto busca instalar paneles solar...   \n",
       "\n",
       "  Overperforming Score (weighted  —  Likes 1x Shares 1x Comments 1x Love 1x Wow 1x Haha 1x Sad 1x Angry 1x Care 1x )  \n",
       "0                                              -2.11                                                                  \n",
       "1                                                -40                                                                  \n",
       "2                                               1.58                                                                  \n",
       "3                                              -0.72                                                                  \n",
       "4                                              -5.39                                                                  "
      ]
     },
     "execution_count": 4,
     "metadata": {},
     "output_type": "execute_result"
    }
   ],
   "source": [
    "df_selected.head()"
   ]
  },
  {
   "cell_type": "code",
   "execution_count": 5,
   "metadata": {},
   "outputs": [
    {
     "data": {
      "text/plain": [
       "(87443, 20)"
      ]
     },
     "execution_count": 5,
     "metadata": {},
     "output_type": "execute_result"
    }
   ],
   "source": [
    "df_selected.shape"
   ]
  },
  {
   "attachments": {},
   "cell_type": "markdown",
   "metadata": {},
   "source": [
    "Drop *nan* inside `Message` column"
   ]
  },
  {
   "cell_type": "code",
   "execution_count": 6,
   "metadata": {},
   "outputs": [
    {
     "name": "stdout",
     "output_type": "stream",
     "text": [
      "Cantidad de NAN: 21\n",
      "Cantidad de NAN (%): 0.02402%\n"
     ]
    }
   ],
   "source": [
    "print(f\"Cantidad de NAN: {sum([1 if pd.isna(x) else 0 for x in df_selected['Message']])}\")\n",
    "print(f\"Cantidad de NAN (%): {round(sum([1 if pd.isna(x) else 0 for x in df_selected['Message']])/df_selected.shape[0]*100, 5)}%\")\n",
    "df_clean = df_selected.dropna(subset=['Message'])"
   ]
  },
  {
   "attachments": {},
   "cell_type": "markdown",
   "metadata": {},
   "source": [
    "Show some messages"
   ]
  },
  {
   "cell_type": "code",
   "execution_count": 7,
   "metadata": {},
   "outputs": [
    {
     "name": "stdout",
     "output_type": "stream",
     "text": [
      "Registrar la huella hídrica de Europa para determinar posibles vulnerabilidades económicas El cambio climático provoca una mayor escasez de agua en todo el planeta y las interdependencias del comercio mundial implican que las consecuencias pueden ser de gran calado incluso para Europa\n",
      "\n",
      "\n",
      "Nuevo estudio revela las cuatro acciones individuales que más impacto tienen para combatir el calentamiento global: 1.- Tener familias más pequeñas 2.- Tener una dieta vegetariana 3.- No tener auto propio 4.- Evitar viajar en avión Por ejemplo: vivir sin auto propio evita generar 2.4 toneladas de dióxido de carbono al año (aproximadamente), mientras que una dieta vegetariana evita la generación de 0.8 toneladas de CO2 al año (aproximadamente). Estas acciones, por lo tanto, tienen mayor potencial para reducir las emisiones de CO2 que las que comunmente se promueven, tales como el reciclaje (4 veces menos efectiva que una dieta vegetariana [al año]) o cambiar focos incandecentes por ahorradores (8 veces menos efectiva que dicha dieta). Los investigadores también señalaron que ni los libros de texto de las escuelas de Canada ni fuente alguna de los gobiernos de Estados Unidos, Australia o alguno de la Unión Europea enfatizan estas acciones, pero que en cambio sí lo hacen con acciones de menor potencial para reducir dichas emisiones (como las anteriormente mencionadas). La razón: se apuesta por cambios graduales a unos radicales.\n",
      "\n",
      "\n",
      "Los ecosistemas nos ayudan a adaptarnos al Cambio Global. ¡Aprendamos de ellos! UICN-Sur\n",
      "\n",
      "\n",
      "🌳Mira cuales son los países de América más vulnerables ante el cambio climático.🤔 Entérate en el siguiente link http://bit.ly/2rwpus7 #CPMA #MedioAmbiente\n",
      "\n",
      "\n",
      "En lo que va de la administración de Peña Nieto, el país se endeudó con otros 814 millones de dólares (mdd), los cuáles serían utilizados en rubros como educación, seguridad social, cambio climático, campo y pobreza; sectores en los que existen problemáticas, desvíos de recursos y hasta recortes.\n",
      "\n",
      "\n",
      "#HoyEnElRosario Estamos en la mesa de discusión sobre 'Energía, cambio climático y posconflicto en Colombia' organizada por The Fulbright Program y la Universidad del Rosario y liderada por Lisa Viscidi.\n",
      "\n",
      "\n",
      "La Gremial de Palmicultores de Guatemala está impulsando el curso “Garantizando productividades sostenibles de palma de aceite en el contexto del cambio climático” para que puedas afrontar con éxito los retos en la situación de crisis y/o exceso hídrico en que nos encontramos. En este curso conocerás análisis económicos de la implementación de un sistema de drenaje y un sistema de riego, además, conocerás la innovación genética en palma para atenuar el efecto del estrés hídrico en la producción en futuras siembras. Con este curso se busca responder a las inquietudes sobre la importancia de la implementación de un sistema de riego o drenaje post-siembra y el efecto de los excesos hídricos relacionados con enfermedades y/o plagas. El déficit hídrico ha impactado a nivel mundial en las producciones de palma de aceite, llegando a reducir hasta un 40% en Tailandia, 25% en Colombia y Malasia. Ven y conoce las estrategias que empresas guatemaltecas están llevando a cabo para afrontar los problemas sanitarios, nutricionales, productivos y de infraestructura vial que surgen por condiciones climáticas adversas. Inscríbete en: https://goo.gl/NqOl2J:=:https://www.grepalma.org/site/cursopalma/\n",
      "\n",
      "\n",
      "NASA y SpaceX, llévenme a la Luna Noticia de Octavio Lara Lima Dos importantes anuncios sobre regresar a la Luna surgieron estos días. Por un lado, la Administración Nacional de la Aeronáutica y el Espacio (NASA por sus siglas en inglés), anunció que evalúa la factibilidad de añadir tripulación humana a la misión EM-1 para el 2019. Para este proyecto se desarrolló el nuevo cohete espacial SLS –que aún sigue en pruebas– y la nave Orión, que originalmente no se contemplaba para ser un vuelo tripulado, pero con miras de que algún día se puedan llevar seres humanos al planeta Marte. Por otro lado, la empresa privada SpaceX anunció sus planes de realizar el primer viaje turístico con dos pasajeros alrededor de la Luna para el 2018, y para ello se valdrán de su cohete Falcon Heavy –que aún no ha sido probado– y de la nave Dragon 2, que sigue desarrollando la NASA, pero que posiblemente hará su primer vuelo orbital este año. SpaceX no dio detalles técnicos, tampoco los nombres de sus clientes, pero se mencionó el adelanto de una cuantiosa suma por el paseo –seguramente decenas de millones de dólares– y un intenso entrenamiento para poder llevarlo a cabo en calidad de turista. Desde la misión Apolo 17 en 1972, ningún humano se ha acercado a la órbita de la Luna, así que es un anunció importante en la exploración espacial. Sin embargo, es de llamar la atención la cercanía de ambos anuncios: ¿será que las grandes mentes piensan igual?, por supuesto que no, porque una de esas mentes es la del presidente Donald Trump. Como mencioné, la misión EM-1 es un proyecto que originalmente se planeó para no tener tripulación. No puede llevar astronautas a menos que se realicen importantes modificaciones técnicas, porque en el proyecto original se contempla que posteriormente la misión EM-2 irá tripulada, pero hasta el 2021. Así que nos preguntamos el por qué de tantas prisas repentinas. Sí analizamos un poco, la respuesta podría tener matices políticos. La solicitud de evaluación fue presentada por Robert Leighfoot, actual administrador interino de la NASA y elegido por Trump, quien durante su campaña en pos de lograr una “América grande otra vez” dijo que la NASA ya no hace cosas geniales como ir a la Luna y ahora estudia cosas inventadas por China –léase el cambio climático–. Así que adelantar esta misión no sólo le permitiría cumplir su promesa, sino que podría darle un empujón para las elecciones presidenciales del 2020. Además, está el riesgo de que SpaceX se podría robar los reflectores, ya hasta le advirtieron a la NASA de que le darían prioridad a los turistas, en caso de que ésta prefiera ir a la Luna con ellos. Así que no duden de que estos anuncios simultáneos serán una carrera para ir a nuestro satélite natural. De momento en el Centro Espacial Johnson empezaron a realizar simulaciones de las condiciones espaciales a las que estarían sometidos los trajes de los astronautas en la nave Orión. ¿Quién llegará primero? quién sabe, pero existen serias dudas de que la NASA y SpaceX puedan viajar más allá de la Estación Espacial Internacional en los siguientes años, porque el desarrollo técnico de las naves y cohetes nuevos no se resuelve solamente con más dinero. Ninguno de los proyectos prevé alunizajes. En fin, para los que veremos siempre la Luna desde la Tierra, nos quedan opciones como escuchar una “serenata a la luz de la Luna” –recomiendo a Glen Miller–, o leer clásicos como “De la Tierra a la Luna” de Julio Verne. Fuente: https://www.nasa.gov/feature/nasa-kicks-off-study-to-add-crew-to-first-flight-of-orion-sls-as-progress-continues-to-send http://www.spacex.com/news/2017/02/27/spacex-send-privately-crewed-dragon-spacecraft-beyond-moon-next-year:=:https://www.spacex.com/news/2017/02/27/spacex-send-privately-crewed-dragon-spacecraft-beyond-moon-next-year Imagen: Ilustración “Tren de proyectiles con destino a la Luna” en De la Tierra a la Luna, Henri de Montaut, 1868.\n",
      "\n",
      "\n",
      "Un mensaje contundente...\n",
      "\n",
      "\n",
      "NOTICIAS 📰🗞 PRESERVE PLANET 🌎🌍🌏 Global 🌍🌎 - Acuerdos boicoteados por el nefasto presidente de los Estados Unidos, Donald Trump -\n",
      "\n",
      "\n"
     ]
    }
   ],
   "source": [
    "random.seed(14112023)\n",
    "for i in random.sample(range(0, df_clean.shape[0]), 10):\n",
    "    print(df_clean['Message'][i])\n",
    "    print('\\n')"
   ]
  },
  {
   "attachments": {},
   "cell_type": "markdown",
   "metadata": {},
   "source": [
    "### Length of Messages"
   ]
  },
  {
   "cell_type": "code",
   "execution_count": 8,
   "metadata": {},
   "outputs": [
    {
     "name": "stderr",
     "output_type": "stream",
     "text": [
      "/var/folders/66/5277wsy51nj0m1lc9jvl8zt80000gn/T/ipykernel_12634/4058413723.py:1: SettingWithCopyWarning: \n",
      "A value is trying to be set on a copy of a slice from a DataFrame.\n",
      "Try using .loc[row_indexer,col_indexer] = value instead\n",
      "\n",
      "See the caveats in the documentation: https://pandas.pydata.org/pandas-docs/stable/user_guide/indexing.html#returning-a-view-versus-a-copy\n",
      "  df_clean['messageChar_length'] = [x if pd.isna(x) else len(x) for x in df_clean['Message']]\n",
      "/var/folders/66/5277wsy51nj0m1lc9jvl8zt80000gn/T/ipykernel_12634/4058413723.py:2: SettingWithCopyWarning: \n",
      "A value is trying to be set on a copy of a slice from a DataFrame.\n",
      "Try using .loc[row_indexer,col_indexer] = value instead\n",
      "\n",
      "See the caveats in the documentation: https://pandas.pydata.org/pandas-docs/stable/user_guide/indexing.html#returning-a-view-versus-a-copy\n",
      "  df_clean['messageWords_length'] = [x if pd.isna(x) else len(x.split(' ')) for x in df_clean['Message']]\n"
     ]
    }
   ],
   "source": [
    "df_clean['messageChar_length'] = [x if pd.isna(x) else len(x) for x in df_clean['Message']]\n",
    "df_clean['messageWords_length'] = [x if pd.isna(x) else len(x.split(' ')) for x in df_clean['Message']]"
   ]
  },
  {
   "cell_type": "code",
   "execution_count": 9,
   "metadata": {},
   "outputs": [
    {
     "data": {
      "text/plain": [
       "<Axes: ylabel='Frequency'>"
      ]
     },
     "execution_count": 9,
     "metadata": {},
     "output_type": "execute_result"
    },
    {
     "data": {
      "image/png": "[encoded data removed]",
      "text/plain": [
       "<Figure size 640x480 with 1 Axes>"
      ]
     },
     "metadata": {},
     "output_type": "display_data"
    }
   ],
   "source": [
    "df_clean['messageChar_length'].plot(bins=150, kind='hist')"
   ]
  },
  {
   "attachments": {},
   "cell_type": "markdown",
   "metadata": {},
   "source": [
    "It is curious that there are \"a lot\" of messages with length aproximatly to $5,000$"
   ]
  },
  {
   "cell_type": "code",
   "execution_count": 10,
   "metadata": {},
   "outputs": [
    {
     "data": {
      "text/plain": [
       "count    87422.000000\n",
       "mean       509.114685\n",
       "std        843.254285\n",
       "min          1.000000\n",
       "25%        127.000000\n",
       "50%        227.000000\n",
       "75%        449.000000\n",
       "max       4999.000000\n",
       "Name: messageChar_length, dtype: float64"
      ]
     },
     "execution_count": 10,
     "metadata": {},
     "output_type": "execute_result"
    }
   ],
   "source": [
    "df_clean['messageChar_length'].describe()"
   ]
  },
  {
   "cell_type": "code",
   "execution_count": 11,
   "metadata": {},
   "outputs": [
    {
     "data": {
      "text/plain": [
       "'Estado del Sistema Mundial de Observación del Clima 31/12/2017.- La observación global de la atmósfera, la superficie y los océanos de la tierra es esencial para evaluar la variabilidad del clima y el cambio climático, así como para comprender sus causas. Por ejemplo, observaciones y análisis recientes han mostrado que el nivel medio del mar ha continuado elevándose, y por primera vez ha sido posible determinar la importancia relativa de las contribuciones de la expansión térmica, la fusión de los hielos y el almacenamiento de agua en la superficie terrestre. La observación también suministra datos que son fundamentales para evaluar, ajustar e inicializar los modelos numéricos que predicen el comportamiento del sistema climático para los próximos meses o estaciones, y que realizan proyecciones acerca de cómo cambiará el clima a largo plazo en función de diferentes hipótesis sobre emisiones de gases de efecto invernadero y otras actividades humanas. Las series largas de datos de observación han permitido al Grupo Intergubernamental de Expertos sobre el Cambio Climático (IPCC) difundir el mensaje de que el calentamiento del sistema climático mundial es inequívoco. Este artículo destaca los principales resultados y conclusiones del Estado del Sistema Mundial de Observación del Clima (Informe), publicado a finales de 2015. El Informe ofrece una evaluación exhaustiva sobre cómo se está observando el clima, dónde se han hecho progresos, dónde no se han hecho y dónde la situación ha empeorado. Proporciona una base para identificar las acciones requeridas para reducir las lagunas de conocimiento, mejorar el seguimiento y la predicción, dar soporte a la mitigación y ayudar a cumplir la necesidad cada vez más urgente de información sobre impactos, adaptación y vulnerabilidad. El citado Informe fue preparado por el Sistema Mundial de Observación del Clima (SMOC), un programa copatrocinado por la OMM, la Comisión Oceanográfica Intergubernamental (COI) de la Organización de las Naciones Unidas para la Educación, la Ciencia y la Cultura (UNESCO), el Programa de las Naciones Unidas para el Medio Ambiente (PNUMA) y el Consejo Internacional para la Ciencia (CIUC). Resultados respecto a las observaciones atmosféricas, oceánicas y terrestres La observación global varía en su naturaleza, distribución y extensión a través de la atmósfera, los océanos y la superficie terrestre. Tras muchas décadas de recopilación de datos meteorológicos, la observación atmosférica es la más desarrollada, con una red relativamente densa, aunque no exenta de lagunas, sujeta a normas definidas y con alto nivel de intercambio de datos mediante centros internacionales de datos que abarcan casi todas, por no decir todas, las variables. La mejora de la observación atmosférica es continua. La observación de los océanos se ha desarrollado rápidamente con una planificación y puesta en marcha de redes de observación de carácter internacional, y con nuevas tecnologías que permiten la recolección autónoma de más y mejores datos.Aunque todavía hay limitaciones y ciertos problemas con algunas redes existentes, están creadas las estructuras básicas para lograr una mejora continua Tradicionalmente las observaciones de la superficie terrestre se han realizado en escalas menores siguiendo diferentes normas y métodos en distintos países. El intercambio de datos en estas redes ha sido escaso en el pasado. Hoy en día, la observación desde el espacio está suministrando cobertura global de calidad en constante mejora para diferentes variables, está incrementándose el acceso abierto a los datos y se están experimentando progresos en otras áreas como, por ejemplo, las redes mundiales para el seguimiento de glaciares y del permafrost. Se han desarrollado normas, métodos y protocolos para el intercambio de datos relativos a variables hidrológicas esenciales. Sin embargo, aún no existe una estrategia integral de observación terrestre. La mayor parte de las conclusiones, que han sido extraídas de revisiones llevadas a cabo variable por variable y acción por acción, se clasifican en dos grupos separados, uno para mediciones in situ y para las basadas en teledetección terrestre y otro para observaciones realizadas por teledetección espacial, aunque muchas aplicaciones hagan un uso combinado de ambos grupos de datos. Hay conclusiones positivas y negativas que han de ser reconocidas y tenidas en cuenta a la hora de planificar las necesidades a satisfacer en el futuro. Prensa INAMEH/ Cortesía Organización Meteorológica Mundial. Contacto Directorio Institucional Atención al Ciudadano Sugerencias/Denuncias Ubicación Carretera Nacional Baruta - Hoyo de la Puerta Parque Tecnológico Sartenejas Baruta, Estado Miranda Master: (0212) 535.30.11 Informativo Glosario Contrataciones Ley de Presupuesto Ley de Meteorología e Hidrología Enlaces logo logo logo © Todos los Derechos Reservados Inameh 2017 / RIF: G-20008233-0 / PRONÓSTICO 24 HORAS: +58 (212) 535.3071 +58 (212) 535.3072 (truncated)'"
      ]
     },
     "execution_count": 11,
     "metadata": {},
     "output_type": "execute_result"
    }
   ],
   "source": [
    "df_clean[df_clean['messageChar_length'] == 4999]['Message'][89]"
   ]
  },
  {
   "cell_type": "code",
   "execution_count": 12,
   "metadata": {},
   "outputs": [
    {
     "name": "stdout",
     "output_type": "stream",
     "text": [
      "535.3072 (truncated)\n",
      "públicos (truncated)\n",
      "idad del (truncated)\n",
      " humanos (truncated)\n",
      "gradados (truncated)\n",
      "otección (truncated)\n",
      " Europea (truncated)\n",
      "ividades (truncated)\n",
      "as zonas (truncated)\n",
      "s lazos, (truncated)\n",
      " incluir (truncated)\n",
      "ar en la (truncated)\n",
      "rtidas y (truncated)\n",
      "ón de la (truncated)\n",
      "ativos o (truncated)\n",
      "6 pasara (truncated)\n",
      " Reporte (truncated)\n",
      "oducirse (truncated)\n",
      "edia del (truncated)\n",
      "fondo de (truncated)\n",
      "mientos afines en...\n",
      " como en (truncated)\n",
      "sular de (truncated)\n",
      "ur d'une (truncated)\n",
      " miseria (truncated)\n",
      "rmedades (truncated)\n",
      "cruzadas (truncated)\n",
      "ilancia, (truncated)\n",
      " fiscal, (truncated)\n",
      " especie (truncated)\n",
      "econocer (truncated)\n",
      " tampoco (truncated)\n",
      " El agua (truncated)\n",
      " especie (truncated)\n",
      "econocer (truncated)\n",
      " El agua (truncated)\n",
      " El agua (truncated)\n",
      " El agua (truncated)\n",
      "os vemos (truncated)\n",
      "n qué magnitud se...\n",
      "riencias (truncated)\n",
      " todos”, (truncated)\n",
      "personas (truncated)\n",
      "e se han (truncated)\n",
      "cias, no (truncated)\n",
      "tuación, (truncated)\n",
      "ento con (truncated)\n",
      "quidad y (truncated)\n",
      "ón de la (truncated)\n",
      "ncierran (truncated)\n",
      "ncierran (truncated)\n",
      "mpromiso (truncated)\n",
      " muestra (truncated)\n",
      " evaluar (truncated)\n",
      "des” con (truncated)\n",
      "uventud, (truncated)\n",
      "ncluidos (truncated)\n",
      "al a los (truncated)\n",
      " libre e (truncated)\n",
      "ecesidad (truncated)\n",
      "l inicio (truncated)\n",
      "te, todo (truncated)\n",
      "aleja de (truncated)\n",
      "ectadas. (truncated)\n",
      "e actúan (truncated)\n",
      "vitación (truncated)\n",
      "ntico, sin cruzar...\n",
      "ón en el (truncated)\n",
      " También (truncated)\n",
      "rritorio (truncated)\n",
      "rritorio (truncated)\n",
      "mundial, (truncated)\n",
      " la vida (truncated)\n",
      " CSIC en (truncated)\n",
      " generan (truncated)\n",
      " generan (truncated)\n",
      "e pueden (truncated)\n",
      " generan (truncated)\n",
      "ntizar a (truncated)\n",
      "requiere (truncated)\n",
      "México y (truncated)\n",
      "ca parte (truncated)\n",
      "erno del (truncated)\n",
      "ocumento (truncated)\n",
      "l cambio (truncated)\n",
      "urales y (truncated)\n",
      "ro de la (truncated)\n",
      " líderes (truncated)\n",
      "en París (truncated)\n",
      "ecocidio (truncated)\n",
      "QUEÑA DE DOS AÑOS...\n",
      "e hecho, (truncated)\n",
      "familias (truncated)\n",
      "que ante (truncated)\n",
      "rmando a (truncated)\n",
      "ra sobre (truncated)\n",
      "unidense (truncated)\n",
      "or a los (truncated)\n",
      "puerta a (truncated)\n",
      "e, el de (truncated)\n",
      "les. Una (truncated)\n",
      "ucir los (truncated)\n",
      "venderán (truncated)\n",
      "ollo del (truncated)\n",
      "urar que (truncated)\n",
      "ducación (truncated)\n",
      "ender el (truncated)\n",
      "l Campo, (truncated)\n",
      "ngo esta (truncated)\n",
      "p. En el (truncated)\n",
      "llega ni (truncated)\n",
      "ntala el (truncated)\n",
      " lector. (truncated)\n",
      "6 fue de (truncated)\n",
      "personas (truncated)\n",
      " ley del (truncated)\n",
      "nte para (truncated)\n",
      "peru.com (truncated)\n",
      "esinos y (truncated)\n",
      "o plata, (truncated)\n",
      "posición (truncated)\n",
      "peru.com (truncated)\n",
      "o de los (truncated)\n",
      "a fiscal (truncated)\n",
      "nculadas (truncated)\n",
      "gradados (truncated)\n",
      "ar acompañamiento...\n",
      "rato con (truncated)\n",
      "rato con (truncated)\n",
      "e aves y (truncated)\n",
      "orar con (truncated)\n",
      "res que no tienen...\n",
      "ecesario (truncated)\n",
      "ua en la (truncated)\n",
      "sado por (truncated)\n",
      "ecesario (truncated)\n",
      "o; trata (truncated)\n",
      " Defensa (truncated)\n",
      ", que se (truncated)\n",
      " afectan (truncated)\n",
      "nicipios (truncated)\n",
      "términos (truncated)\n",
      "s con el (truncated)\n",
      "eza y el (truncated)\n",
      "cias, no (truncated)\n",
      "dos, así (truncated)\n",
      "o que su (truncated)\n",
      "rentamos (truncated)\n",
      "na acusó (truncated)\n"
     ]
    }
   ],
   "source": [
    "for x in df_clean[df_clean['messageChar_length'] == 4999]['Message']:\n",
    "    print(x[-20:])"
   ]
  },
  {
   "attachments": {},
   "cell_type": "markdown",
   "metadata": {},
   "source": [
    "Seems that facebook messages/publications are truncated to $4,999$ characters!"
   ]
  },
  {
   "cell_type": "code",
   "execution_count": 13,
   "metadata": {},
   "outputs": [],
   "source": [
    "#plt.hist(df_clean['Message'].to_numpy(), bins=150, color='#E24A33', alpha=0.7)\n",
    "#plt.hist(df_clean['Message'])"
   ]
  },
  {
   "cell_type": "code",
   "execution_count": 14,
   "metadata": {},
   "outputs": [],
   "source": [
    "#sns.histplot(data=df_selected, x='Message', bins=150, kde=False, color='#E24A33')\n",
    "#sns.histplot(data=df_selected, x='Message')"
   ]
  },
  {
   "cell_type": "code",
   "execution_count": 15,
   "metadata": {},
   "outputs": [
    {
     "data": {
      "text/plain": [
       "<Axes: ylabel='Frequency'>"
      ]
     },
     "execution_count": 15,
     "metadata": {},
     "output_type": "execute_result"
    },
    {
     "data": {
      "image/png": "[encoded data removed]",
      "text/plain": [
       "<Figure size 640x480 with 1 Axes>"
      ]
     },
     "metadata": {},
     "output_type": "display_data"
    }
   ],
   "source": [
    "df_clean['messageWords_length'].plot(bins=100, kind='hist')"
   ]
  },
  {
   "attachments": {},
   "cell_type": "markdown",
   "metadata": {},
   "source": [
    "## N-grams"
   ]
  },
  {
   "attachments": {},
   "cell_type": "markdown",
   "metadata": {},
   "source": [
    "### Uni-gram"
   ]
  },
  {
   "attachments": {},
   "cell_type": "markdown",
   "metadata": {},
   "source": [
    "#### Raw"
   ]
  },
  {
   "attachments": {},
   "cell_type": "markdown",
   "metadata": {},
   "source": [
    "First, let's analyze text from **raw** (without any changes)"
   ]
  },
  {
   "cell_type": "code",
   "execution_count": 16,
   "metadata": {},
   "outputs": [
    {
     "name": "stdout",
     "output_type": "stream",
     "text": [
      "Length of corpus: 6638421\n"
     ]
    },
    {
     "data": {
      "image/png": "[encoded data removed]",
      "text/plain": [
       "<Figure size 640x480 with 1 Axes>"
      ]
     },
     "metadata": {},
     "output_type": "display_data"
    }
   ],
   "source": [
    "corpus = get_corpus_N_gram(list_text=df_clean['Message'], stop_words=None, ngram=1, show_plot=True)"
   ]
  },
  {
   "attachments": {},
   "cell_type": "markdown",
   "metadata": {},
   "source": [
    "Those are meaningless words, all of them (and similar) will be added to **stopwords**, so they won't be use for future analysis. "
   ]
  },
  {
   "attachments": {},
   "cell_type": "markdown",
   "metadata": {},
   "source": [
    "#### With stop-words"
   ]
  },
  {
   "cell_type": "code",
   "execution_count": 17,
   "metadata": {},
   "outputs": [
    {
     "data": {
      "text/plain": [
       "608"
      ]
     },
     "execution_count": 17,
     "metadata": {},
     "output_type": "execute_result"
    }
   ],
   "source": [
    "with open('../utils/spanish_stopwords.txt', 'r') as archivo:\n",
    "    stop_words = [linea.strip() for linea in archivo]\n",
    "len(stop_words)"
   ]
  },
  {
   "cell_type": "code",
   "execution_count": 18,
   "metadata": {},
   "outputs": [
    {
     "data": {
      "text/plain": [
       "['a',\n",
       " 'actualmente',\n",
       " 'adelante',\n",
       " 'además',\n",
       " 'afirmó',\n",
       " 'agregó',\n",
       " 'ahora',\n",
       " 'ahí',\n",
       " 'al',\n",
       " 'algo']"
      ]
     },
     "execution_count": 18,
     "metadata": {},
     "output_type": "execute_result"
    }
   ],
   "source": [
    "stop_words[:10]"
   ]
  },
  {
   "cell_type": "code",
   "execution_count": null,
   "metadata": {},
   "outputs": [],
   "source": [
    "corpus = get_corpus_N_gram(list_text=df_clean['Message'], stop_words=stop_words, ngram=1, show_plot=True)"
   ]
  },
  {
   "attachments": {},
   "cell_type": "markdown",
   "metadata": {},
   "source": [
    "- Upper/Lower-case must be removed, so that \"*Cambio*\" and \"*cambio*\" are counted in the same word.\n",
    "- It is suggested by the autor to remove accents\n",
    "- No include punctiations signs: **, ; . : '**\n",
    "- No include URLs inside text"
   ]
  },
  {
   "attachments": {},
   "cell_type": "markdown",
   "metadata": {},
   "source": [
    "#### Stop-words, text to lowercase, no URLs: clean text"
   ]
  },
  {
   "cell_type": "code",
   "execution_count": 19,
   "metadata": {},
   "outputs": [
    {
     "name": "stderr",
     "output_type": "stream",
     "text": [
      "/var/folders/66/5277wsy51nj0m1lc9jvl8zt80000gn/T/ipykernel_12634/784647786.py:1: SettingWithCopyWarning: \n",
      "A value is trying to be set on a copy of a slice from a DataFrame.\n",
      "Try using .loc[row_indexer,col_indexer] = value instead\n",
      "\n",
      "See the caveats in the documentation: https://pandas.pydata.org/pandas-docs/stable/user_guide/indexing.html#returning-a-view-versus-a-copy\n",
      "  df_clean['Message_clean'] = df_clean['Message'].apply(lambda x: clean_text(x))\n"
     ]
    }
   ],
   "source": [
    "df_clean['Message_clean'] = df_clean['Message'].apply(lambda x: clean_text(x))"
   ]
  },
  {
   "cell_type": "code",
   "execution_count": null,
   "metadata": {},
   "outputs": [],
   "source": [
    "corpus = get_corpus_N_gram(list_text=df_clean['Message_clean'], stop_words=stop_words, ngram=1, show_plot=True)"
   ]
  },
  {
   "attachments": {},
   "cell_type": "markdown",
   "metadata": {},
   "source": [
    "### Bi-gram"
   ]
  },
  {
   "cell_type": "code",
   "execution_count": null,
   "metadata": {},
   "outputs": [],
   "source": [
    "corpus = get_corpus_N_gram(list_text=df_clean['Message_clean'], stop_words=stop_words, ngram=2, show_plot=True)"
   ]
  },
  {
   "attachments": {},
   "cell_type": "markdown",
   "metadata": {},
   "source": [
    "### Tri-gram"
   ]
  },
  {
   "cell_type": "code",
   "execution_count": null,
   "metadata": {},
   "outputs": [],
   "source": [
    "corpus = get_corpus_N_gram(df_clean['Message_clean'], stop_words=stop_words, ngram=3, show_plot=True)"
   ]
  },
  {
   "cell_type": "code",
   "execution_count": 20,
   "metadata": {},
   "outputs": [],
   "source": [
    "df_clean.to_pickle('../../data/preprocessed/clean_text_nanook.pkl')"
   ]
  },
  {
   "cell_type": "code",
   "execution_count": null,
   "metadata": {},
   "outputs": [],
   "source": []
  }
 ],
 "metadata": {
  "kernelspec": {
   "display_name": "env_nanook",
   "language": "python",
   "name": "python3"
  },
  "language_info": {
   "codemirror_mode": {
    "name": "ipython",
    "version": 3
   },
   "file_extension": ".py",
   "mimetype": "text/x-python",
   "name": "python",
   "nbconvert_exporter": "python",
   "pygments_lexer": "ipython3",
   "version": "3.11.8"
  },
  "orig_nbformat": 4
 },
 "nbformat": 4,
 "nbformat_minor": 2
}
