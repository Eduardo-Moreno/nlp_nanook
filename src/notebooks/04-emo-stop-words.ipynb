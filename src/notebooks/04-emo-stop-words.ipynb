{
 "cells": [
  {
   "cell_type": "code",
   "execution_count": 1,
   "metadata": {},
   "outputs": [],
   "source": [
    "import pandas as pd\n",
    "import sys\n",
    "sys.path.insert(0, '/Users/eduardomorenoortiz/Desktop/ITAM/nanook/nlp_nanook/src/') # LOCAL\n",
    "from utils.utils import remove_stop_words_from_dataframe"
   ]
  },
  {
   "attachments": {},
   "cell_type": "markdown",
   "metadata": {},
   "source": [
    "# Read and preprocess data"
   ]
  },
  {
   "cell_type": "code",
   "execution_count": 2,
   "metadata": {},
   "outputs": [],
   "source": [
    "df_stemm_lemm = pd.read_pickle('/Users/eduardomorenoortiz/Desktop/ITAM/nanook/nlp_nanook/data/preprocessed/stemm_lemm_text_nanook.pkl')"
   ]
  },
  {
   "cell_type": "code",
   "execution_count": 3,
   "metadata": {},
   "outputs": [
    {
     "data": {
      "text/html": [
       "<div>\n",
       "<style scoped>\n",
       "    .dataframe tbody tr th:only-of-type {\n",
       "        vertical-align: middle;\n",
       "    }\n",
       "\n",
       "    .dataframe tbody tr th {\n",
       "        vertical-align: top;\n",
       "    }\n",
       "\n",
       "    .dataframe thead th {\n",
       "        text-align: right;\n",
       "    }\n",
       "</style>\n",
       "<table border=\"1\" class=\"dataframe\">\n",
       "  <thead>\n",
       "    <tr style=\"text-align: right;\">\n",
       "      <th></th>\n",
       "      <th>Facebook Id</th>\n",
       "      <th>Post Created</th>\n",
       "      <th>Total Interactions</th>\n",
       "      <th>Likes</th>\n",
       "      <th>Comments</th>\n",
       "      <th>Shares</th>\n",
       "      <th>Love</th>\n",
       "      <th>Wow</th>\n",
       "      <th>Haha</th>\n",
       "      <th>Sad</th>\n",
       "      <th>Angry</th>\n",
       "      <th>Care</th>\n",
       "      <th>Message</th>\n",
       "      <th>Message_clean</th>\n",
       "      <th>Message_clean_stemm</th>\n",
       "      <th>Message_clean_lemm</th>\n",
       "    </tr>\n",
       "  </thead>\n",
       "  <tbody>\n",
       "    <tr>\n",
       "      <th>0</th>\n",
       "      <td>100069920850250</td>\n",
       "      <td>2017-12-31 23:43:00 CST</td>\n",
       "      <td>18</td>\n",
       "      <td>16</td>\n",
       "      <td>0</td>\n",
       "      <td>2</td>\n",
       "      <td>0</td>\n",
       "      <td>0</td>\n",
       "      <td>0</td>\n",
       "      <td>0</td>\n",
       "      <td>0</td>\n",
       "      <td>0</td>\n",
       "      <td>Mitigar el cambio climático con los pies en la...</td>\n",
       "      <td>mitigar el cambio climatico con los pies en la...</td>\n",
       "      <td>mitig el cambi climat con los pies en la tierr</td>\n",
       "      <td>mitigar el cambio climatico con el pie en el t...</td>\n",
       "    </tr>\n",
       "  </tbody>\n",
       "</table>\n",
       "</div>"
      ],
      "text/plain": [
       "       Facebook Id             Post Created Total Interactions  Likes  \\\n",
       "0  100069920850250  2017-12-31 23:43:00 CST                 18     16   \n",
       "\n",
       "   Comments  Shares  Love  Wow  Haha  Sad  Angry  Care  \\\n",
       "0         0       2     0    0     0    0      0     0   \n",
       "\n",
       "                                             Message  \\\n",
       "0  Mitigar el cambio climático con los pies en la...   \n",
       "\n",
       "                                       Message_clean  \\\n",
       "0  mitigar el cambio climatico con los pies en la...   \n",
       "\n",
       "                              Message_clean_stemm  \\\n",
       "0  mitig el cambi climat con los pies en la tierr   \n",
       "\n",
       "                                  Message_clean_lemm  \n",
       "0  mitigar el cambio climatico con el pie en el t...  "
      ]
     },
     "execution_count": 3,
     "metadata": {},
     "output_type": "execute_result"
    }
   ],
   "source": [
    "df_select = df_stemm_lemm[\n",
    "    [\n",
    "        'Facebook Id', 'Post Created', \n",
    "        'Total Interactions', 'Likes', 'Comments', 'Shares', 'Love', 'Wow', 'Haha', 'Sad', 'Angry', 'Care', \n",
    "        'Message', 'Message_clean', 'Message_clean_stemm', 'Message_clean_lemm',\n",
    "        ]\n",
    "    ]\n",
    "df_select.head(1)"
   ]
  },
  {
   "attachments": {},
   "cell_type": "markdown",
   "metadata": {},
   "source": [
    "Remove stop words from messages"
   ]
  },
  {
   "cell_type": "code",
   "execution_count": 4,
   "metadata": {},
   "outputs": [
    {
     "name": "stderr",
     "output_type": "stream",
     "text": [
      "/Users/eduardomorenoortiz/Desktop/ITAM/nanook/nlp_nanook/src/utils/utils.py:145: SettingWithCopyWarning: \n",
      "A value is trying to be set on a copy of a slice from a DataFrame.\n",
      "Try using .loc[row_indexer,col_indexer] = value instead\n",
      "\n",
      "See the caveats in the documentation: https://pandas.pydata.org/pandas-docs/stable/user_guide/indexing.html#returning-a-view-versus-a-copy\n",
      "  df[column + '_stpWrd'] = aux\n",
      "/Users/eduardomorenoortiz/Desktop/ITAM/nanook/nlp_nanook/src/utils/utils.py:145: SettingWithCopyWarning: \n",
      "A value is trying to be set on a copy of a slice from a DataFrame.\n",
      "Try using .loc[row_indexer,col_indexer] = value instead\n",
      "\n",
      "See the caveats in the documentation: https://pandas.pydata.org/pandas-docs/stable/user_guide/indexing.html#returning-a-view-versus-a-copy\n",
      "  df[column + '_stpWrd'] = aux\n",
      "/Users/eduardomorenoortiz/Desktop/ITAM/nanook/nlp_nanook/src/utils/utils.py:145: SettingWithCopyWarning: \n",
      "A value is trying to be set on a copy of a slice from a DataFrame.\n",
      "Try using .loc[row_indexer,col_indexer] = value instead\n",
      "\n",
      "See the caveats in the documentation: https://pandas.pydata.org/pandas-docs/stable/user_guide/indexing.html#returning-a-view-versus-a-copy\n",
      "  df[column + '_stpWrd'] = aux\n",
      "/Users/eduardomorenoortiz/Desktop/ITAM/nanook/nlp_nanook/src/utils/utils.py:145: SettingWithCopyWarning: \n",
      "A value is trying to be set on a copy of a slice from a DataFrame.\n",
      "Try using .loc[row_indexer,col_indexer] = value instead\n",
      "\n",
      "See the caveats in the documentation: https://pandas.pydata.org/pandas-docs/stable/user_guide/indexing.html#returning-a-view-versus-a-copy\n",
      "  df[column + '_stpWrd'] = aux\n"
     ]
    }
   ],
   "source": [
    "df_clean = remove_stop_words_from_dataframe(\n",
    "    df=df_select, \n",
    "    columns=[\"Message\", \"Message_clean\", \"Message_clean_stemm\", \"Message_clean_lemm\"], \n",
    "    stop_words_file=\"../utils/spanish_stopwords.txt\"\n",
    "    )"
   ]
  },
  {
   "cell_type": "code",
   "execution_count": 5,
   "metadata": {},
   "outputs": [
    {
     "data": {
      "text/html": [
       "<div>\n",
       "<style scoped>\n",
       "    .dataframe tbody tr th:only-of-type {\n",
       "        vertical-align: middle;\n",
       "    }\n",
       "\n",
       "    .dataframe tbody tr th {\n",
       "        vertical-align: top;\n",
       "    }\n",
       "\n",
       "    .dataframe thead th {\n",
       "        text-align: right;\n",
       "    }\n",
       "</style>\n",
       "<table border=\"1\" class=\"dataframe\">\n",
       "  <thead>\n",
       "    <tr style=\"text-align: right;\">\n",
       "      <th></th>\n",
       "      <th>Message_clean</th>\n",
       "      <th>Message_clean_stpWrd</th>\n",
       "      <th>Message_clean_stemm</th>\n",
       "      <th>Message_clean_stemm_stpWrd</th>\n",
       "      <th>Message_clean_lemm</th>\n",
       "      <th>Message_clean_lemm_stpWrd</th>\n",
       "    </tr>\n",
       "  </thead>\n",
       "  <tbody>\n",
       "    <tr>\n",
       "      <th>0</th>\n",
       "      <td>mitigar el cambio climatico con los pies en la...</td>\n",
       "      <td>mitigar cambio climatico pies tierra</td>\n",
       "      <td>mitig el cambi climat con los pies en la tierr</td>\n",
       "      <td>mitig cambi climat pies tierr</td>\n",
       "      <td>mitigar el cambio climatico con el pie en el t...</td>\n",
       "      <td>mitigar cambio climatico pie tierra</td>\n",
       "    </tr>\n",
       "  </tbody>\n",
       "</table>\n",
       "</div>"
      ],
      "text/plain": [
       "                                       Message_clean  \\\n",
       "0  mitigar el cambio climatico con los pies en la...   \n",
       "\n",
       "                   Message_clean_stpWrd  \\\n",
       "0  mitigar cambio climatico pies tierra   \n",
       "\n",
       "                              Message_clean_stemm  \\\n",
       "0  mitig el cambi climat con los pies en la tierr   \n",
       "\n",
       "      Message_clean_stemm_stpWrd  \\\n",
       "0  mitig cambi climat pies tierr   \n",
       "\n",
       "                                  Message_clean_lemm  \\\n",
       "0  mitigar el cambio climatico con el pie en el t...   \n",
       "\n",
       "             Message_clean_lemm_stpWrd  \n",
       "0  mitigar cambio climatico pie tierra  "
      ]
     },
     "execution_count": 5,
     "metadata": {},
     "output_type": "execute_result"
    }
   ],
   "source": [
    "df_clean[\n",
    "    [\n",
    "        'Message_clean', 'Message_clean_stpWrd',\n",
    "        'Message_clean_stemm', 'Message_clean_stemm_stpWrd',\n",
    "        'Message_clean_lemm', 'Message_clean_lemm_stpWrd'\n",
    "        ]].head(1)"
   ]
  },
  {
   "attachments": {},
   "cell_type": "markdown",
   "metadata": {},
   "source": [
    "Save final dataframe"
   ]
  },
  {
   "cell_type": "code",
   "execution_count": 6,
   "metadata": {},
   "outputs": [],
   "source": [
    "df_clean[['Facebook Id', 'Post Created', 'Total Interactions', 'Likes',\n",
    "       'Comments', 'Shares', 'Love', 'Wow', 'Haha', 'Sad', 'Angry', 'Care',\n",
    "       'Message_stpWrd', 'Message_clean_stpWrd', 'Message_clean_stemm_stpWrd',\n",
    "       'Message_clean_lemm_stpWrd']].to_pickle(\"../../data/preprocessed/stemm_lemm_stop_words.pkl\")"
   ]
  },
  {
   "cell_type": "code",
   "execution_count": null,
   "metadata": {},
   "outputs": [],
   "source": []
  }
 ],
 "metadata": {
  "kernelspec": {
   "display_name": "env_nanook",
   "language": "python",
   "name": "python3"
  },
  "language_info": {
   "codemirror_mode": {
    "name": "ipython",
    "version": 3
   },
   "file_extension": ".py",
   "mimetype": "text/x-python",
   "name": "python",
   "nbconvert_exporter": "python",
   "pygments_lexer": "ipython3",
   "version": "3.11.8"
  },
  "orig_nbformat": 4
 },
 "nbformat": 4,
 "nbformat_minor": 2
}
