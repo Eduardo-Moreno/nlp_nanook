{
 "cells": [
  {
   "cell_type": "code",
   "execution_count": null,
   "metadata": {},
   "outputs": [],
   "source": [
    "import pandas as pd\n",
    "import os\n",
    "import sys\n",
    "sys.path.insert(0, '/Users/eduardomorenoortiz/Desktop/repos/cdas_itam_nanook') # Local"
   ]
  },
  {
   "cell_type": "code",
   "execution_count": null,
   "metadata": {},
   "outputs": [],
   "source": [
    "import warnings\n",
    "# Deshabilitar solo las advertencias de DtypeWarning\n",
    "warnings.filterwarnings('ignore')"
   ]
  },
  {
   "attachments": {},
   "cell_type": "markdown",
   "metadata": {},
   "source": [
    "# Preprocess data\n",
    "\n",
    "In this notebook we will preprocess the data available on **ITAM-CDAS**'s Google Drive (specifically csv files) in order to merge all the files in one single file for both *FBpages* and *FBgroups*.\n",
    "\n",
    "The columns that will be included are:\n",
    "- `Group Name`: for *FBgroups*\n",
    "- `Page Name`: for *FBpages*\n",
    "- `Facebook id`\n",
    "- `Likes at Posting`\n",
    "- `Post Created`\n",
    "- `Type`\n",
    "- `Total Interactions`\n",
    "- `Likes`\n",
    "- `Comments`\n",
    "- `Shares`\n",
    "- `Love`\n",
    "- `Wow`\n",
    "- `Haha`\n",
    "- `Sad`\n",
    "- `Angry`\n",
    "- `Care`\n",
    "- `Message`\n",
    "- `Image Text`\n",
    "- `Link Text`\n",
    "- `Description`\n",
    "- `Overperforming Score (weighted  —  Likes 1x Shares 1x Comments 1x Love 1x Wow 1x Haha 1x Sad 1x Angry 1x Care 1x )`\n",
    "\n",
    "The structure needed to run with success the notebook is:\n",
    "\n",
    "**-> data**\n",
    "\n",
    "        |-> raw\n",
    "\n",
    "            |-> Datos FBgroups\n",
    "            \n",
    "            |-> Datos FBpages\n",
    "\n",
    "        |-> preprocessed\n",
    "\n",
    "**-> notebooks**\n",
    "\n",
    "        |-> 01_preprocess_data.ipynb"
   ]
  },
  {
   "cell_type": "code",
   "execution_count": null,
   "metadata": {},
   "outputs": [],
   "source": [
    "folders_path = '/Users/eduardomorenoortiz/Desktop/repos/cdas_itam_nanook/data/raw/' # Ingresar ruta de los datos crudos\n",
    "folders_fb_data = os.listdir(folders_path)\n",
    "output_file = '/Users/eduardomorenoortiz/Desktop/repos/cdas_itam_nanook/data/preprocessed/data_fb_pages_groups.pkl'"
   ]
  },
  {
   "cell_type": "code",
   "execution_count": null,
   "metadata": {},
   "outputs": [],
   "source": [
    "colNames_groups_v1 = {'Group Name':'Entity Name', 'Overperforming Score':'score'}\n",
    "colNames_groups_v2 = {'Group Name':'Entity Name', 'Overperforming Score (weighted  —  Likes 1x Shares 1x Comments 1x Love 1x Wow 1x Haha 1x Sad 1x Angry 1x Care 1x )':'score'}\n",
    "colNames_pages_v1 = {'Page Name':'Entity Name', 'Overperforming Score':'score'}\n",
    "colNames_pages_v2 = {'Page Name':'Entity Name', 'Overperforming Score (weighted  —  Likes 1x Shares 1x Comments 1x Love 1x Wow 1x Haha 1x Sad 1x Angry 1x Care 1x )':'score'}\n",
    "df_final = pd.DataFrame()\n",
    "\n",
    "for folder_i in folders_fb_data:\n",
    "    files_path = f\"{folders_path}{folder_i}/\"\n",
    "    files = os.listdir(files_path)\n",
    "    print(f\"-> {folder_i}\")\n",
    "    for file_i in files:\n",
    "        if (file_i.split('.')[-1] == 'csv') and ('CST' not in file_i) :\n",
    "            print(f\"\\t-> {file_i}\")\n",
    "            df_i = pd.read_csv(f\"{files_path}{file_i}\")\n",
    "            if folder_i == 'Datos FBgroups':\n",
    "                if 'Overperforming Score' in df_i.columns:\n",
    "                    df_i = df_i[['Group Name', 'Facebook Id', 'Likes at Posting', 'Post Created', 'Type', \n",
    "                             'Total Interactions', 'Likes', 'Comments', 'Shares', 'Love', 'Wow', 'Haha', 'Sad', 'Angry', 'Care', \n",
    "                             'Message', 'Image Text', 'Link Text', 'Description', \n",
    "                             'Overperforming Score']]\n",
    "                    df_i = df_i.rename(columns = colNames_groups_v1)\n",
    "                    df_i['source'] = 'FBgroups'\n",
    "                else:\n",
    "                    df_i = df_i[['Group Name', 'Facebook Id', 'Likes at Posting', 'Post Created', 'Type', \n",
    "                             'Total Interactions', 'Likes', 'Comments', 'Shares', 'Love', 'Wow', 'Haha', 'Sad', 'Angry', 'Care', \n",
    "                             'Message', 'Image Text', 'Link Text', 'Description', \n",
    "                             'Overperforming Score (weighted  —  Likes 1x Shares 1x Comments 1x Love 1x Wow 1x Haha 1x Sad 1x Angry 1x Care 1x )']]\n",
    "                    df_i = df_i.rename(columns = colNames_groups_v2)\n",
    "                    df_i['source'] = 'FBgroups'\n",
    "            else:\n",
    "                if 'Overperforming Score' in df_i.columns:\n",
    "                    df_i = df_i[['Page Name', 'Facebook Id', 'Likes at Posting', 'Post Created', 'Type', \n",
    "                             'Total Interactions', 'Likes', 'Comments', 'Shares', 'Love', 'Wow', 'Haha', 'Sad', 'Angry', 'Care', \n",
    "                             'Message', 'Image Text', 'Link Text', 'Description', \n",
    "                             'Overperforming Score']]\n",
    "                    df_i = df_i.rename(columns = colNames_pages_v1)\n",
    "                    df_i['source'] = 'FBpages'\n",
    "                else:\n",
    "                    df_i = df_i[['Page Name', 'Facebook Id', 'Likes at Posting', 'Post Created', 'Type', \n",
    "                             'Total Interactions', 'Likes', 'Comments', 'Shares', 'Love', 'Wow', 'Haha', 'Sad', 'Angry', 'Care', \n",
    "                             'Message', 'Image Text', 'Link Text', 'Description', \n",
    "                             'Overperforming Score (weighted  —  Likes 1x Shares 1x Comments 1x Love 1x Wow 1x Haha 1x Sad 1x Angry 1x Care 1x )']]\n",
    "                    df_i = df_i.rename(columns = colNames_pages_v2)\n",
    "                    df_i['source'] = 'FBpages'\n",
    "            df_final = pd.concat([df_final, df_i], axis=0)"
   ]
  },
  {
   "cell_type": "code",
   "execution_count": null,
   "metadata": {},
   "outputs": [],
   "source": [
    "df_final.to_pickle(output_file)"
   ]
  },
  {
   "cell_type": "code",
   "execution_count": null,
   "metadata": {},
   "outputs": [],
   "source": []
  }
 ],
 "metadata": {
  "kernelspec": {
   "display_name": "env_nanook",
   "language": "python",
   "name": "python3"
  },
  "language_info": {
   "codemirror_mode": {
    "name": "ipython",
    "version": 3
   },
   "file_extension": ".py",
   "mimetype": "text/x-python",
   "name": "python",
   "nbconvert_exporter": "python",
   "pygments_lexer": "ipython3",
   "version": "3.11.0"
  },
  "orig_nbformat": 4
 },
 "nbformat": 4,
 "nbformat_minor": 2
}
