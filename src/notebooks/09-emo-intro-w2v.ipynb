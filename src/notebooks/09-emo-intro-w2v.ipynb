{
 "cells": [
  {
   "attachments": {},
   "cell_type": "markdown",
   "metadata": {},
   "source": [
    "# Word2Vec \n",
    "\n",
    "\"*Dime con quien andas y te diré quién eres*\" - [Francisco de Quevedo en el siglo XVI](https://significalogia.com/dime-con-quien-andas-y-te-dire-quien-eres-significado-y-origen-de-este-refran/)\n",
    "                                \n",
    "*Word2Vec* es una técnica de **Procesamiento del Lenguaje Natural** (*NLP*) utilizada para representar palabras como vectores (en un **espacio continuo**) de características numéricas de baja dimensión. Este método, desarrollado por un equipo de Google dirigido por Tomas Mikolov en 2013, ha revolucionado la forma en que se representan las palabras en el espacio vectorial, permitiendo que las máquinas comprendan y procesen el texto de una manera más eficiente y efectiva.\n",
    "\n",
    "*Word2Vec* utiliza dos arquitecturas principales para aprender las representaciones de las palabras:\n",
    "\n",
    "1. **CBOW** (Continuous Bag of Words): Predice una palabra objetivo basada en su contexto circundante. Es decir, toma las palabras del contexto y trata de predecir la palabra central.\n",
    "1. **Skip-gram**: Predice el contexto de una palabra objetivo. Toma una palabra central y trata de predecir las palabras circundantes en el contexto.\n",
    "\n",
    "Ambos métodos se basan en redes neuronales simples y generan vectores de palabras que capturan las **relaciones semánticas** entre ellas.\n",
    "\n",
    "El supuesto más importante de *Word2Vec* es que 2 palabras que tienen un **contexto similar**, entonces deben tener un **significado similar**, por ende, una representación vectorial similar.\n",
    "\n",
    "Por ejemplo, palabras como \"*perro*\", \"*cachorro*\", \"*mascota*\" suelen estar en contextos similares, por ende su representación vectorial en *Word2Vec* debe ser similar. Es posible llegar a este tipo de conclusiones, gracias a que *Word2Vec* captura las relaciones semánticas entre palabras en base a los patrones descubiertos en la co-ocurrencia  de palabras dado un corpus."
   ]
  },
  {
   "attachments": {},
   "cell_type": "markdown",
   "metadata": {},
   "source": [
    "# Load data"
   ]
  },
  {
   "cell_type": "code",
   "execution_count": 1,
   "metadata": {},
   "outputs": [],
   "source": [
    "import pandas as pd"
   ]
  },
  {
   "cell_type": "code",
   "execution_count": 2,
   "metadata": {},
   "outputs": [],
   "source": [
    "df = pd.read_pickle(\"../../data/preprocessed/stemm_lemm_stop_words.pkl\")"
   ]
  },
  {
   "cell_type": "code",
   "execution_count": 3,
   "metadata": {},
   "outputs": [
    {
     "data": {
      "text/plain": [
       "Index(['Facebook Id', 'Post Created', 'Total Interactions', 'Likes',\n",
       "       'Comments', 'Shares', 'Love', 'Wow', 'Haha', 'Sad', 'Angry', 'Care',\n",
       "       'Message_stpWrd', 'Message_clean_stpWrd', 'Message_clean_stemm_stpWrd',\n",
       "       'Message_clean_lemm_stpWrd'],\n",
       "      dtype='object')"
      ]
     },
     "execution_count": 3,
     "metadata": {},
     "output_type": "execute_result"
    }
   ],
   "source": [
    "df.columns"
   ]
  },
  {
   "attachments": {},
   "cell_type": "markdown",
   "metadata": {},
   "source": [
    "En este notebook analizaremos siguientes variables:\n",
    "- `Message_stpWrd`\n",
    "- `Message_clean_stpWrd`\n",
    "- `Message_clean_stemm_stpWrd`\n",
    "- `Message_clean_lemm_stpWrd`\n",
    "\n",
    "Específicamente: `Message_clean_lemm_stpWrd`"
   ]
  },
  {
   "cell_type": "code",
   "execution_count": 4,
   "metadata": {},
   "outputs": [
    {
     "data": {
      "text/html": [
       "<div>\n",
       "<style scoped>\n",
       "    .dataframe tbody tr th:only-of-type {\n",
       "        vertical-align: middle;\n",
       "    }\n",
       "\n",
       "    .dataframe tbody tr th {\n",
       "        vertical-align: top;\n",
       "    }\n",
       "\n",
       "    .dataframe thead th {\n",
       "        text-align: right;\n",
       "    }\n",
       "</style>\n",
       "<table border=\"1\" class=\"dataframe\">\n",
       "  <thead>\n",
       "    <tr style=\"text-align: right;\">\n",
       "      <th></th>\n",
       "      <th>Message_stpWrd</th>\n",
       "      <th>Message_clean_stpWrd</th>\n",
       "      <th>Message_clean_stemm_stpWrd</th>\n",
       "      <th>Message_clean_lemm_stpWrd</th>\n",
       "    </tr>\n",
       "  </thead>\n",
       "  <tbody>\n",
       "    <tr>\n",
       "      <th>0</th>\n",
       "      <td>Mitigar cambio climático pies tierra. http://r...</td>\n",
       "      <td>mitigar cambio climatico pies tierra</td>\n",
       "      <td>mitig cambi climat pies tierr</td>\n",
       "      <td>mitigar cambio climatico pie tierra</td>\n",
       "    </tr>\n",
       "    <tr>\n",
       "      <th>1</th>\n",
       "      <td>#México 🇲🇽 | Ciudad México urbe Latinoamérica ...</td>\n",
       "      <td>mexico ciudad mexico urbe latinoamerica busca ...</td>\n",
       "      <td>mexic ciud mexic urbe latinoamer busc siguient...</td>\n",
       "      <td>mexico ciudad mexico urbe latinoamerica buscar...</td>\n",
       "    </tr>\n",
       "    <tr>\n",
       "      <th>2</th>\n",
       "      <td>2018 comienza deseo corazón hagan disfruten, p...</td>\n",
       "      <td>2018 comienza deseo corazon hagan disfruten ma...</td>\n",
       "      <td>par 2018 comienz dese corazon hag tod disfrut ...</td>\n",
       "      <td>2018 comenzar desear corazon disfrutar mas aun...</td>\n",
       "    </tr>\n",
       "    <tr>\n",
       "      <th>3</th>\n",
       "      <td>ONU lanza alerta roja 2018 armas nucleares, vi...</td>\n",
       "      <td>onu lanza alerta roja 2018 armas nucleares vio...</td>\n",
       "      <td>onu lanz alert roj par 2018 armas nuclear viol...</td>\n",
       "      <td>onu lanzar alerta rojo 2018 arma nuclear viola...</td>\n",
       "    </tr>\n",
       "    <tr>\n",
       "      <th>4</th>\n",
       "      <td>Novedoso proyecto busca instalar paneles solar...</td>\n",
       "      <td>novedoso proyecto busca instalar paneles solar...</td>\n",
       "      <td>noved proyect busc instal panel solar lun par ...</td>\n",
       "      <td>novedoso proyecto buscar instalar panel solar ...</td>\n",
       "    </tr>\n",
       "  </tbody>\n",
       "</table>\n",
       "</div>"
      ],
      "text/plain": [
       "                                      Message_stpWrd  \\\n",
       "0  Mitigar cambio climático pies tierra. http://r...   \n",
       "1  #México 🇲🇽 | Ciudad México urbe Latinoamérica ...   \n",
       "2  2018 comienza deseo corazón hagan disfruten, p...   \n",
       "3  ONU lanza alerta roja 2018 armas nucleares, vi...   \n",
       "4  Novedoso proyecto busca instalar paneles solar...   \n",
       "\n",
       "                                Message_clean_stpWrd  \\\n",
       "0               mitigar cambio climatico pies tierra   \n",
       "1  mexico ciudad mexico urbe latinoamerica busca ...   \n",
       "2  2018 comienza deseo corazon hagan disfruten ma...   \n",
       "3  onu lanza alerta roja 2018 armas nucleares vio...   \n",
       "4  novedoso proyecto busca instalar paneles solar...   \n",
       "\n",
       "                          Message_clean_stemm_stpWrd  \\\n",
       "0                      mitig cambi climat pies tierr   \n",
       "1  mexic ciud mexic urbe latinoamer busc siguient...   \n",
       "2  par 2018 comienz dese corazon hag tod disfrut ...   \n",
       "3  onu lanz alert roj par 2018 armas nuclear viol...   \n",
       "4  noved proyect busc instal panel solar lun par ...   \n",
       "\n",
       "                           Message_clean_lemm_stpWrd  \n",
       "0                mitigar cambio climatico pie tierra  \n",
       "1  mexico ciudad mexico urbe latinoamerica buscar...  \n",
       "2  2018 comenzar desear corazon disfrutar mas aun...  \n",
       "3  onu lanzar alerta rojo 2018 arma nuclear viola...  \n",
       "4  novedoso proyecto buscar instalar panel solar ...  "
      ]
     },
     "execution_count": 4,
     "metadata": {},
     "output_type": "execute_result"
    }
   ],
   "source": [
    "df[['Message_stpWrd', 'Message_clean_stpWrd', \n",
    "    'Message_clean_stemm_stpWrd', 'Message_clean_lemm_stpWrd']].head()"
   ]
  },
  {
   "cell_type": "code",
   "execution_count": 5,
   "metadata": {},
   "outputs": [
    {
     "data": {
      "text/plain": [
       "(87422, 16)"
      ]
     },
     "execution_count": 5,
     "metadata": {},
     "output_type": "execute_result"
    }
   ],
   "source": [
    "df.shape"
   ]
  },
  {
   "attachments": {},
   "cell_type": "markdown",
   "metadata": {},
   "source": [
    "Algunos mensajes (*original*, *limpio*, *stemmatizado* y *lemmatizado*) preprocesados son:"
   ]
  },
  {
   "cell_type": "code",
   "execution_count": 6,
   "metadata": {},
   "outputs": [
    {
     "name": "stdout",
     "output_type": "stream",
     "text": [
      "ORIGINAL MESSAGE\n",
      "Post 1: Mitigar cambio climático pies tierra. http://regenerationinternational.org/2017/12/27/agricultura-regenerativa-tierra-cambio-climatico/:=:https://regenerationinternational.org/2017/12/27/agricultura-regenerativa-tierra-cambio-climatico/\n",
      "Post 2: #México 🇲🇽 | Ciudad México urbe Latinoamérica busca generación mujeres líderes.\n",
      "Post 3: 2018 comienza deseo corazón hagan disfruten, pero, aún, disfruten hagan. repartan amor lados: seres humanos comunidad seres vivos. terrible calentamiento global serio calentamiento social, violencias, odios, muertes exclusiones, anular densa “amorósfera”: energía amor presente, actuante continua expansión. solidaridad, amor universal haremos presente esperanza 2018. cariño, Victor Quintana\n",
      "Post 4: ONU lanza alerta roja 2018 armas nucleares, violación DH cambio climático “La unidad camino”, insistió secretario. “Nuestro futuro depende ello”.\n",
      "Post 5: Novedoso proyecto busca instalar paneles solares luna, abastecer energía planeta Tierra.!! https://goo.gl/c4gPQq:=:https://www.libertadypensamiento.com/2016/04/instalar-paneles-solares-luna-cambio-climatico.html\n",
      "\n",
      "\n",
      "CLEAN MESSAGE\n",
      "Post 1: mitigar cambio climatico pies tierra\n",
      "Post 2: mexico ciudad mexico urbe latinoamerica busca generacion mujeres lideres\n",
      "Post 3: 2018 comienza deseo corazon hagan disfruten mas aun disfruten hagan repartan amor lados seres humanos comunidad seres vivos terrible calentamiento global aun mas serio calentamiento social violencias odios muertes exclusiones anular mas densa amorosfera energia amor presente actuante continua expansion solidaridad amor universal haremos presente esperanza 2018 carino victor quintana\n",
      "Post 4: onu lanza alerta roja 2018 armas nucleares violacion dh cambio climatico unidad camino insistio secretario futuro depende\n",
      "Post 5: novedoso proyecto busca instalar paneles solares luna abastecer energia planeta tierra\n",
      "\n",
      "\n",
      "STEMMED MESSAGE\n",
      "Post 1: mitig cambi climat pies tierr\n",
      "Post 2: mexic ciud mexic urbe latinoamer busc siguient gener mujer lider\n",
      "Post 3: par 2018 comienz dese corazon hag tod disfrut per mas aun disfrut tod hag repart amor tod lad human tod comun viv porqu terribl calent global aun mas seri calent social violenci odi muert exclusion sol pod anul hac much mas dens amorosfer energi amor present actuant continu expansion solidar amor universal har present esper 2018 much carin victor quintan\n",
      "Post 4: onu lanz alert roj par 2018 armas nuclear violacion dh cambi climat unid camin insisti secretari nuestr futur depend\n",
      "Post 5: noved proyect busc instal panel solar lun par abastec energi planet tierr\n",
      "\n",
      "\n",
      "LEMMATIZED MESSAGE\n",
      "Post 1: mitigar cambio climatico pie tierra\n",
      "Post 2: mexico ciudad mexico urbe latinoamerica buscar generacion mujer lider\n",
      "Post 3: 2018 comenzar desear corazon disfrutar mas aun disfrutar repartir amor humano comunidad vivo terrible calentamiento global aun mas serio calentamiento social violencia odio muerte exclusión anular mas denso amorosfera energia amor presente actuante continuo expansion solidaridad amor universal presente esperanza 2018 carino victor quintana\n",
      "Post 4: onu lanzar alerta rojo 2018 arma nuclear violacion dh cambio climatico unidad camino insistio secretario futuro depender\n",
      "Post 5: novedoso proyecto buscar instalar panel solar luna abastecer energia planeta tierra\n",
      "\n",
      "\n"
     ]
    }
   ],
   "source": [
    "print('ORIGINAL MESSAGE')\n",
    "for i, text in enumerate(df['Message_stpWrd']):\n",
    "    print(f\"Post {i + 1}: {text}\")\n",
    "    #display(Markdown(f\"Post {i + 1}: {text}\"))\n",
    "    if i == 4:\n",
    "        break\n",
    "print(\"\\n\")\n",
    "\n",
    "print('CLEAN MESSAGE')\n",
    "for i, text in enumerate(df['Message_clean_stpWrd']):\n",
    "    print(f\"Post {i + 1}: {text}\")\n",
    "    if i == 4:\n",
    "        break\n",
    "print(\"\\n\")\n",
    "\n",
    "print('STEMMED MESSAGE')\n",
    "for i, text in enumerate(df['Message_clean_stemm_stpWrd']):\n",
    "    print(f\"Post {i + 1}: {text}\")\n",
    "    if i == 4:\n",
    "        break\n",
    "print(\"\\n\")\n",
    "\n",
    "print('LEMMATIZED MESSAGE')\n",
    "for i, text in enumerate(df['Message_clean_lemm_stpWrd']):\n",
    "    print(f\"Post {i + 1}: {text}\")\n",
    "    if i == 4:\n",
    "        break\n",
    "print(\"\\n\")"
   ]
  },
  {
   "cell_type": "code",
   "execution_count": 7,
   "metadata": {},
   "outputs": [
    {
     "data": {
      "text/plain": [
       "['mitigar cambio climatico pie tierra',\n",
       " 'mexico ciudad mexico urbe latinoamerica buscar generacion mujer lider',\n",
       " '2018 comenzar desear corazon disfrutar mas aun disfrutar repartir amor humano comunidad vivo terrible calentamiento global aun mas serio calentamiento social violencia odio muerte exclusión anular mas denso amorosfera energia amor presente actuante continuo expansion solidaridad amor universal presente esperanza 2018 carino victor quintana',\n",
       " 'onu lanzar alerta rojo 2018 arma nuclear violacion dh cambio climatico unidad camino insistio secretario futuro depender',\n",
       " 'novedoso proyecto buscar instalar panel solar luna abastecer energia planeta tierra']"
      ]
     },
     "execution_count": 7,
     "metadata": {},
     "output_type": "execute_result"
    }
   ],
   "source": [
    "facebook_post_clean = df['Message_clean_lemm_stpWrd'].values.tolist()\n",
    "facebook_post_clean[:5]"
   ]
  },
  {
   "attachments": {},
   "cell_type": "markdown",
   "metadata": {},
   "source": [
    "# Preprocess data: Tokenize by lemmatize text"
   ]
  },
  {
   "cell_type": "code",
   "execution_count": 8,
   "metadata": {},
   "outputs": [],
   "source": [
    "from tqdm import tqdm"
   ]
  },
  {
   "attachments": {},
   "cell_type": "markdown",
   "metadata": {},
   "source": [
    "A continuación se van a crear los mensajes tokenizados. En este proyecto un token representa una **palabra**."
   ]
  },
  {
   "cell_type": "code",
   "execution_count": 9,
   "metadata": {},
   "outputs": [
    {
     "name": "stdout",
     "output_type": "stream",
     "text": [
      "CPU times: user 4 µs, sys: 1 µs, total: 5 µs\n",
      "Wall time: 12.2 µs\n"
     ]
    },
    {
     "name": "stderr",
     "output_type": "stream",
     "text": [
      "100%|██████████| 87422/87422 [00:01<00:00, 48919.12it/s]\n"
     ]
    }
   ],
   "source": [
    "%time\n",
    "tokens_spacy = []\n",
    "for post in tqdm(facebook_post_clean):\n",
    "    token_i = [token for token in post.split(' ')]\n",
    "    tokens_spacy.append(token_i)"
   ]
  },
  {
   "cell_type": "code",
   "execution_count": 10,
   "metadata": {},
   "outputs": [
    {
     "name": "stdout",
     "output_type": "stream",
     "text": [
      "CPU times: user 4 µs, sys: 1 µs, total: 5 µs\n",
      "Wall time: 11.2 µs\n"
     ]
    },
    {
     "name": "stderr",
     "output_type": "stream",
     "text": [
      "100%|██████████| 87422/87422 [00:02<00:00, 31872.15it/s]\n"
     ]
    }
   ],
   "source": [
    "%time\n",
    "facebook_posts = []\n",
    "for post in tqdm(facebook_post_clean):\n",
    "    token_i = [token for token in post]\n",
    "    facebook_posts.append(token_i)"
   ]
  },
  {
   "attachments": {},
   "cell_type": "markdown",
   "metadata": {},
   "source": [
    "Así se ven los post procesados como tokens:"
   ]
  },
  {
   "cell_type": "code",
   "execution_count": 11,
   "metadata": {},
   "outputs": [
    {
     "name": "stdout",
     "output_type": "stream",
     "text": [
      "['mitigar', 'cambio', 'climatico', 'pie', 'tierra']\n",
      "['mexico', 'ciudad', 'mexico', 'urbe', 'latinoamerica', 'buscar', 'generacion', 'mujer', 'lider']\n",
      "['2018', 'comenzar', 'desear', 'corazon', 'disfrutar', 'mas', 'aun', 'disfrutar', 'repartir', 'amor', 'humano', 'comunidad', 'vivo', 'terrible', 'calentamiento', 'global', 'aun', 'mas', 'serio', 'calentamiento', 'social', 'violencia', 'odio', 'muerte', 'exclusión', 'anular', 'mas', 'denso', 'amorosfera', 'energia', 'amor', 'presente', 'actuante', 'continuo', 'expansion', 'solidaridad', 'amor', 'universal', 'presente', 'esperanza', '2018', 'carino', 'victor', 'quintana']\n",
      "['onu', 'lanzar', 'alerta', 'rojo', '2018', 'arma', 'nuclear', 'violacion', 'dh', 'cambio', 'climatico', 'unidad', 'camino', 'insistio', 'secretario', 'futuro', 'depender']\n",
      "['novedoso', 'proyecto', 'buscar', 'instalar', 'panel', 'solar', 'luna', 'abastecer', 'energia', 'planeta', 'tierra']\n"
     ]
    }
   ],
   "source": [
    "for i in tokens_spacy[:5]:\n",
    "    print(i)"
   ]
  },
  {
   "cell_type": "code",
   "execution_count": 12,
   "metadata": {},
   "outputs": [
    {
     "name": "stdout",
     "output_type": "stream",
     "text": [
      "Hay un total de 87422 mensajes.\n"
     ]
    }
   ],
   "source": [
    "print(f\"Hay un total de {len(tokens_spacy)} mensajes.\")"
   ]
  },
  {
   "attachments": {},
   "cell_type": "markdown",
   "metadata": {},
   "source": [
    "# Phrase Modelling (N-gram)\n",
    "\n",
    "**Phrase Modelling** permite obtener combinaciones de tokens (palabras) que juntos representen conceptos de importancia (multi-palabras). Para ello, analizamos las palabras que aparecen en los posts de **Facebook** con el objetivo de analizar cuáles de ellas co-ocurren más frecuente de lo que podríamos esperar. Utilizamos el término *phrase* (*phrase*) bajo el supuesto de que una *frase* es el resultado de unir dos o más palabras. La fórmula que se utilizan los *phrase models* para construir una *frase* dadas $2$ palabras (tokens) $A$ y $B$ es:\n",
    "\n",
    "$\n",
    "\\frac{count(AB) - count_{min}}{count(A)*count(B)} * N > threshold \n",
    "$\n",
    "\n",
    "En donde,\n",
    "- $count(A)$ es el número de veces que aparece el token $A$ en el corpus.\n",
    "- $count(B)$ es el número de veces que aparece el token $B$ en el corpus.\n",
    "- $count(AB)$ es el número de veces que co-aparecen los token $AB$ (juntos) en el corpus.\n",
    "- $N$ es el tamaño del vocabulario del corpus (palabras únicas).\n",
    "- $count_{min}$ hiperparámetro predefinido que asegura que los tokens (en este caso $AB$) co-ocurran al menos un número de veces.\n",
    "- $threshold$ hiperparámetro predefinido para controlar la \"relevancia\" que debe tener la co-ocurrencia de dos tokens para ser aceptada como una *frase*.\n",
    "\n",
    "\n",
    "Se crearán modelos encargados de calcular **n-gramas** (bigrama y trigrama). Para ello se utilizará versión `1.10.1` de `scipy`. La cual puede ser instalada con la siguiente línea de código:\n",
    "\n",
    "```\n",
    "pip install scipy==1.10.1\n",
    "```"
   ]
  },
  {
   "cell_type": "code",
   "execution_count": 13,
   "metadata": {},
   "outputs": [],
   "source": [
    "import gensim\n",
    "from collections import Counter"
   ]
  },
  {
   "attachments": {},
   "cell_type": "markdown",
   "metadata": {},
   "source": [
    "## Bigrams"
   ]
  },
  {
   "attachments": {},
   "cell_type": "markdown",
   "metadata": {},
   "source": [
    "Creación del modelo para obtener bigramas (*phrase models*)"
   ]
  },
  {
   "cell_type": "code",
   "execution_count": 14,
   "metadata": {},
   "outputs": [],
   "source": [
    "bigram = gensim.models.Phrases(tokens_spacy)#, min_count=10, threshold=20)"
   ]
  },
  {
   "cell_type": "code",
   "execution_count": 15,
   "metadata": {},
   "outputs": [],
   "source": [
    "phrases = gensim.models.Phrases(tokens_spacy, progress_per=10000)"
   ]
  },
  {
   "cell_type": "code",
   "execution_count": 16,
   "metadata": {},
   "outputs": [],
   "source": [
    "bigram = phrases"
   ]
  },
  {
   "cell_type": "code",
   "execution_count": 17,
   "metadata": {},
   "outputs": [],
   "source": [
    "sentences = bigram[tokens_spacy]"
   ]
  },
  {
   "attachments": {},
   "cell_type": "markdown",
   "metadata": {},
   "source": [
    "Así se ven los textos convirtiendo tokens a *frases* (bigramas):"
   ]
  },
  {
   "cell_type": "code",
   "execution_count": 18,
   "metadata": {},
   "outputs": [
    {
     "name": "stdout",
     "output_type": "stream",
     "text": [
      "['mitigar', 'cambio_climatico', 'pie', 'tierra']\n",
      "['mexico', 'ciudad_mexico', 'urbe', 'latinoamerica', 'buscar', 'generacion', 'mujer', 'lider']\n",
      "['2018', 'comenzar', 'desear', 'corazon', 'disfrutar', 'mas', 'aun', 'disfrutar', 'repartir', 'amor', 'humano', 'comunidad', 'vivo', 'terrible', 'calentamiento_global', 'aun', 'mas', 'serio', 'calentamiento', 'social', 'violencia', 'odio', 'muerte', 'exclusión', 'anular', 'mas', 'denso', 'amorosfera', 'energia', 'amor', 'presente', 'actuante', 'continuo', 'expansion', 'solidaridad', 'amor', 'universal', 'presente', 'esperanza', '2018', 'carino', 'victor', 'quintana']\n",
      "['onu', 'lanzar', 'alerta_rojo', '2018', 'arma_nuclear', 'violacion', 'dh', 'cambio_climatico', 'unidad', 'camino', 'insistio', 'secretario', 'futuro', 'depender']\n",
      "['novedoso', 'proyecto', 'buscar', 'instalar_panel', 'solar', 'luna', 'abastecer', 'energia', 'planeta', 'tierra']\n",
      "['secretario_general', 'onu_antonio', 'guterres', 'lanzar', 'senal_alerta', 'comunidad_internacional', 'agudizacion', 'conflicto', 'surgimiento', 'peligro']\n",
      "['presidente_unidos', 'escribio_twitter', 'semana', 'costa', 'pais', 'podriar', 'vispera', 'ano', 'mas', 'frio', 'registro', 'volver', 'referir', 'cambio_climatico', '327', 'more_words']\n",
      "['lomasver', 'vendriar', 'viejo', 'calentamiento_global', 'pais', 'demas', 'pagar_billón', 'dolar', 'escribio', 'trump', 'twitter']\n",
      "['empatia', 'empatia', 'capacidad', 'sentir', 'pensar', 'persona', 'capacidad', 'empatia', 'leer', 'dema', 'capaz', 'captar', 'cantidad', 'informacion', 'persona', 'lenguaje', 'verbal', 'palabra', 'tono', 'voz', 'postura', 'expresion', 'facial', 'etc', 'base', 'informacion', 'pasar', 'sentir', 'adema', 'sentimiento', 'emoción', 'menudo', 'reflejo', 'pensamiento', 'capaz', 'deducir', 'tambien', 'persona', 'pensar', 'ocasion', 'contemplir', 'interesante', 'muestra', 'empatia', 'falta', 'restaurante', 'chino', 'hombre', 'gracia', 'camarera', 'pequeno', 'obsequio', 'restaurante', 'habia', 'dejar', 'par', 'dia', 'buzón', 'persona', 'vivian', 'camarera', 'chino', 'hablar', 'palabra', 'espanol', 'preguntar', 'hombre', 'esforzar', 'entender', 'camarera', 'marchar', 'mujer', 'sentada', 'hombre', 'creer', 'entender', 'querer', 'traer', 'regalo', 'hombre', 'respondio', 'cara', 'asombro', 'serio', 'rato', 'llegar', 'camarera', 'obsequio', 'mujer', 'leer', 'rostro', 'camarera', 'habia', 'entender', 'indicar', 'seguramente', 'tratar', 'persona', 'elevado', 'capacidad', 'empatia', 'empatia', 'requerir', 'prestar_atencion', 'persona', 'proceso', 'inconsciente', 'requerir', 'tambien', 'consciente', 'dema', 'sentir', 'pensar', 'modos', 'similar', 'tambien', 'molestar', 'determinado', 'comentario', 'broma', 'persona', 'molestar', 'persona', 'empatico', 'capaz', 'comentario', 'molestar', 'sentar', 'empatia', 'relacionado', 'compasion', 'necesario', 'grado', 'empatia', 'sentir', 'compasion', 'dema', 'empatia', 'permitir', 'sentir_dolor', 'sufrimiento', 'llegar', 'compadecerte', 'alguien', 'sufrir', 'desear', 'prestar_ayuda', 'general', 'facil', 'mayoria', 'persona', 'respuesta', 'empatico', 'dano', 'fisico', 'ocurrido', 'persona', 'sentir', 'golpe', 'espinilla', 'sentir', 'facil', 'sentir_dolor', 'persona', 'recibir', 'golpe', 'obstante', 'evitar', 'malestar', 'sentir', 'persona', 'reaccionar', 'riendose', 'librar', 'dolor', 'tambien', 'alejar', 'respuesta', 'empatico', 'tratar', 'dolor', 'fisico', 'emocional', 'mas', 'dificil', 'persona', 'sentir', 'requerir', 'grado', 'atencion', 'conciencia', 'persona', 'mas', 'elevado', 'desarrollar', 'empatia', 'persona', 'aumentar_capacidad', 'empatia', 'observar', 'mas_detalle', 'dema', 'hablar', 'prestandol', 'atencion', 'observar', 'mensaje', 'persona', 'transmitir', 'esforzar', 'leer', 'sentir', 'hablar', 'alguien', 'mas', 'pendiente', 'palabra', 'diras', 'despues', 'preocupación', 'rondar', 'mente', 'capacidad', 'leer', 'persona', 'serar', 'alto', 'empatia', 'mas', 'sentir', 'implicar', 'responder', 'apropiado', 'emocion', 'persona', 'sentir', 'alguien', 'acabar', 'romper', 'pareja', 'sonries', 'exclama', 'respuesta', 'empatico', 'mas', 'empatico', 'falta_empatia', 'menudo', 'observar', 'reacción', 'dema', 'persona', 'centrado', 'satisfacer', 'deseo', 'comodidad', 'preocupar', 'dema', 'sentir', 'respuesta', 'empatico', 'madre', 'padre', 'responder', 'mmm', 'indiferente', 'hija', 'pequén', 'ensenar', 'entusiasmo', 'dibujo', 'percibir', 'decepcion', 'nina', 'ignorar', 'marido', 'llegar', 'casa', 'cansado', 'sentar', 'tele', 'esperar', 'esposa', 'tambien', 'llegar', 'cansado', 'ocupar', 'cena', 'banar', 'nino', 'persona', 'importar', 'calentamiento_global', 'contaminar', 'ambiente', 'considerar', 'habrir', 'morir', 'problema', 'vivir', 'sociedad', 'gente', 'empatico', 'segun_estudio', 'universidad_michigan', 'nivel', 'empatia', 'estudiante_universitario', 'caer', '40_ano', '2000', '2010', 'obstante', 'unico', 'mundo', 'truncated']\n",
      "['registro', \"xok_k'iin\", 'metodologia', \"xok_k'iin\", 'cabanue_maya', 'conocimiento_ancestral', 'maya', 'europeo', 'combinado', 'aun', 'mantener', 'vigencia', 'aplicar', 'mas', '90', 'practicar', 'milpa', 'territorio', 'peninsular', 'abandonar', 'practica', 'incidir', 'perdida_cosecha', 'par', 'semilla', 'heredar', 'padre_abuelo', 'forma', 'abandonar', 'forma', 'cultivar', \"xe'ek\", 'diversidad', 'semilla', 'espacio', 'cultivo', 'consiguiente', 'perder', 'semilla_nativo', 'aporte', 'nutrimental', 'cultivar', 'aprovechamiento', 'espacio', 'perdida', 'conocimiento', 'aplicar', 'mayab', 'acorde', 'caracteristica', 'suelo', 'clima', 'forma', \"xok_k'iin\", 'estrechamente_relacionado', 'planeacion', 'agricola', 'vinculado', 'observacion', 'clima', 'resultado', 'campesino_adaptar', 'proceso', 'produccion', 'milpero', 'diseno', 'cultivo', 'espacio', 'forma', 'conocimiento', 'practica', 'sumo', 'inter', 'reportar', 'terrible', 'efecto', 'cambio_climatico', 'agricultura', 'forma_vida', 'existir', 'planeta', 'metodologia', 'registro', 'observacion', \"xok_k'iin\", 'mes_enero', 'ano', 'constar', 'vuelta', 'comprender', 'pasar', 'mes_enero', 'semana', 'vuelta', 'informar', 'bernardo', 'caamal', 'itza', 'coordinador', 'colectivo', 'nombre', '1', '12', 'enero', 'registrar', 'condición', 'clima', 'dia', 'dia', 'asociar', 'mes', 'dia', '1_enero', '2_febrero', 'asi', 'llegar', 'dia', '12_diciembre', 'conteo', 'inversa', '13', '24_enero', 'cerrar', 'ciclo', 'completo', '25', '30', 'dia', 'asociar', 'bimestre', 'dia', '25_enero', 'febrero', 'dia', '26_marzo', 'abril', 'asi', 'consecutivo', 'despues', 'dia', '31', 'correspondera', 'hora', 'mes', 'ano', 'resultado_obtenido', 'observacion', 'procesar', 'participar', 'semana', 'mes_febrero', 'participante', 'desarrollar_metodologia', 'propuesta', 'mas', 'solido', 'observacion', 'forma', 'resultado', 'observado', 'enero', 'llamar', 'pronostico', 'plazo', 'ano', 'plpa', 'independiente', 'resultado', 'pronostico', 'general', 'registro', 'continuo', 'observacion', 'bio', 'indicador', 'yuya', 'calandria', 'beek', 'roble', 'jabin', 'cuyo_resultado', 'catalogar', 'pronostico', 'mediano_plazo', 'ano', 'pmpa', 'mes', 'yuyas', 'construir', 'nido', 'longitud', 'menor', '50', 'centimetro', 'acuerdo', 'tamano', 'forma', 'elaborar', 'coincidio', 'pronostico', 'pmpa', 'caso', 'cigarra', 'dia', 'continuo', 'canto', 'aclarar', 'serar', 'mes', 'ligero', 'lluvia', 'entrecortado', 'breve', 'periodo_sequia', 'actuacion', 'catalogado', 'fase', 'bio', 'indicador', 'considerado', 'pronosticador', 'corto_plazo', 'ano', 'pcpa', 'significar', 'observación', 'registro', 'terminar', 'mes_enero', 'seguir', 'observar', 'resultado', 'bio', 'indicador', 'restante', 'cuyo', 'dato', 'permitir', 'pronostico', 'aclarar', 'sistema', 'observacion', 'milenario', 'seguir', 'generar', 'resultado', 'interesante', 'productor', 'region', 'final', 'resultado', \"xok_k'iin\", '3', 'etapa', 'seran', 'contundente', 'pronostico', 'presentar', 'lluvia_sequia', 'vivir', 'evidencia', 'senalar', 'cambio_climatico', 'tipo', 'aun', 'vigente', 'cabanue_maya']\n"
     ]
    }
   ],
   "source": [
    "posts_bigram = bigram[tokens_spacy]\n",
    "for i in posts_bigram[:10]:\n",
    "    print(i)"
   ]
  },
  {
   "cell_type": "code",
   "execution_count": 19,
   "metadata": {},
   "outputs": [
    {
     "data": {
      "text/plain": [
       "<gensim.interfaces.TransformedCorpus at 0x133a47210>"
      ]
     },
     "execution_count": 19,
     "metadata": {},
     "output_type": "execute_result"
    }
   ],
   "source": [
    "posts_bigram"
   ]
  },
  {
   "attachments": {},
   "cell_type": "markdown",
   "metadata": {},
   "source": [
    "Ahora, procesemos todos los posts utilizando el modelo `bigram`"
   ]
  },
  {
   "cell_type": "code",
   "execution_count": 20,
   "metadata": {},
   "outputs": [],
   "source": [
    "tokens_bigram = [item for sublist in tokens_spacy for item in bigram[sublist]]\n",
    "corpus_post_model_bigram = Counter(tokens_bigram)"
   ]
  },
  {
   "attachments": {},
   "cell_type": "markdown",
   "metadata": {},
   "source": [
    "El top-20 de bigramas (*phrases*) y tokens con mayor frecuencia es:"
   ]
  },
  {
   "cell_type": "code",
   "execution_count": 21,
   "metadata": {},
   "outputs": [
    {
     "name": "stdout",
     "output_type": "stream",
     "text": [
      "cambio_climatico: 59805\n",
      "mas: 24803\n",
      "ano: 12141\n",
      "mundo: 9860\n",
      "climatico: 9196\n",
      "agua: 8722\n",
      "calentamiento_global: 8717\n",
      "tambien: 8387\n",
      "dia: 7779\n",
      "pais: 7640\n",
      "planeta: 7299\n",
      "proyecto: 6888\n",
      "asi: 6637\n",
      "ambiental: 6312\n",
      "medio_ambiente: 6291\n",
      "ciudad: 6110\n",
      "nacional: 6081\n",
      "gobierno: 5894\n",
      "desarrollo: 5608\n",
      "tierra: 5423\n"
     ]
    }
   ],
   "source": [
    "for word, count in corpus_post_model_bigram.most_common(20):\n",
    "    print(f'{word}: {count}')"
   ]
  },
  {
   "attachments": {},
   "cell_type": "markdown",
   "metadata": {},
   "source": [
    "Mientras que el Top-$20$ de *bigramas* con mayor frecuencia es:"
   ]
  },
  {
   "cell_type": "code",
   "execution_count": 22,
   "metadata": {},
   "outputs": [],
   "source": [
    "bigrams = [i for i in tokens_bigram if '_' in i]\n",
    "corpus_bigrams = Counter(bigrams)"
   ]
  },
  {
   "cell_type": "code",
   "execution_count": 23,
   "metadata": {},
   "outputs": [
    {
     "name": "stdout",
     "output_type": "stream",
     "text": [
      "cambio_climatico: 59805\n",
      "calentamiento_global: 8717\n",
      "medio_ambiente: 6291\n",
      "acuerdo_paris: 3692\n",
      "lucha_cambio: 2340\n",
      "donald_trump: 1911\n",
      "desarrollo_sostenible: 1703\n",
      "adaptacion_cambio: 1539\n",
      "naciones_unidas: 1520\n",
      "recurso_natural: 1450\n",
      "mas_informacion: 1196\n",
      "gas_efecto: 1184\n",
      "energia_renovable: 1182\n",
      "combatir_cambio: 1169\n",
      "dia_mundial: 1168\n",
      "america_latino: 1153\n",
      "efecto_invernadero: 1127\n",
      "costa_rico: 1085\n",
      "hora_planeta: 1080\n",
      "gestion_riesgo: 1059\n"
     ]
    }
   ],
   "source": [
    "for word, count in corpus_bigrams.most_common(20):\n",
    "    print(f'{word}: {count}')"
   ]
  },
  {
   "attachments": {},
   "cell_type": "markdown",
   "metadata": {},
   "source": [
    "# Word2Vec"
   ]
  },
  {
   "attachments": {},
   "cell_type": "markdown",
   "metadata": {},
   "source": [
    "## CBOW"
   ]
  },
  {
   "cell_type": "code",
   "execution_count": 24,
   "metadata": {},
   "outputs": [],
   "source": [
    "import multiprocessing\n",
    "from gensim.models import Word2Vec"
   ]
  },
  {
   "cell_type": "code",
   "execution_count": 25,
   "metadata": {},
   "outputs": [
    {
     "name": "stdout",
     "output_type": "stream",
     "text": [
      "Number of cores available: 4\n"
     ]
    }
   ],
   "source": [
    "cores = multiprocessing.cpu_count()\n",
    "print(f\"Number of cores available: {cores}\")"
   ]
  },
  {
   "attachments": {},
   "cell_type": "markdown",
   "metadata": {},
   "source": [
    "Definir el modelo"
   ]
  },
  {
   "cell_type": "code",
   "execution_count": 26,
   "metadata": {},
   "outputs": [],
   "source": [
    "w2v_model = Word2Vec(\n",
    "    #min_count=20,\n",
    "    #window=2,\n",
    "    #sample=6e-5, \n",
    "    #alpha=0.03, \n",
    "    #min_alpha=0.0007, \n",
    "    #negative=20,\n",
    "    #vector_size=100\n",
    "    workers=cores-1,\n",
    "    sg=0,\n",
    ")"
   ]
  },
  {
   "attachments": {},
   "cell_type": "markdown",
   "metadata": {},
   "source": [
    "Construir el vocabulario"
   ]
  },
  {
   "cell_type": "code",
   "execution_count": 27,
   "metadata": {},
   "outputs": [],
   "source": [
    "#w2v_model.build_vocab(tokens_spacy, progress_per=10000)\n",
    "#w2v_model.build_vocab(sentences, progress_per=10000)\n",
    "w2v_model.build_vocab(posts_bigram, progress_per=10000)"
   ]
  },
  {
   "attachments": {},
   "cell_type": "markdown",
   "metadata": {},
   "source": [
    "Entrenar el modelo"
   ]
  },
  {
   "cell_type": "code",
   "execution_count": 28,
   "metadata": {},
   "outputs": [
    {
     "data": {
      "text/plain": [
       "(77208922, 83547450)"
      ]
     },
     "execution_count": 28,
     "metadata": {},
     "output_type": "execute_result"
    }
   ],
   "source": [
    "#w2v_model.train(tokens_spacy, total_examples=w2v_model.corpus_count, epochs=30, report_delay=1)\n",
    "w2v_model.train(posts_bigram, total_examples=w2v_model.corpus_count, epochs=30, report_delay=1)"
   ]
  },
  {
   "cell_type": "code",
   "execution_count": 29,
   "metadata": {},
   "outputs": [
    {
     "name": "stderr",
     "output_type": "stream",
     "text": [
      "/var/folders/66/5277wsy51nj0m1lc9jvl8zt80000gn/T/ipykernel_26169/514372312.py:1: DeprecationWarning: Call to deprecated `init_sims` (Gensim 4.0.0 implemented internal optimizations that make calls to init_sims() unnecessary. init_sims() is now obsoleted and will be completely removed in future versions. See https://github.com/RaRe-Technologies/gensim/wiki/Migrating-from-Gensim-3.x-to-4).\n",
      "  w2v_model.init_sims(replace=True)\n"
     ]
    }
   ],
   "source": [
    "w2v_model.init_sims(replace=True)"
   ]
  },
  {
   "attachments": {},
   "cell_type": "markdown",
   "metadata": {},
   "source": [
    "Comportamiento"
   ]
  },
  {
   "cell_type": "code",
   "execution_count": 30,
   "metadata": {},
   "outputs": [
    {
     "name": "stdout",
     "output_type": "stream",
     "text": [
      "cambio_climatico: 0.5347050428390503\n",
      "climatica: 0.49895840883255005\n",
      "temperatura_precipitación: 0.42155885696411133\n",
      "climatologico: 0.4153352379798889\n",
      "condición_meteorologica: 0.404807984828949\n",
      "condición_climatica: 0.39509618282318115\n",
      "comportamiento: 0.3936055898666382\n",
      "naturaleza: 0.3912386894226074\n",
      "ciclo_carbono: 0.3903919458389282\n",
      "circunstancia: 0.385875940322876\n"
     ]
    }
   ],
   "source": [
    "similar_words = w2v_model.wv.most_similar(positive=[\"clima\"])\n",
    "for word, similarity in similar_words:\n",
    "    print(f\"{word}: {similarity}\")"
   ]
  },
  {
   "cell_type": "code",
   "execution_count": 31,
   "metadata": {},
   "outputs": [
    {
     "data": {
      "text/plain": [
       "[('transformacion', 0.6077240705490112),\n",
       " ('cambiar', 0.5558534264564514),\n",
       " ('transformación', 0.5019708871841431),\n",
       " ('modificar', 0.4794425368309021),\n",
       " ('particularmente', 0.4494120478630066),\n",
       " ('modificación', 0.4450826048851013),\n",
       " ('alteración', 0.4435886740684509),\n",
       " ('deterioro', 0.43564119935035706),\n",
       " ('variación', 0.4337443709373474),\n",
       " ('necesariamente', 0.433351993560791)]"
      ]
     },
     "execution_count": 31,
     "metadata": {},
     "output_type": "execute_result"
    }
   ],
   "source": [
    "w2v_model.wv.most_similar(positive=[\"cambio\"])"
   ]
  },
  {
   "cell_type": "code",
   "execution_count": 32,
   "metadata": {},
   "outputs": [
    {
     "data": {
      "text/plain": [
       "[('cambioclimatico', 0.7719975709915161),\n",
       " ('calentamiento_global', 0.5983891487121582),\n",
       " ('clima', 0.5347050428390503),\n",
       " ('climatica', 0.5221997499465942),\n",
       " ('fenomeno', 0.44108206033706665),\n",
       " ('reflexionar', 0.4209432005882263),\n",
       " ('encarar', 0.41589006781578064),\n",
       " ('cambio', 0.41415321826934814),\n",
       " ('profundizar', 0.41114097833633423),\n",
       " ('decisión_politica', 0.41046178340911865)]"
      ]
     },
     "execution_count": 32,
     "metadata": {},
     "output_type": "execute_result"
    }
   ],
   "source": [
    "w2v_model.wv.most_similar(positive=[\"cambio_climatico\"])"
   ]
  },
  {
   "cell_type": "code",
   "execution_count": 33,
   "metadata": {},
   "outputs": [
    {
     "data": {
      "text/plain": [
       "[('medioambiente', 0.7154877185821533),\n",
       " ('medioambiental', 0.46942785382270813),\n",
       " ('entorno_natural', 0.46265825629234314),\n",
       " ('ambiente', 0.4290698170661926),\n",
       " ('calidad_vida', 0.4065619111061096),\n",
       " ('ambiental', 0.4064142107963562),\n",
       " ('emprender_acción', 0.4024587571620941),\n",
       " ('entorno', 0.4014884829521179),\n",
       " ('naturaleza', 0.4005723297595978),\n",
       " ('reciclaje', 0.397108793258667)]"
      ]
     },
     "execution_count": 33,
     "metadata": {},
     "output_type": "execute_result"
    }
   ],
   "source": [
    "w2v_model.wv.most_similar(positive=[\"medio_ambiente\"])"
   ]
  },
  {
   "cell_type": "code",
   "execution_count": 34,
   "metadata": {},
   "outputs": [
    {
     "data": {
      "text/plain": [
       "[('recurso_hidrico', 0.6193224191665649),\n",
       " ('agua_potable', 0.5895324945449829),\n",
       " ('acceso_agua', 0.5795202255249023),\n",
       " ('agua_residual', 0.5491218566894531),\n",
       " ('agua_dulce', 0.5269855260848999),\n",
       " ('acuifero', 0.5223129987716675),\n",
       " ('hidrico', 0.5126234889030457),\n",
       " ('riego', 0.5098890662193298),\n",
       " ('abastecimiento_agua', 0.4878332316875458),\n",
       " ('liquido', 0.4855347275733948)]"
      ]
     },
     "execution_count": 34,
     "metadata": {},
     "output_type": "execute_result"
    }
   ],
   "source": [
    "w2v_model.wv.most_similar(positive=[\"agua\"])"
   ]
  },
  {
   "cell_type": "code",
   "execution_count": 62,
   "metadata": {},
   "outputs": [
    {
     "data": {
      "text/plain": [
       "[('rayo_solar', 0.5888639688491821),\n",
       " ('nublado', 0.5569267868995667),\n",
       " ('viento_solar', 0.5388370752334595),\n",
       " ('rayo_cosmico', 0.5336151123046875),\n",
       " ('rayo_ultravioleta', 0.5336008071899414),\n",
       " ('radiación', 0.5286797285079956),\n",
       " ('sistema_solar', 0.5183166265487671),\n",
       " ('cielo', 0.5181093811988831),\n",
       " ('reflejar_luz', 0.5081741213798523),\n",
       " ('rayo_sol', 0.5006852149963379)]"
      ]
     },
     "execution_count": 62,
     "metadata": {},
     "output_type": "execute_result"
    }
   ],
   "source": [
    "w2v_model.wv.most_similar(positive=[\"sol\"])"
   ]
  },
  {
   "cell_type": "code",
   "execution_count": 63,
   "metadata": {},
   "outputs": [
    {
     "data": {
      "text/plain": [
       "[('desastre_natural', 0.7033116817474365),\n",
       " ('emergencia', 0.6099895238876343),\n",
       " ('catastrof', 0.5781165361404419),\n",
       " ('fenomeno_natural', 0.5563311576843262),\n",
       " ('fenomeno', 0.49932336807250977),\n",
       " ('riesgo_desastre', 0.4950268864631653),\n",
       " ('catastrofe', 0.48868173360824585),\n",
       " ('eventualidad', 0.4710637331008911),\n",
       " ('conflicto', 0.46438413858413696),\n",
       " ('tragedia', 0.4630472660064697)]"
      ]
     },
     "execution_count": 63,
     "metadata": {},
     "output_type": "execute_result"
    }
   ],
   "source": [
    "w2v_model.wv.most_similar(positive=[\"desastre\"])"
   ]
  },
  {
   "cell_type": "code",
   "execution_count": 64,
   "metadata": {},
   "outputs": [
    {
     "data": {
      "text/plain": [
       "[('desastre', 0.7033116817474365),\n",
       " ('fenomeno_natural', 0.6497277021408081),\n",
       " ('catastrof', 0.6270614862442017),\n",
       " ('inundación', 0.5773576498031616),\n",
       " ('catastrof_natural', 0.5525789260864258),\n",
       " ('crisis_humanitario', 0.5155125856399536),\n",
       " ('emergencia', 0.5101634860038757),\n",
       " ('fenomeno', 0.5077108144760132),\n",
       " ('nino_costero', 0.5011577606201172),\n",
       " ('conflicto', 0.4995437264442444)]"
      ]
     },
     "execution_count": 64,
     "metadata": {},
     "output_type": "execute_result"
    }
   ],
   "source": [
    "w2v_model.wv.most_similar(positive=[\"desastre_natural\"])"
   ]
  },
  {
   "cell_type": "code",
   "execution_count": 67,
   "metadata": {},
   "outputs": [
    {
     "data": {
      "text/plain": [
       "[('aumento', 0.8202396035194397),\n",
       " ('reduccion', 0.6889961957931519),\n",
       " ('disminucion', 0.6676748991012573),\n",
       " ('aumentar', 0.6547716856002808),\n",
       " ('incrementar', 0.6412397623062134),\n",
       " ('considerable', 0.6230576634407043),\n",
       " ('descenso', 0.5843696594238281),\n",
       " ('disminuir', 0.5537590980529785),\n",
       " ('caida', 0.5518977642059326),\n",
       " ('menor', 0.5125511884689331)]"
      ]
     },
     "execution_count": 67,
     "metadata": {},
     "output_type": "execute_result"
    }
   ],
   "source": [
    "w2v_model.wv.most_similar(positive=[\"incremento\"])"
   ]
  },
  {
   "cell_type": "code",
   "execution_count": 68,
   "metadata": {},
   "outputs": [
    {
     "data": {
      "text/plain": [
       "[('aumento_temperatura', 0.7176344394683838),\n",
       " ('temperatura_promedio', 0.7103767991065979),\n",
       " ('registrar_temperatura', 0.6971215009689331),\n",
       " ('alto_temperatura', 0.648833155632019),\n",
       " ('incremento_temperatura', 0.6227234601974487),\n",
       " ('subida_temperatura', 0.6221796870231628),\n",
       " ('registro_temperatura', 0.6107968688011169),\n",
       " ('2degc', 0.6062344908714294),\n",
       " ('bajar_temperatura', 0.5995017290115356),\n",
       " ('temperatura_maxima', 0.5886571407318115)]"
      ]
     },
     "execution_count": 68,
     "metadata": {},
     "output_type": "execute_result"
    }
   ],
   "source": [
    "w2v_model.wv.most_similar(positive=[\"temperatura\"])"
   ]
  },
  {
   "attachments": {},
   "cell_type": "markdown",
   "metadata": {},
   "source": [
    "Similitud entre 2 tokens:"
   ]
  },
  {
   "cell_type": "code",
   "execution_count": 70,
   "metadata": {},
   "outputs": [
    {
     "data": {
      "text/plain": [
       "0.5550937"
      ]
     },
     "execution_count": 70,
     "metadata": {},
     "output_type": "execute_result"
    }
   ],
   "source": [
    "w2v_model.wv.similarity(\"aumento_temperatura\", \"bajar_temperatura\")"
   ]
  },
  {
   "attachments": {},
   "cell_type": "markdown",
   "metadata": {},
   "source": [
    "## Skip Gram"
   ]
  },
  {
   "cell_type": "code",
   "execution_count": 35,
   "metadata": {},
   "outputs": [
    {
     "name": "stderr",
     "output_type": "stream",
     "text": [
      "/var/folders/66/5277wsy51nj0m1lc9jvl8zt80000gn/T/ipykernel_26169/522104665.py:22: DeprecationWarning: Call to deprecated `init_sims` (Gensim 4.0.0 implemented internal optimizations that make calls to init_sims() unnecessary. init_sims() is now obsoleted and will be completely removed in future versions. See https://github.com/RaRe-Technologies/gensim/wiki/Migrating-from-Gensim-3.x-to-4).\n",
      "  w2v_model_sg.init_sims(replace=True)\n"
     ]
    }
   ],
   "source": [
    "w2v_model_sg = Word2Vec(\n",
    "    #min_count=20,\n",
    "    #window=2,\n",
    "    #sample=6e-5, \n",
    "    #alpha=0.03, \n",
    "    #min_alpha=0.0007, \n",
    "    #negative=20,\n",
    "    #vector_size=100\n",
    "    workers=cores-1,\n",
    "    sg=1, # 0: CBOW, 1:SkipGram (SG)\n",
    ")\n",
    "w2v_model_sg.build_vocab(\n",
    "    posts_bigram, \n",
    "    progress_per=10000\n",
    ")\n",
    "w2v_model_sg.train(\n",
    "    posts_bigram, \n",
    "    total_examples=w2v_model_sg.corpus_count, \n",
    "    epochs=30, \n",
    "    report_delay=1\n",
    ")\n",
    "w2v_model_sg.init_sims(replace=True)"
   ]
  },
  {
   "cell_type": "code",
   "execution_count": 36,
   "metadata": {},
   "outputs": [
    {
     "name": "stdout",
     "output_type": "stream",
     "text": [
      "global_harvard: 0.602118730545044\n",
      "actividad_astro: 0.5998228192329407\n",
      "fluctuación_actividad: 0.5980889797210693\n",
      "cientifico_alterar: 0.5762057304382324\n",
      "efecto_perceptible: 0.5648094415664673\n",
      "territorio_regar: 0.5635203123092651\n",
      "nube_nube: 0.5611312985420227\n",
      "papel_decisivo: 0.5520484447479248\n",
      "climatica: 0.546535313129425\n",
      "patrón_circulacion: 0.5337626934051514\n"
     ]
    }
   ],
   "source": [
    "similar_words = w2v_model_sg.wv.most_similar(positive=[\"clima\"])\n",
    "for word, similarity in similar_words:\n",
    "    print(f\"{word}: {similarity}\")"
   ]
  },
  {
   "cell_type": "code",
   "execution_count": 37,
   "metadata": {},
   "outputs": [
    {
     "data": {
      "text/plain": [
       "[('occidental_dieta', 0.6336351633071899),\n",
       " ('vegetarián_prescindir', 0.6200196743011475),\n",
       " ('infancia_lleno', 0.6050166487693787),\n",
       " ('generacion_jugar', 0.5865941643714905),\n",
       " ('escondite_generacion', 0.580111026763916),\n",
       " ('hario_falta', 0.5726214647293091),\n",
       " ('drastico', 0.5713417530059814),\n",
       " ('especial_denominar', 0.5639069080352783),\n",
       " ('calle_recreo', 0.563795268535614),\n",
       " ('jugo_videojuego', 0.5626401901245117)]"
      ]
     },
     "execution_count": 37,
     "metadata": {},
     "output_type": "execute_result"
    }
   ],
   "source": [
    "w2v_model_sg.wv.most_similar(positive=[\"cambio\"])"
   ]
  },
  {
   "cell_type": "code",
   "execution_count": 38,
   "metadata": {},
   "outputs": [
    {
     "data": {
      "text/plain": [
       "[('cambioclimatico', 0.7968380451202393),\n",
       " ('calentamiento_global', 0.6060017943382263),\n",
       " ('futuroverdeorg', 0.5954616069793701),\n",
       " ('informatm', 0.5839451551437378),\n",
       " ('lograr_retratar', 0.5832551717758179),\n",
       " ('calentamientoglobal', 0.5743085741996765),\n",
       " ('cubano_analizar', 0.5689442157745361),\n",
       " ('congresodistrital', 0.5623233318328857),\n",
       " ('aaflatam', 0.5585535764694214),\n",
       " ('imagen_sostener', 0.555573046207428)]"
      ]
     },
     "execution_count": 38,
     "metadata": {},
     "output_type": "execute_result"
    }
   ],
   "source": [
    "w2v_model_sg.wv.most_similar(positive=[\"cambio_climatico\"])"
   ]
  },
  {
   "cell_type": "code",
   "execution_count": 39,
   "metadata": {},
   "outputs": [
    {
     "data": {
      "text/plain": [
       "[('medioambiente', 0.6457566618919373),\n",
       " ('ambiente', 0.5568712949752808),\n",
       " ('persona_naturaleza', 0.5543252825737),\n",
       " ('tema_servir', 0.5492894649505615),\n",
       " ('conlanaturaleza_diamundialdelmedioambiente', 0.5333566665649414),\n",
       " ('protejir', 0.5330291986465454),\n",
       " ('delgado_secretario', 0.5315282940864563),\n",
       " ('coordinacion_secretaria', 0.5297991037368774),\n",
       " ('reciclaje_salir', 0.5288704037666321),\n",
       " ('semarnat_yucatan', 0.5288558006286621)]"
      ]
     },
     "execution_count": 39,
     "metadata": {},
     "output_type": "execute_result"
    }
   ],
   "source": [
    "w2v_model_sg.wv.most_similar(positive=[\"medio_ambiente\"])"
   ]
  },
  {
   "cell_type": "code",
   "execution_count": 40,
   "metadata": {},
   "outputs": [
    {
     "data": {
      "text/plain": [
       "[('hidrico', 0.6243798732757568),\n",
       " ('recurso_hidrico', 0.6208667159080505),\n",
       " ('agua_potable', 0.6075408458709717),\n",
       " ('rio', 0.5992035269737244),\n",
       " ('agua_residual', 0.597023606300354),\n",
       " ('saneamiento', 0.5958572626113892),\n",
       " ('trailer_historia', 0.5921167731285095),\n",
       " ('agua_dulce', 0.5899105668067932),\n",
       " ('contar_encontro', 0.57784104347229),\n",
       " ('manto_freatico', 0.5776996612548828)]"
      ]
     },
     "execution_count": 40,
     "metadata": {},
     "output_type": "execute_result"
    }
   ],
   "source": [
    "w2v_model_sg.wv.most_similar(positive=[\"agua\"])"
   ]
  },
  {
   "attachments": {},
   "cell_type": "markdown",
   "metadata": {},
   "source": [
    "# T-SNE"
   ]
  },
  {
   "cell_type": "code",
   "execution_count": 44,
   "metadata": {},
   "outputs": [],
   "source": [
    "import matplotlib.pyplot as plt\n",
    "import numpy as np\n",
    "from sklearn.manifold import TSNE"
   ]
  },
  {
   "cell_type": "code",
   "execution_count": 60,
   "metadata": {},
   "outputs": [
    {
     "name": "stdout",
     "output_type": "stream",
     "text": [
      "Numero de palabras 16\n"
     ]
    }
   ],
   "source": [
    "words = [\"agua\", \"clima\", \"medio_ambiente\", \"paris\", \"cambio_climatico\", \"falta\", \"nube\", \"peligro\", \"recurso\", \"acuerdo\", \"america\", \"unido\", \"ley\", \"temperatura\", \"frio\", \"calor\"]\n",
    "print(f\"Numero de palabras {len(words)}\")\n",
    "word_vectors = [w2v_model_sg.wv[word] for word in words]\n",
    "word_vectors = np.array(word_vectors)"
   ]
  },
  {
   "cell_type": "code",
   "execution_count": 61,
   "metadata": {},
   "outputs": [
    {
     "data": {
      "image/png": "[encoded data removed]",
      "text/plain": [
       "<Figure size 1000x600 with 1 Axes>"
      ]
     },
     "metadata": {},
     "output_type": "display_data"
    }
   ],
   "source": [
    "tsne_model = TSNE(n_components=2, random_state=42, perplexity=10)\n",
    "tsne_vectors = tsne_model.fit_transform(word_vectors)\n",
    "\n",
    "plt.figure(figsize=(10, 6))\n",
    "for i, word in enumerate(words):\n",
    "    plt.scatter(tsne_vectors[i, 0], tsne_vectors[i, 1])\n",
    "    plt.annotate(word, xy=(tsne_vectors[i, 0], tsne_vectors[i, 1]), xytext=(5, 2), textcoords='offset points', ha='right', va='bottom')\n",
    "\n",
    "plt.title('t-SNE Visualization of Word Vectors')\n",
    "plt.xlabel('t-SNE Dimension 1')\n",
    "plt.ylabel('t-SNE Dimension 2')\n",
    "plt.show()"
   ]
  },
  {
   "cell_type": "code",
   "execution_count": null,
   "metadata": {},
   "outputs": [],
   "source": []
  },
  {
   "cell_type": "code",
   "execution_count": null,
   "metadata": {},
   "outputs": [],
   "source": []
  }
 ],
 "metadata": {
  "kernelspec": {
   "display_name": "env_nanook",
   "language": "python",
   "name": "python3"
  },
  "language_info": {
   "codemirror_mode": {
    "name": "ipython",
    "version": 3
   },
   "file_extension": ".py",
   "mimetype": "text/x-python",
   "name": "python",
   "nbconvert_exporter": "python",
   "pygments_lexer": "ipython3",
   "version": "3.11.8"
  },
  "orig_nbformat": 4
 },
 "nbformat": 4,
 "nbformat_minor": 2
}
