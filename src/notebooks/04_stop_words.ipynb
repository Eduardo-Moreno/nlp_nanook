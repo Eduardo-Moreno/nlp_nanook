{
 "cells": [
  {
   "cell_type": "code",
   "execution_count": null,
   "metadata": {},
   "outputs": [],
   "source": [
    "import pandas as pd\n",
    "import sys\n",
    "sys.path.insert(0, '/Users/eduardomorenoortiz/Desktop/ITAM/nanook/nlp_nanook/src/') # LOCAL\n",
    "from utils.utils import remove_stop_words_from_dataframe"
   ]
  },
  {
   "attachments": {},
   "cell_type": "markdown",
   "metadata": {},
   "source": [
    "# Read and preprocess data"
   ]
  },
  {
   "cell_type": "code",
   "execution_count": null,
   "metadata": {},
   "outputs": [],
   "source": [
    "df_stemm_lemm = pd.read_pickle('/Users/eduardomorenoortiz/Desktop/ITAM/nanook/nlp_nanook/data/preprocessed/stemm_lemm_text_nanook.pkl')"
   ]
  },
  {
   "cell_type": "code",
   "execution_count": null,
   "metadata": {},
   "outputs": [],
   "source": [
    "df_select = df_stemm_lemm[\n",
    "    [\n",
    "        'Facebook Id', 'Post Created', \n",
    "        'Total Interactions', 'Likes', 'Comments', 'Shares', 'Love', 'Wow', 'Haha', 'Sad', 'Angry', 'Care', \n",
    "        'Message', 'Message_clean', 'Message_clean_stemm', 'Message_clean_lemm',\n",
    "        ]\n",
    "    ]\n",
    "df_select.head(1)"
   ]
  },
  {
   "attachments": {},
   "cell_type": "markdown",
   "metadata": {},
   "source": [
    "Remove stop words from messages"
   ]
  },
  {
   "cell_type": "code",
   "execution_count": null,
   "metadata": {},
   "outputs": [],
   "source": [
    "df_clean = remove_stop_words_from_dataframe(\n",
    "    df=df_select, \n",
    "    columns=[\"Message\", \"Message_clean\", \"Message_clean_stemm\", \"Message_clean_lemm\"], \n",
    "    stop_words_file=\"../utils/spanish_stopwords.txt\"\n",
    "    )"
   ]
  },
  {
   "cell_type": "code",
   "execution_count": null,
   "metadata": {},
   "outputs": [],
   "source": [
    "df_clean[\n",
    "    [\n",
    "        'Message_clean', 'Message_clean_stpWrd',\n",
    "        'Message_clean_stemm', 'Message_clean_stemm_stpWrd',\n",
    "        'Message_clean_lemm', 'Message_clean_lemm_stpWrd'\n",
    "        ]].head(1)"
   ]
  },
  {
   "attachments": {},
   "cell_type": "markdown",
   "metadata": {},
   "source": [
    "Save final dataframe"
   ]
  },
  {
   "cell_type": "code",
   "execution_count": null,
   "metadata": {},
   "outputs": [],
   "source": [
    "df_clean[['Facebook Id', 'Post Created', 'Total Interactions', 'Likes',\n",
    "       'Comments', 'Shares', 'Love', 'Wow', 'Haha', 'Sad', 'Angry', 'Care',\n",
    "       'Message_stpWrd', 'Message_clean_stpWrd', 'Message_clean_stemm_stpWrd',\n",
    "       'Message_clean_lemm_stpWrd']].to_pickle(\"../../data/preprocessed/stemm_lemm_stop_words.pkl\")"
   ]
  },
  {
   "cell_type": "code",
   "execution_count": null,
   "metadata": {},
   "outputs": [],
   "source": []
  }
 ],
 "metadata": {
  "kernelspec": {
   "display_name": "env_nanook",
   "language": "python",
   "name": "python3"
  },
  "language_info": {
   "codemirror_mode": {
    "name": "ipython",
    "version": 3
   },
   "file_extension": ".py",
   "mimetype": "text/x-python",
   "name": "python",
   "nbconvert_exporter": "python",
   "pygments_lexer": "ipython3",
   "version": "3.11.8"
  },
  "orig_nbformat": 4
 },
 "nbformat": 4,
 "nbformat_minor": 2
}
