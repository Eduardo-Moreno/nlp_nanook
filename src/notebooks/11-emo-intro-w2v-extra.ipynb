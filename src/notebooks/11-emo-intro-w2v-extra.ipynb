{
 "cells": [
  {
   "attachments": {},
   "cell_type": "markdown",
   "metadata": {},
   "source": [
    "# Load data"
   ]
  },
  {
   "cell_type": "code",
   "execution_count": 1,
   "metadata": {},
   "outputs": [],
   "source": [
    "import pandas as pd"
   ]
  },
  {
   "cell_type": "code",
   "execution_count": 2,
   "metadata": {},
   "outputs": [],
   "source": [
    "df = pd.read_pickle(\"../../data/preprocessed/stemm_lemm_stop_words.pkl\")"
   ]
  },
  {
   "cell_type": "code",
   "execution_count": 3,
   "metadata": {},
   "outputs": [
    {
     "data": {
      "text/plain": [
       "Index(['Facebook Id', 'Post Created', 'Total Interactions', 'Likes',\n",
       "       'Comments', 'Shares', 'Love', 'Wow', 'Haha', 'Sad', 'Angry', 'Care',\n",
       "       'Message_stpWrd', 'Message_clean_stpWrd', 'Message_clean_stemm_stpWrd',\n",
       "       'Message_clean_lemm_stpWrd'],\n",
       "      dtype='object')"
      ]
     },
     "execution_count": 3,
     "metadata": {},
     "output_type": "execute_result"
    }
   ],
   "source": [
    "df.columns"
   ]
  },
  {
   "attachments": {},
   "cell_type": "markdown",
   "metadata": {},
   "source": [
    "En este notebook analizaremos siguientes variables:\n",
    "- `Message_stpWrd`\n",
    "- `Message_clean_stpWrd`\n",
    "- `Message_clean_stemm_stpWrd`\n",
    "- `Message_clean_lemm_stpWrd`\n",
    "\n",
    "Específicamente: `Message_clean_lemm_stpWrd`"
   ]
  },
  {
   "cell_type": "code",
   "execution_count": 4,
   "metadata": {},
   "outputs": [
    {
     "data": {
      "text/html": [
       "<div>\n",
       "<style scoped>\n",
       "    .dataframe tbody tr th:only-of-type {\n",
       "        vertical-align: middle;\n",
       "    }\n",
       "\n",
       "    .dataframe tbody tr th {\n",
       "        vertical-align: top;\n",
       "    }\n",
       "\n",
       "    .dataframe thead th {\n",
       "        text-align: right;\n",
       "    }\n",
       "</style>\n",
       "<table border=\"1\" class=\"dataframe\">\n",
       "  <thead>\n",
       "    <tr style=\"text-align: right;\">\n",
       "      <th></th>\n",
       "      <th>Message_stpWrd</th>\n",
       "      <th>Message_clean_stpWrd</th>\n",
       "      <th>Message_clean_stemm_stpWrd</th>\n",
       "      <th>Message_clean_lemm_stpWrd</th>\n",
       "    </tr>\n",
       "  </thead>\n",
       "  <tbody>\n",
       "    <tr>\n",
       "      <th>0</th>\n",
       "      <td>Mitigar cambio climático pies tierra. http://r...</td>\n",
       "      <td>mitigar cambio climatico pies tierra</td>\n",
       "      <td>mitig cambi climat pies tierr</td>\n",
       "      <td>mitigar cambio climatico pie tierra</td>\n",
       "    </tr>\n",
       "    <tr>\n",
       "      <th>1</th>\n",
       "      <td>#México 🇲🇽 | Ciudad México urbe Latinoamérica ...</td>\n",
       "      <td>mexico ciudad mexico urbe latinoamerica busca ...</td>\n",
       "      <td>mexic ciud mexic urbe latinoamer busc siguient...</td>\n",
       "      <td>mexico ciudad mexico urbe latinoamerica buscar...</td>\n",
       "    </tr>\n",
       "    <tr>\n",
       "      <th>2</th>\n",
       "      <td>2018 comienza deseo corazón hagan disfruten, p...</td>\n",
       "      <td>2018 comienza deseo corazon hagan disfruten ma...</td>\n",
       "      <td>par 2018 comienz dese corazon hag tod disfrut ...</td>\n",
       "      <td>2018 comenzar desear corazon disfrutar mas aun...</td>\n",
       "    </tr>\n",
       "    <tr>\n",
       "      <th>3</th>\n",
       "      <td>ONU lanza alerta roja 2018 armas nucleares, vi...</td>\n",
       "      <td>onu lanza alerta roja 2018 armas nucleares vio...</td>\n",
       "      <td>onu lanz alert roj par 2018 armas nuclear viol...</td>\n",
       "      <td>onu lanzar alerta rojo 2018 arma nuclear viola...</td>\n",
       "    </tr>\n",
       "    <tr>\n",
       "      <th>4</th>\n",
       "      <td>Novedoso proyecto busca instalar paneles solar...</td>\n",
       "      <td>novedoso proyecto busca instalar paneles solar...</td>\n",
       "      <td>noved proyect busc instal panel solar lun par ...</td>\n",
       "      <td>novedoso proyecto buscar instalar panel solar ...</td>\n",
       "    </tr>\n",
       "  </tbody>\n",
       "</table>\n",
       "</div>"
      ],
      "text/plain": [
       "                                      Message_stpWrd  \\\n",
       "0  Mitigar cambio climático pies tierra. http://r...   \n",
       "1  #México 🇲🇽 | Ciudad México urbe Latinoamérica ...   \n",
       "2  2018 comienza deseo corazón hagan disfruten, p...   \n",
       "3  ONU lanza alerta roja 2018 armas nucleares, vi...   \n",
       "4  Novedoso proyecto busca instalar paneles solar...   \n",
       "\n",
       "                                Message_clean_stpWrd  \\\n",
       "0               mitigar cambio climatico pies tierra   \n",
       "1  mexico ciudad mexico urbe latinoamerica busca ...   \n",
       "2  2018 comienza deseo corazon hagan disfruten ma...   \n",
       "3  onu lanza alerta roja 2018 armas nucleares vio...   \n",
       "4  novedoso proyecto busca instalar paneles solar...   \n",
       "\n",
       "                          Message_clean_stemm_stpWrd  \\\n",
       "0                      mitig cambi climat pies tierr   \n",
       "1  mexic ciud mexic urbe latinoamer busc siguient...   \n",
       "2  par 2018 comienz dese corazon hag tod disfrut ...   \n",
       "3  onu lanz alert roj par 2018 armas nuclear viol...   \n",
       "4  noved proyect busc instal panel solar lun par ...   \n",
       "\n",
       "                           Message_clean_lemm_stpWrd  \n",
       "0                mitigar cambio climatico pie tierra  \n",
       "1  mexico ciudad mexico urbe latinoamerica buscar...  \n",
       "2  2018 comenzar desear corazon disfrutar mas aun...  \n",
       "3  onu lanzar alerta rojo 2018 arma nuclear viola...  \n",
       "4  novedoso proyecto buscar instalar panel solar ...  "
      ]
     },
     "execution_count": 4,
     "metadata": {},
     "output_type": "execute_result"
    }
   ],
   "source": [
    "df[['Message_stpWrd', 'Message_clean_stpWrd', \n",
    "    'Message_clean_stemm_stpWrd', 'Message_clean_lemm_stpWrd']].head()"
   ]
  },
  {
   "cell_type": "code",
   "execution_count": 5,
   "metadata": {},
   "outputs": [
    {
     "data": {
      "text/plain": [
       "(87422, 16)"
      ]
     },
     "execution_count": 5,
     "metadata": {},
     "output_type": "execute_result"
    }
   ],
   "source": [
    "df.shape"
   ]
  },
  {
   "cell_type": "code",
   "execution_count": 6,
   "metadata": {},
   "outputs": [
    {
     "data": {
      "text/plain": [
       "['mitigar cambio climatico pie tierra',\n",
       " 'mexico ciudad mexico urbe latinoamerica buscar generacion mujer lider',\n",
       " '2018 comenzar desear corazon disfrutar mas aun disfrutar repartir amor humano comunidad vivo terrible calentamiento global aun mas serio calentamiento social violencia odio muerte exclusión anular mas denso amorosfera energia amor presente actuante continuo expansion solidaridad amor universal presente esperanza 2018 carino victor quintana',\n",
       " 'onu lanzar alerta rojo 2018 arma nuclear violacion dh cambio climatico unidad camino insistio secretario futuro depender',\n",
       " 'novedoso proyecto buscar instalar panel solar luna abastecer energia planeta tierra']"
      ]
     },
     "execution_count": 6,
     "metadata": {},
     "output_type": "execute_result"
    }
   ],
   "source": [
    "facebook_post_clean = df['Message_clean_lemm_stpWrd'].values.tolist()\n",
    "facebook_post_clean[:5]"
   ]
  },
  {
   "attachments": {},
   "cell_type": "markdown",
   "metadata": {},
   "source": [
    "# Preprocess data: Tokenize by lemmatize text"
   ]
  },
  {
   "cell_type": "code",
   "execution_count": 7,
   "metadata": {},
   "outputs": [],
   "source": [
    "from tqdm import tqdm"
   ]
  },
  {
   "attachments": {},
   "cell_type": "markdown",
   "metadata": {},
   "source": [
    "A continuación se van a crear los mensajes tokenizados. En este proyecto un token representa una **palabra**."
   ]
  },
  {
   "cell_type": "code",
   "execution_count": 8,
   "metadata": {},
   "outputs": [
    {
     "name": "stdout",
     "output_type": "stream",
     "text": [
      "CPU times: user 6 µs, sys: 2 µs, total: 8 µs\n",
      "Wall time: 16.9 µs\n"
     ]
    },
    {
     "name": "stderr",
     "output_type": "stream",
     "text": [
      "100%|██████████| 87422/87422 [00:02<00:00, 42757.63it/s]\n"
     ]
    }
   ],
   "source": [
    "%time\n",
    "tokens_spacy = []\n",
    "for post in tqdm(facebook_post_clean):\n",
    "    token_i = [token for token in post.split(' ')]\n",
    "    tokens_spacy.append(token_i)"
   ]
  },
  {
   "cell_type": "code",
   "execution_count": 9,
   "metadata": {},
   "outputs": [
    {
     "name": "stdout",
     "output_type": "stream",
     "text": [
      "CPU times: user 7 µs, sys: 1 µs, total: 8 µs\n",
      "Wall time: 18.1 µs\n"
     ]
    },
    {
     "name": "stderr",
     "output_type": "stream",
     "text": [
      "100%|██████████| 87422/87422 [00:03<00:00, 22320.31it/s]\n"
     ]
    }
   ],
   "source": [
    "%time\n",
    "facebook_posts = []\n",
    "for post in tqdm(facebook_post_clean):\n",
    "    token_i = [token for token in post]\n",
    "    facebook_posts.append(token_i)"
   ]
  },
  {
   "attachments": {},
   "cell_type": "markdown",
   "metadata": {},
   "source": [
    "Así se ven los post procesados como tokens:"
   ]
  },
  {
   "cell_type": "code",
   "execution_count": 10,
   "metadata": {},
   "outputs": [
    {
     "name": "stdout",
     "output_type": "stream",
     "text": [
      "['mitigar', 'cambio', 'climatico', 'pie', 'tierra']\n",
      "['mexico', 'ciudad', 'mexico', 'urbe', 'latinoamerica', 'buscar', 'generacion', 'mujer', 'lider']\n",
      "['2018', 'comenzar', 'desear', 'corazon', 'disfrutar', 'mas', 'aun', 'disfrutar', 'repartir', 'amor', 'humano', 'comunidad', 'vivo', 'terrible', 'calentamiento', 'global', 'aun', 'mas', 'serio', 'calentamiento', 'social', 'violencia', 'odio', 'muerte', 'exclusión', 'anular', 'mas', 'denso', 'amorosfera', 'energia', 'amor', 'presente', 'actuante', 'continuo', 'expansion', 'solidaridad', 'amor', 'universal', 'presente', 'esperanza', '2018', 'carino', 'victor', 'quintana']\n",
      "['onu', 'lanzar', 'alerta', 'rojo', '2018', 'arma', 'nuclear', 'violacion', 'dh', 'cambio', 'climatico', 'unidad', 'camino', 'insistio', 'secretario', 'futuro', 'depender']\n",
      "['novedoso', 'proyecto', 'buscar', 'instalar', 'panel', 'solar', 'luna', 'abastecer', 'energia', 'planeta', 'tierra']\n"
     ]
    }
   ],
   "source": [
    "for i in tokens_spacy[:5]:\n",
    "    print(i)"
   ]
  },
  {
   "cell_type": "code",
   "execution_count": 11,
   "metadata": {},
   "outputs": [
    {
     "name": "stdout",
     "output_type": "stream",
     "text": [
      "Hay un total de 87422 mensajes.\n"
     ]
    }
   ],
   "source": [
    "print(f\"Hay un total de {len(tokens_spacy)} mensajes.\")"
   ]
  },
  {
   "attachments": {},
   "cell_type": "markdown",
   "metadata": {},
   "source": [
    "# Phrase Modelling (N-gram)"
   ]
  },
  {
   "cell_type": "code",
   "execution_count": 12,
   "metadata": {},
   "outputs": [],
   "source": [
    "import gensim\n",
    "from collections import Counter"
   ]
  },
  {
   "attachments": {},
   "cell_type": "markdown",
   "metadata": {},
   "source": [
    "## Bigrams"
   ]
  },
  {
   "attachments": {},
   "cell_type": "markdown",
   "metadata": {},
   "source": [
    "Creación del modelo para obtener bigramas (*phrase models*)"
   ]
  },
  {
   "cell_type": "code",
   "execution_count": 13,
   "metadata": {},
   "outputs": [],
   "source": [
    "bigram = gensim.models.Phrases(tokens_spacy)"
   ]
  },
  {
   "cell_type": "code",
   "execution_count": 14,
   "metadata": {},
   "outputs": [],
   "source": [
    "phrases = gensim.models.Phrases(tokens_spacy, progress_per=10000)"
   ]
  },
  {
   "cell_type": "code",
   "execution_count": 15,
   "metadata": {},
   "outputs": [],
   "source": [
    "bigram = phrases"
   ]
  },
  {
   "cell_type": "code",
   "execution_count": 16,
   "metadata": {},
   "outputs": [],
   "source": [
    "sentences = bigram[tokens_spacy]"
   ]
  },
  {
   "cell_type": "code",
   "execution_count": 17,
   "metadata": {},
   "outputs": [],
   "source": [
    "posts_bigram = bigram[tokens_spacy]"
   ]
  },
  {
   "attachments": {},
   "cell_type": "markdown",
   "metadata": {},
   "source": [
    "Ahora, procesemos todos los posts utilizando el modelo `bigram`"
   ]
  },
  {
   "cell_type": "code",
   "execution_count": 18,
   "metadata": {},
   "outputs": [],
   "source": [
    "tokens_bigram = [item for sublist in tokens_spacy for item in bigram[sublist]]\n",
    "corpus_post_model_bigram = Counter(tokens_bigram)"
   ]
  },
  {
   "attachments": {},
   "cell_type": "markdown",
   "metadata": {},
   "source": [
    "# Word2Vec"
   ]
  },
  {
   "cell_type": "code",
   "execution_count": 19,
   "metadata": {},
   "outputs": [],
   "source": [
    "words = [\n",
    "    'mitigar', #topic 0\n",
    "    'barack_obama', 'trump', #topic 1\n",
    "    'cientifico', #topic 2\n",
    "    'medio_ambiente', 'proyecto', #topic 3\n",
    "    'presidente', 'casa_blanca', #topic 4\n",
    "    'carbono', 'co2', 'cambioclimatico', #topic 5\n",
    "    'planeta', 'vida', 'querer', #topic 6\n",
    "    'agua', 'gobierno', 'importante', #topic 7\n",
    "    'riesgo', 'efecto', 'donald_trump', #topic 8\n",
    "    'animal', 'especie', 'suelo', 'energia_renovable', #topic 9\n",
    "]"
   ]
  },
  {
   "attachments": {},
   "cell_type": "markdown",
   "metadata": {},
   "source": [
    "## CBOW"
   ]
  },
  {
   "cell_type": "code",
   "execution_count": 20,
   "metadata": {},
   "outputs": [],
   "source": [
    "import multiprocessing\n",
    "from gensim.models import Word2Vec, KeyedVectors"
   ]
  },
  {
   "cell_type": "code",
   "execution_count": 21,
   "metadata": {},
   "outputs": [],
   "source": [
    "cores = multiprocessing.cpu_count()"
   ]
  },
  {
   "attachments": {},
   "cell_type": "markdown",
   "metadata": {},
   "source": [
    "Definir el modelo"
   ]
  },
  {
   "cell_type": "code",
   "execution_count": 22,
   "metadata": {},
   "outputs": [],
   "source": [
    "w2v_model = Word2Vec(\n",
    "    #min_count=20,\n",
    "    #window=2,\n",
    "    #sample=6e-5, \n",
    "    #alpha=0.03, \n",
    "    #min_alpha=0.0007, \n",
    "    #negative=20,\n",
    "    #vector_size=100\n",
    "    workers=cores-1,\n",
    "    sg=0,\n",
    ")"
   ]
  },
  {
   "attachments": {},
   "cell_type": "markdown",
   "metadata": {},
   "source": [
    "Construir el vocabulario"
   ]
  },
  {
   "cell_type": "code",
   "execution_count": 23,
   "metadata": {},
   "outputs": [],
   "source": [
    "w2v_model.build_vocab(posts_bigram, progress_per=10000)"
   ]
  },
  {
   "attachments": {},
   "cell_type": "markdown",
   "metadata": {},
   "source": [
    "Entrenar / cargar el modelo"
   ]
  },
  {
   "cell_type": "code",
   "execution_count": 24,
   "metadata": {},
   "outputs": [],
   "source": [
    "w2v_model.train(posts_bigram, total_examples=w2v_model.corpus_count, epochs=30, report_delay=1)\n",
    "w2v_model.wv.save('../models/w2v/w2v_cbow.kvmodel')"
   ]
  },
  {
   "attachments": {},
   "cell_type": "markdown",
   "metadata": {},
   "source": [
    "Comportamiento"
   ]
  },
  {
   "cell_type": "code",
   "execution_count": 25,
   "metadata": {},
   "outputs": [
    {
     "name": "stdout",
     "output_type": "stream",
     "text": [
      "- mitigar:\n",
      "\tmitigar_efecto: 0.6568158268928528\n",
      "\tmitigar_impacto: 0.6295522451400757\n",
      "\tcontrarrestar: 0.610122561454773\n",
      "\tminimizar_efecto: 0.6071274876594543\n",
      "\tmitigacion: 0.5926177501678467\n",
      "- barack_obama:\n",
      "\tobama: 0.7298752069473267\n",
      "\tantecesor: 0.6749399900436401\n",
      "\tpresidente_estadounidense: 0.6000673174858093\n",
      "\tdonaldtrump: 0.5974111557006836\n",
      "\torden_ejecutivo: 0.5962004065513611\n",
      "- trump:\n",
      "\tdonald_trump: 0.769063413143158\n",
      "\tadministracion_trump: 0.7217692136764526\n",
      "\tobama: 0.6417081952095032\n",
      "\tcasa_blanco: 0.6226320266723633\n",
      "\tmagnate: 0.6208598613739014\n",
      "- cientifico:\n",
      "\tinvestigador: 0.6852579116821289\n",
      "\texperto: 0.5383902192115784\n",
      "\tcientifica: 0.5215190649032593\n",
      "\tciencia: 0.5014263987541199\n",
      "\tinvestigación: 0.5002416968345642\n",
      "- medio_ambiente:\n",
      "\tmedioambiente: 0.6713836193084717\n",
      "\tentorno_natural: 0.4529058039188385\n",
      "\tmedioambiental: 0.44681960344314575\n",
      "\tcalidad_vida: 0.41898173093795776\n",
      "\tambiente: 0.4088831841945648\n",
      "- proyecto:\n",
      "\tiniciativa: 0.5750144720077515\n",
      "\tproyecto_piloto: 0.5646990537643433\n",
      "\tpropuesta: 0.5413175225257874\n",
      "\tejecucion_proyecto: 0.536702573299408\n",
      "\temprendimiento: 0.5195650458335876\n",
      "- presidente:\n",
      "\texpresidente: 0.5152902603149414\n",
      "\tvicepresidente: 0.49926328659057617\n",
      "\tpresidente_consejo: 0.46384507417678833\n",
      "\tpresidencia: 0.4608556926250458\n",
      "\tpresidenta: 0.4479339122772217\n",
      "- casa_blanca:\n",
      "\tbannon: 0.7658871412277222\n",
      "\testratega_jefe: 0.7181209325790405\n",
      "\ttillerson: 0.6984922885894775\n",
      "\tcasa_blanco: 0.6873327493667603\n",
      "\tjared_kushner: 0.681614100933075\n",
      "- carbono:\n",
      "\tcarbono_co2: 0.6689749360084534\n",
      "\tco2: 0.6376862525939941\n",
      "\tdioxido_carbono: 0.5680075883865356\n",
      "\tcarbono_atmosfera: 0.5564220547676086\n",
      "\temisión_carbono: 0.5561712384223938\n",
      "- co2:\n",
      "\tdioxido_carbono: 0.7185477614402771\n",
      "\tgas: 0.6700997352600098\n",
      "\tco2_atmosfera: 0.6613765358924866\n",
      "\tbioxido_carbono: 0.6492912769317627\n",
      "\tcarbono_co2: 0.6387340426445007\n",
      "- cambioclimatico:\n",
      "\tcambio_climatico: 0.7836849093437195\n",
      "\tcalentamientoglobal: 0.5788902044296265\n",
      "\tcalentamiento_global: 0.5747711658477783\n",
      "\tclimatica: 0.4680783152580261\n",
      "\tfuturoverde_cambioclimatico: 0.43358299136161804\n",
      "- planeta:\n",
      "\thumanidad: 0.5688831806182861\n",
      "\tmundo: 0.5632253885269165\n",
      "\tmadre_tierra: 0.5032114386558533\n",
      "\thabitante_planeta: 0.48945778608322144\n",
      "\trealmente: 0.4876115024089813\n",
      "- vida:\n",
      "\tvida_habitante: 0.5656278729438782\n",
      "\tsupervivencia: 0.5105020999908447\n",
      "\tfuturo_humanidad: 0.5025603175163269\n",
      "\tsobrevivencia: 0.49128252267837524\n",
      "\tbienestar: 0.4680280387401581\n",
      "- querer:\n",
      "\tnecesitar: 0.5818981528282166\n",
      "\tdeber: 0.5466369390487671\n",
      "\timposible: 0.5149800181388855\n",
      "\tdispuesto: 0.509633481502533\n",
      "\tgente: 0.5072038769721985\n",
      "- agua:\n",
      "\trecurso_hidrico: 0.6306358575820923\n",
      "\tagua_potable: 0.5885658860206604\n",
      "\tacceso_agua: 0.557020366191864\n",
      "\tagua_residual: 0.5515608787536621\n",
      "\thidrico: 0.5299460887908936\n",
      "- gobierno:\n",
      "\tadministracion: 0.5694125294685364\n",
      "\tclase_politico: 0.5187249183654785\n",
      "\tgobierno_federal: 0.48956769704818726\n",
      "\tadministración: 0.48116597533226013\n",
      "\tpolitico: 0.45602861046791077\n",
      "- importante:\n",
      "\tfundamental: 0.6836934089660645\n",
      "\tclave: 0.6244449615478516\n",
      "\trelevante: 0.6177605986595154\n",
      "\timportancia: 0.5935096740722656\n",
      "\tesencial: 0.5296733975410461\n",
      "- riesgo:\n",
      "\tpeligro: 0.7002095580101013\n",
      "\tamenaza: 0.6226842403411865\n",
      "\triesgo_desastre: 0.537652850151062\n",
      "\tvulnerabilidad: 0.5298087000846863\n",
      "\tafectación: 0.46920377016067505\n",
      "- efecto:\n",
      "\timpacto: 0.8050586581230164\n",
      "\tefecto_negativo: 0.7560279965400696\n",
      "\tconsecuencia: 0.7012572884559631\n",
      "\trepercusión: 0.5238841772079468\n",
      "\timpacto_negativo: 0.5153723955154419\n",
      "- donald_trump:\n",
      "\ttrump: 0.769063413143158\n",
      "\tdonaldtrump: 0.6444934606552124\n",
      "\tmagnate: 0.6068675518035889\n",
      "\ttrump_abandonar: 0.5807320475578308\n",
      "\tcasa_blanco: 0.5781099200248718\n",
      "- animal:\n",
      "\tanimal_planta: 0.5836246013641357\n",
      "\tcomer_carne: 0.5769928693771362\n",
      "\tcria: 0.5727508664131165\n",
      "\tcarnivoro: 0.5439539551734924\n",
      "\tpez: 0.5404208302497864\n",
      "- especie:\n",
      "\tmamifero: 0.6762016415596008\n",
      "\tespecie_ave: 0.648708164691925\n",
      "\tfauna: 0.6388831734657288\n",
      "\tejemplar: 0.6339743137359619\n",
      "\tespecie_animal: 0.6299051642417908\n",
      "- suelo:\n",
      "\tmateria_organico: 0.5609420537948608\n",
      "\tvegetacion: 0.5574306845664978\n",
      "\tsalinidad: 0.5384207367897034\n",
      "\tfertilidad: 0.5314513444900513\n",
      "\tnitrogeno: 0.5308809280395508\n",
      "- energia_renovable:\n",
      "\tgeneracion_energia: 0.6523856520652771\n",
      "\tenergia_limpio: 0.6330129504203796\n",
      "\tenergia: 0.6273927688598633\n",
      "\trenovable: 0.6208555102348328\n",
      "\tenergia_solar: 0.616041898727417\n"
     ]
    }
   ],
   "source": [
    "for word_i in words:\n",
    "    similar_words = w2v_model.wv.most_similar(positive=[word_i])\n",
    "    print(f\"- {word_i}:\")\n",
    "    for word, similarity in similar_words[:5]:\n",
    "        print(f\"\\t{word}: {similarity}\")"
   ]
  },
  {
   "attachments": {},
   "cell_type": "markdown",
   "metadata": {},
   "source": [
    "## Skip Gram"
   ]
  },
  {
   "cell_type": "code",
   "execution_count": 26,
   "metadata": {},
   "outputs": [
    {
     "name": "stderr",
     "output_type": "stream",
     "text": [
      "/var/folders/66/5277wsy51nj0m1lc9jvl8zt80000gn/T/ipykernel_10493/522104665.py:22: DeprecationWarning: Call to deprecated `init_sims` (Gensim 4.0.0 implemented internal optimizations that make calls to init_sims() unnecessary. init_sims() is now obsoleted and will be completely removed in future versions. See https://github.com/RaRe-Technologies/gensim/wiki/Migrating-from-Gensim-3.x-to-4).\n",
      "  w2v_model_sg.init_sims(replace=True)\n"
     ]
    }
   ],
   "source": [
    "w2v_model_sg = Word2Vec(\n",
    "    #min_count=20,\n",
    "    #window=2,\n",
    "    #sample=6e-5, \n",
    "    #alpha=0.03, \n",
    "    #min_alpha=0.0007, \n",
    "    #negative=20,\n",
    "    #vector_size=100\n",
    "    workers=cores-1,\n",
    "    sg=1, # 0: CBOW, 1:SkipGram (SG)\n",
    ")\n",
    "w2v_model_sg.build_vocab(\n",
    "    posts_bigram, \n",
    "    progress_per=10000\n",
    ")\n",
    "w2v_model_sg.train(\n",
    "    posts_bigram, \n",
    "    total_examples=w2v_model_sg.corpus_count, \n",
    "    epochs=30, \n",
    "    report_delay=1\n",
    ")\n",
    "w2v_model_sg.init_sims(replace=True)"
   ]
  },
  {
   "cell_type": "code",
   "execution_count": 27,
   "metadata": {},
   "outputs": [
    {
     "name": "stdout",
     "output_type": "stream",
     "text": [
      "- mitigar:\n",
      "\treal_ignorar: 0.6324738264083862\n",
      "\tmitigacion: 0.6175702810287476\n",
      "\tacuerdodeparis_diamundialdelmedioambiente: 0.6166343688964844\n",
      "\tsiembratuarbol_somosagua: 0.6084444522857666\n",
      "\tmeridasustentable: 0.6078000068664551\n",
      "- barack_obama:\n",
      "\tobama: 0.7596992254257202\n",
      "\tpresidente_estadounidense: 0.6941325664520264\n",
      "\tpresidente_barack: 0.6796662211418152\n",
      "\talimento_italia: 0.6785914897918701\n",
      "\tpresidente_unidos: 0.6672163009643555\n",
      "- trump:\n",
      "\tpresidente_donald: 0.8515974879264832\n",
      "\tdonald_trump: 0.8329284191131592\n",
      "\tdonald_j: 0.8207350373268127\n",
      "\tpresidente_estadounidense: 0.7852088212966919\n",
      "\tcasa_blanco: 0.7699518203735352\n",
      "- cientifico:\n",
      "\tinvestigador: 0.7872556447982788\n",
      "\tuw: 0.6343178749084473\n",
      "\tbingham: 0.6016221642494202\n",
      "\tuniversidad_swansea: 0.6015684604644775\n",
      "\tswansea_reino: 0.59540194272995\n",
      "- medio_ambiente:\n",
      "\tmedioambiente: 0.6795229911804199\n",
      "\tambiente: 0.588155210018158\n",
      "\trecurso_natural: 0.5688627362251282\n",
      "\tcoordinacion_secretaria: 0.5664451122283936\n",
      "\tmigliolo: 0.5526994466781616\n",
      "- proyecto:\n",
      "\tlanzamiento_proyecto: 0.62410569190979\n",
      "\tpresentacion_proyecto: 0.6098505854606628\n",
      "\tcofinanciado_programa: 0.608420729637146\n",
      "\tcristiano_autonoma: 0.5978950262069702\n",
      "\tadaptate: 0.595962643623352\n",
      "- presidente:\n",
      "\texpresidente: 0.6020570397377014\n",
      "\tnicaragua_daniel: 0.597120463848114\n",
      "\tmichel_temer: 0.5971150398254395\n",
      "\ttratar_invencion: 0.5969215035438538\n",
      "\tmandatario: 0.5946102142333984\n",
      "- casa_blanca:\n",
      "\tcasa_blanco: 0.7144579887390137\n",
      "\testratega_jefe: 0.6804448962211609\n",
      "\tsteve_bannon: 0.6625788807868958\n",
      "\tindirecta: 0.6612861156463623\n",
      "\tpresidente_estadounidense: 0.660808265209198\n",
      "- carbono:\n",
      "\temisión_dioxido: 0.7208070755004883\n",
      "\ttorre_albergar: 0.6590158343315125\n",
      "\tcantidad_dioxido: 0.6549932360649109\n",
      "\tabsorbera_130: 0.6538383960723877\n",
      "\tdisminuir_huella: 0.638553261756897\n",
      "- co2:\n",
      "\tdioxido_carbono: 0.7714810371398926\n",
      "\tacumular_atmosfera: 0.7343086004257202\n",
      "\tco2_atmosfera: 0.731084942817688\n",
      "\tcapturemos: 0.716771125793457\n",
      "\tcarbono_co2: 0.7083165049552917\n",
      "- cambioclimatico:\n",
      "\tcambio_climatico: 0.7974692583084106\n",
      "\tcalentamientoglobal: 0.7045161724090576\n",
      "\tfuturoverdeorg: 0.613797128200531\n",
      "\tcambioclimatico_futuroverde: 0.5810806751251221\n",
      "\t350latinoamerica_350argentina: 0.5791807174682617\n",
      "- planeta:\n",
      "\thumanidad: 0.6136046648025513\n",
      "\tmundo: 0.6070416569709778\n",
      "\tenfermar_enfermar: 0.6059349775314331\n",
      "\trespetar_amar: 0.5982075333595276\n",
      "\tdisfrutar_comparta: 0.593843936920166\n",
      "- vida:\n",
      "\tdesamor: 0.6500763893127441\n",
      "\tcatastrof_cosmica: 0.6374599933624268\n",
      "\tclarisimos: 0.6170152425765991\n",
      "\tpatrick_favor: 0.6090430021286011\n",
      "\tempresa_regeneradora: 0.6029828786849976\n",
      "- querer:\n",
      "\tlanudo: 0.6771717071533203\n",
      "\tlanudo_planeta: 0.6588221192359924\n",
      "\tlanudo_grandesmedio: 0.6569344997406006\n",
      "\tobra_super: 0.6334987878799438\n",
      "\tcontrucción_vivir: 0.6301683783531189\n",
      "- agua:\n",
      "\trecurso_hidrico: 0.6353060007095337\n",
      "\tagua_potable: 0.6220986843109131\n",
      "\ttrailer_historia: 0.5963956713676453\n",
      "\thidrico: 0.5922821760177612\n",
      "\tagua_residual: 0.5908801555633545\n",
      "- gobierno:\n",
      "\tadopte: 0.5576683282852173\n",
      "\tcanada_colombia: 0.5575710535049438\n",
      "\tautonomica: 0.543740451335907\n",
      "\tmencionado_3: 0.5403603911399841\n",
      "\tdoble_discurso: 0.5400242805480957\n",
      "- importante:\n",
      "\tfundamental: 0.6867935061454773\n",
      "\timportancia: 0.6008437871932983\n",
      "\tvital: 0.5828338861465454\n",
      "\tsignificativo: 0.569960355758667\n",
      "\tcuerpo_significar: 0.5670331120491028\n",
      "- riesgo:\n",
      "\t1991_planeta: 0.7163980007171631\n",
      "\tshell_descubrio: 0.6828411817550659\n",
      "\tpeligro: 0.597687304019928\n",
      "\tamenaza: 0.5865459442138672\n",
      "\tprobabilistico: 0.5862752199172974\n",
      "- efecto:\n",
      "\timpacto: 0.741592288017273\n",
      "\tconsecuencia: 0.7105783224105835\n",
      "\tsubrayar_pescador: 0.6138226985931396\n",
      "\tefecto_negativo: 0.609275758266449\n",
      "\tlagrima_video: 0.6020903587341309\n",
      "- donald_trump:\n",
      "\tpresidente_unidos: 0.8960326910018921\n",
      "\ttrump: 0.8329284191131592\n",
      "\tpresidente_eeuu: 0.8289672136306763\n",
      "\tpresidente_estadounidense: 0.8235903978347778\n",
      "\tretirar_unidos: 0.754400908946991\n",
      "- animal:\n",
      "\tensordecir: 0.6614197492599487\n",
      "\tprovocandol: 0.6520342826843262\n",
      "\tmorir_dias: 0.6470523476600647\n",
      "\tpatrick_manejar: 0.639880895614624\n",
      "\tquerer_indefenso: 0.6393768191337585\n",
      "- especie:\n",
      "\tendemica: 0.7139002084732056\n",
      "\tanfibio: 0.7046301364898682\n",
      "\tespecie_ave: 0.7023217678070068\n",
      "\treptil_anfibio: 0.6851885318756104\n",
      "\tespecie_endemica: 0.6730588674545288\n",
      "- suelo:\n",
      "\tmateria_organico: 0.7328294515609741\n",
      "\tcarbono_organico: 0.6958204507827759\n",
      "\tcapacidad_retencion: 0.6556463241577148\n",
      "\tsobrepastoreo: 0.6438175439834595\n",
      "\tprevenir_erosion: 0.6358096599578857\n",
      "- energia_renovable:\n",
      "\trenovable: 0.7670249342918396\n",
      "\tgeneracion_energia: 0.7362611889839172\n",
      "\tenergia_solar: 0.7063691020011902\n",
      "\teficiencia_energetico: 0.7059453725814819\n",
      "\teolica_solar: 0.6968404650688171\n"
     ]
    }
   ],
   "source": [
    "for word_i in words:\n",
    "    similar_words = w2v_model_sg.wv.most_similar(positive=[word_i])\n",
    "    print(f\"- {word_i}:\")\n",
    "    for word, similarity in similar_words[:5]:\n",
    "        print(f\"\\t{word}: {similarity}\")"
   ]
  },
  {
   "attachments": {},
   "cell_type": "markdown",
   "metadata": {},
   "source": [
    "# T-SNE"
   ]
  },
  {
   "cell_type": "code",
   "execution_count": 28,
   "metadata": {},
   "outputs": [],
   "source": [
    "import matplotlib.pyplot as plt\n",
    "import numpy as np\n",
    "from sklearn.manifold import TSNE"
   ]
  },
  {
   "cell_type": "code",
   "execution_count": 29,
   "metadata": {},
   "outputs": [],
   "source": [
    "word_vectors = [w2v_model.wv[word] for word in words]\n",
    "word_vectors = np.array(word_vectors)\n",
    "\n",
    "word_vectors_sg = [w2v_model_sg.wv[word] for word in words]\n",
    "word_vectors_sg = np.array(word_vectors_sg)"
   ]
  },
  {
   "cell_type": "code",
   "execution_count": 30,
   "metadata": {},
   "outputs": [
    {
     "data": {
      "image/png": "[encoded data removed]",
      "text/plain": [
       "<Figure size 1000x600 with 1 Axes>"
      ]
     },
     "metadata": {},
     "output_type": "display_data"
    }
   ],
   "source": [
    "tsne_model = TSNE(n_components=2, random_state=42, perplexity=10)\n",
    "tsne_vectors = tsne_model.fit_transform(word_vectors)\n",
    "\n",
    "plt.figure(figsize=(10, 6))\n",
    "for i, word in enumerate(words):\n",
    "    plt.scatter(tsne_vectors[i, 0], tsne_vectors[i, 1])\n",
    "    plt.annotate(word, xy=(tsne_vectors[i, 0], tsne_vectors[i, 1]), xytext=(5, 2), textcoords='offset points', ha='right', va='bottom')\n",
    "\n",
    "plt.title('t-SNE Visualization of Word Vectors (CBOW)')\n",
    "plt.xlabel('t-SNE Dimension 1')\n",
    "plt.ylabel('t-SNE Dimension 2')\n",
    "plt.show()"
   ]
  },
  {
   "cell_type": "code",
   "execution_count": 31,
   "metadata": {},
   "outputs": [
    {
     "data": {
      "image/png": "[encoded data removed]",
      "text/plain": [
       "<Figure size 1000x600 with 1 Axes>"
      ]
     },
     "metadata": {},
     "output_type": "display_data"
    }
   ],
   "source": [
    "tsne_model = TSNE(n_components=2, random_state=42, perplexity=10)\n",
    "tsne_vectors = tsne_model.fit_transform(word_vectors)\n",
    "\n",
    "plt.figure(figsize=(10, 6))\n",
    "for i, word in enumerate(words):\n",
    "    plt.scatter(tsne_vectors[i, 0], tsne_vectors[i, 1])\n",
    "    plt.annotate(word, xy=(tsne_vectors[i, 0], tsne_vectors[i, 1]), xytext=(5, 2), textcoords='offset points', ha='right', va='bottom')\n",
    "\n",
    "plt.title('t-SNE Visualization of Word Vectors (CBOW)')\n",
    "plt.xlabel('t-SNE Dimension 1')\n",
    "plt.ylabel('t-SNE Dimension 2')\n",
    "plt.show()"
   ]
  },
  {
   "cell_type": "code",
   "execution_count": null,
   "metadata": {},
   "outputs": [],
   "source": []
  },
  {
   "cell_type": "code",
   "execution_count": null,
   "metadata": {},
   "outputs": [],
   "source": []
  }
 ],
 "metadata": {
  "kernelspec": {
   "display_name": "env_nanook",
   "language": "python",
   "name": "python3"
  },
  "language_info": {
   "codemirror_mode": {
    "name": "ipython",
    "version": 3
   },
   "file_extension": ".py",
   "mimetype": "text/x-python",
   "name": "python",
   "nbconvert_exporter": "python",
   "pygments_lexer": "ipython3",
   "version": "3.11.8"
  },
  "orig_nbformat": 4
 },
 "nbformat": 4,
 "nbformat_minor": 2
}
